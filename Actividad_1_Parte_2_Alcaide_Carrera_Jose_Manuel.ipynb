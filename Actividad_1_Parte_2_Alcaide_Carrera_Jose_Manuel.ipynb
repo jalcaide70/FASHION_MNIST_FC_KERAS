{
 "cells": [
  {
   "cell_type": "markdown",
   "metadata": {
    "colab_type": "text",
    "id": "4ip9ysnsTFqJ"
   },
   "source": [
    "# Segunda parte: Aspectos prácticos de las redes neuronales\n",
    "\n",
    "En esta segunda parte, vamos a continuar desarrollando el problema de Fashion MNIST, con el objetivo de entender los aspectos prácticos del entrenamiento de redes neuronales que hemos visto en el Tema 4.\n",
    "\n",
    "El código utilizado para contestar tiene que quedar claramente reflejado en el Notebook. Puedes crear nuevas cells si así lo deseas para estructurar tu código y sus salidas. A la hora de entregar el notebook, **asegúrate de que los resultados de ejecutar tu código han quedado guardados**. "
   ]
  },
  {
   "cell_type": "code",
   "execution_count": 1,
   "metadata": {
    "colab": {
     "base_uri": "https://localhost:8080/",
     "height": 35
    },
    "colab_type": "code",
    "executionInfo": {
     "elapsed": 2758,
     "status": "ok",
     "timestamp": 1589393515057,
     "user": {
      "displayName": "Jose Alcaide",
      "photoUrl": "https://lh3.googleusercontent.com/a-/AOh14Gh0oUNuML9-DLG8N62UMYSReO9bvu-Is30bpWCJ=s64",
      "userId": "15022740438935184894"
     },
     "user_tz": -120
    },
    "id": "yQ1DOKSRTFqK",
    "outputId": "84f25147-7853-4e2c-a578-5111aea8b13b"
   },
   "outputs": [
    {
     "name": "stderr",
     "output_type": "stream",
     "text": [
      "Using TensorFlow backend.\n"
     ]
    }
   ],
   "source": [
    "import keras\n",
    "from keras.datasets import fashion_mnist\n",
    "from keras.models import Sequential\n",
    "from keras.layers import Dense, Dropout, Flatten, BatchNormalization, Activation\n",
    "from keras.callbacks import EarlyStopping\n",
    "import tensorflow as tf\n",
    "from tensorflow.keras import regularizers\n",
    "from tensorflow.keras import optimizers\n",
    "from sklearn.metrics import classification_report, confusion_matrix\n",
    "\n",
    "\n",
    "import matplotlib\n",
    "import matplotlib.pyplot as plt\n",
    "\n",
    "\n",
    "import time\n",
    "import numpy as np\n",
    "import pandas as pd\n",
    "\n",
    "np.random.seed(0)\n",
    "\n",
    "import warnings\n",
    "warnings.filterwarnings('ignore')"
   ]
  },
  {
   "cell_type": "code",
   "execution_count": 2,
   "metadata": {},
   "outputs": [],
   "source": [
    "#import tensorflow as tf\n",
    "#from keras.backend import tensorflow_backend\n",
    "#config = tf.ConfigProto(gpu_options=tf.GPUOptions(allow_growth=True))\n",
    "#session = tf.Session(config=config)\n",
    "#tensorflow_backend.set_session(session)\n",
    "## required for efficient GPU use"
   ]
  },
  {
   "cell_type": "markdown",
   "metadata": {
    "colab_type": "text",
    "id": "lBY7qt3mTFqM"
   },
   "source": [
    "#### Obtención de los datos y pre-processing"
   ]
  },
  {
   "cell_type": "code",
   "execution_count": 3,
   "metadata": {
    "colab": {
     "base_uri": "https://localhost:8080/",
     "height": 163
    },
    "colab_type": "code",
    "executionInfo": {
     "elapsed": 9395,
     "status": "ok",
     "timestamp": 1589393521698,
     "user": {
      "displayName": "Jose Alcaide",
      "photoUrl": "https://lh3.googleusercontent.com/a-/AOh14Gh0oUNuML9-DLG8N62UMYSReO9bvu-Is30bpWCJ=s64",
      "userId": "15022740438935184894"
     },
     "user_tz": -120
    },
    "id": "PImY4g9yTFqM",
    "outputId": "b7017621-c47e-41fe-d7d6-96006a5a6c49"
   },
   "outputs": [],
   "source": [
    "(x_train, y_train), (x_test, y_test) = fashion_mnist.load_data()\n",
    "x_train = x_train / 255.0\n",
    "x_test = x_test / 255.0"
   ]
  },
  {
   "cell_type": "markdown",
   "metadata": {
    "colab_type": "text",
    "id": "zJyX2Bk8TFqO"
   },
   "source": [
    "## Consideraciones iniciales"
   ]
  },
  {
   "cell_type": "markdown",
   "metadata": {
    "colab_type": "text",
    "id": "jRmct5ogTFqO"
   },
   "source": [
    "### Train-validation-test split\n",
    "\n",
    "En todos los modelos que entrenemos, vamos a partir los datos de training (x_train) en dos sets: training y validación. De este modo, al final tendremos tres datasets distintos: training, validation, y test. Esta es una estrategia común en el aprendizaje automático, en la que los datos de test (o held-out data) se \n",
    "\"esconden\" hasta el final. Los datos de validación se utilizan para estimar cómo de bien están funcionando nuestros modelos y para observar si estamos cayendo en overfitting. Esto nos permite cambiar hiperparámetros y probar distintas arquitecturas **sabiendo que no estamos utilizando información del test set para \"optimizar\" los resultados en éste** (si eligiéramos nuestro mejor modelo en base a los resultados de test, estaríamos \"haciendo trampas\", ya que se ha utilizado la información contenida en éste para elegir el modelo y las métricas reportadas serían optimistas).\n",
    "\n",
    "Para utilizar un split training-validation data durante el entrenamiento, podemos partir nosotros mismos los datos o dejar que Keras lo haga. Podéis ver cómo hacer estas particiones en la documentación de *fit*.\n",
    "\n",
    "**Requisito: En todos los entrenamientos de esta práctica, se requiere utilizar el 20% de los datos en x_train como  conjunto de datos de validación**"
   ]
  },
  {
   "cell_type": "markdown",
   "metadata": {
    "colab_type": "text",
    "id": "BttR0CzHTFqP"
   },
   "source": [
    "### Un error común con modelos de Keras\n",
    "\n",
    "En esta práctica entrenaremos varios modelos para comparar resultados. Un error común en Keras es no instanciar un nuevo modelo cada vez que hacemos un nuevo entrenamiento. Al hacer\n",
    "\n",
    "*model = Sequential()*\n",
    "\n",
    "*model.add(lo que sea)  # Definición del modelo*\n",
    "\n",
    "*model.fit()*\n",
    "\n",
    "si queremos entrenar un nuevo modelo o el mismo modelo otra vez, es necesario volver a inicializar el modelo con model = Sequential(). Si olvidamos este paso y volvemos a hacer fit(), el modelo seguirá entrenando por donde se quedó en el último fit()."
   ]
  },
  {
   "cell_type": "markdown",
   "metadata": {
    "colab_type": "text",
    "id": "X7REMbqlTFqP"
   },
   "source": [
    "### Análisis de resultados \n",
    "\n",
    "A la hora de escribir las respuestas y los análisis pedidos, es importante presentar las conclusiones de manera adecuada a partir de lo visto en nuestros experimentos. Los Jupyter Notebook son una herramienta imprescindible para *data scientists* e ingenieros de Machine Learning para presentar los resultados, incluyendo soporte para incluir gráficas y elementos visuales. Podéis explicar vuestras observaciones del modo que consideréis adecuado, si bien recomendamos la utilización de gráficas para evaluar los entrenamientos y comparar resultados.\n",
    "\n",
    "Como ayuda, las siguientes funciones pueden resultar interesantes a la hora de evaluar resultados. Todas ellas utilizan el objeto *history* que podéis obtener como salida del método *fit()* de Keras:\n",
    "\n",
    "history = model.fit(x_train, y_train, ...)\n",
    "\n",
    "Por supuesto, podéis modificarlas y utilizarlas como prefiráis para crear vuestros propios informes."
   ]
  },
  {
   "cell_type": "markdown",
   "metadata": {
    "colab_type": "text",
    "id": "M_yZ9B8gTFqR"
   },
   "source": [
    "## 1. Unidades de activación"
   ]
  },
  {
   "cell_type": "markdown",
   "metadata": {
    "colab_type": "text",
    "id": "MuVNxmXSTFqR"
   },
   "source": [
    "En este ejercicio, vamos a evaluar la importancia de utilizar las unidades de activación adecuadas. Como hemos visto en clase, funciones de activación como sigmoid han dejado de utilizarse en favor de otras unidades como ReLU.\n",
    "\n",
    "**Ejercicio 1 *(1.25 puntos)***: Partiendo de una red sencilla como la desarrollada en el Trabajo 1, escribir un breve análisis comparando la utilización de unidades sigmoid y ReLU (por ejemplo, se pueden comentar aspectos como velocidad de convergencia, métricas obtenidas...). Explicar por qué pueden darse estas diferencias. Opcionalmente, comparar con otras activaciones disponibles en Keras.\n",
    "\n",
    "*Pista: Usando redes más grandes se hace más sencillo apreciar las diferencias. Es mejor utilizar al menos 3 o 4 capas densas.*"
   ]
  },
  {
   "cell_type": "markdown",
   "metadata": {
    "colab_type": "text",
    "id": "uFXHm74R7miC"
   },
   "source": [
    "Incluyo aqui las funciones para graficar que son usadas después, pero con algunos cambios a las originales."
   ]
  },
  {
   "cell_type": "code",
   "execution_count": 4,
   "metadata": {
    "colab": {},
    "colab_type": "code",
    "id": "8lGzOHcs0_Fd"
   },
   "outputs": [],
   "source": [
    "def plot_acc(history, title=\"Model Accuracy\"):\n",
    "    \"\"\"Imprime una gráfica mostrando la accuracy por epoch obtenida en un entrenamiento\"\"\"\n",
    "    plt.plot(history.history['accuracy'])\n",
    "    plt.plot(history.history['val_accuracy'])\n",
    "    plt.title(title)\n",
    "    plt.ylabel('Accuracy')\n",
    "    plt.xlabel('Epoch')\n",
    "    plt.legend(['Train', 'Val'], loc='upper left')\n",
    "    plt.grid(True)\n",
    "    plt.show()\n",
    "    \n",
    "def plot_loss(history, title=\"Model Loss\"):\n",
    "    \"\"\"Imprime una gráfica mostrando la pérdida por epoch obtenida en un entrenamiento\"\"\"\n",
    "    plt.plot(history.history['loss'])\n",
    "    plt.plot(history.history['val_loss'])\n",
    "    plt.title(title)\n",
    "    plt.ylabel('Loss')\n",
    "    plt.xlabel('Epoch')\n",
    "    plt.legend(['Train', 'Val'], loc='upper right')\n",
    "    plt.show()\n",
    "    \n",
    "def plot_compare_losses(history1, history2, name1=\"Red 1\",\n",
    "                        name2=\"Red 2\", title=\"Graph title\"):\n",
    "    \"\"\"Compara losses de dos entrenamientos con nombres name1 y name2\"\"\"\n",
    "    plt.plot(history1.history['loss'], color=\"green\")\n",
    "    plt.plot(history1.history['val_loss'], 'r--', color=\"green\")\n",
    "    plt.plot(history2.history['loss'], color=\"blue\")\n",
    "    plt.plot(history2.history['val_loss'], 'r--', color=\"blue\")\n",
    "    plt.title(title)\n",
    "    plt.ylabel('Loss')\n",
    "    plt.xlabel('Epoch')\n",
    "    plt.legend(['Train ' + name1, 'Val ' + name1, \n",
    "                'Train ' + name2, 'Val ' + name2],\n",
    "               loc='upper right')\n",
    "    plt.show()\n",
    "    \n",
    "def plot_compare_accs(history1, history2, name1=\"Red 1\",\n",
    "                      name2=\"Red 2\", title=\"Graph title\"):\n",
    "    \"\"\"Compara accuracies de dos entrenamientos con nombres name1 y name2\"\"\"\n",
    "    plt.plot(history1.history['accuracy'], color=\"green\")\n",
    "    plt.plot(history1.history['val_accuracy'], 'r--', color=\"green\")\n",
    "    plt.plot(history2.history['accuracy'], color=\"blue\")\n",
    "    plt.plot(history2.history['val_accuracy'], 'r--', color=\"blue\")\n",
    "    plt.title(title)\n",
    "    plt.ylabel('Accuracy')\n",
    "    plt.xlabel('Epoch')\n",
    "    plt.legend(['Train ' + name1, 'Val ' + name1, \n",
    "                'Train ' + name2, 'Val ' + name2], \n",
    "               loc='lower right')\n",
    "    plt.show()"
   ]
  },
  {
   "cell_type": "markdown",
   "metadata": {
    "colab_type": "text",
    "id": "cZ4LNnMT8BPD"
   },
   "source": [
    "* Información básica de los conjuntos de datos"
   ]
  },
  {
   "cell_type": "code",
   "execution_count": 5,
   "metadata": {
    "colab": {
     "base_uri": "https://localhost:8080/",
     "height": 90
    },
    "colab_type": "code",
    "executionInfo": {
     "elapsed": 9383,
     "status": "ok",
     "timestamp": 1589393521699,
     "user": {
      "displayName": "Jose Alcaide",
      "photoUrl": "https://lh3.googleusercontent.com/a-/AOh14Gh0oUNuML9-DLG8N62UMYSReO9bvu-Is30bpWCJ=s64",
      "userId": "15022740438935184894"
     },
     "user_tz": -120
    },
    "id": "flVTxm5KxOsy",
    "outputId": "76c13704-74f9-4be6-ef40-ad26710afe86"
   },
   "outputs": [
    {
     "name": "stdout",
     "output_type": "stream",
     "text": [
      "Número de imagenes en dataset de entrenamiento:  60000\n",
      "Número de pixeles de cada imagen:  28  x  28\n",
      "Número de imagenes en dataset de test:  10000\n",
      "Clases a predecir:  [0 1 2 3 4 5 6 7 8 9]\n"
     ]
    }
   ],
   "source": [
    "print('Número de imagenes en dataset de entrenamiento: ', x_train.shape[0])\n",
    "print('Número de pixeles de cada imagen: ', x_train.shape[1], ' x ', x_train.shape[2])\n",
    "print('Número de imagenes en dataset de test: ', x_test.shape[0])\n",
    "print(\"Clases a predecir: \", np.unique(y_train))"
   ]
  },
  {
   "cell_type": "markdown",
   "metadata": {
    "colab_type": "text",
    "id": "pXi5M3qxqTdw"
   },
   "source": [
    "### Para la resolución de este apartado, hemos decidido usar siete funciones de activación que ofrece keras y vamos a realizar una comparación teniendo en cuenta el tiempo de ejecución y los valores de accuracy en el dataset de test y validación. Hay que remarcar que cada vez que se ejecuta los resultados pueden ser distintos. Vamos a comentar el ejercicion con la última ejecución realizada."
   ]
  },
  {
   "cell_type": "markdown",
   "metadata": {
    "colab_type": "text",
    "id": "EyJaBzaNt0lG"
   },
   "source": [
    "### Para todos los modelos de esta sección vamos a partir del modelo realizado en la primera parte de esta actividad, cambiamos en cada modelo la función de activación, desactivamos la monitorización de los mismos por petición de la propia actividad, e introducimos el cálculo del tiempo en ejcucción. Pedimos un resumen despues de la realización de éstos."
   ]
  },
  {
   "cell_type": "markdown",
   "metadata": {
    "colab_type": "text",
    "id": "aI_6kG8h2o5s"
   },
   "source": [
    "# Modelo 1: Usando tres funciones de activación intermedias del tipo Sigmoid, creando un conjunto de validación con el 20% de las imagenes del dataset test."
   ]
  },
  {
   "cell_type": "code",
   "execution_count": 6,
   "metadata": {
    "colab": {
     "base_uri": "https://localhost:8080/",
     "height": 72
    },
    "colab_type": "code",
    "executionInfo": {
     "elapsed": 77204,
     "status": "ok",
     "timestamp": 1589393589530,
     "user": {
      "displayName": "Jose Alcaide",
      "photoUrl": "https://lh3.googleusercontent.com/a-/AOh14Gh0oUNuML9-DLG8N62UMYSReO9bvu-Is30bpWCJ=s64",
      "userId": "15022740438935184894"
     },
     "user_tz": -120
    },
    "id": "LZE6gVXsxO2b",
    "outputId": "55a6fcec-cbb7-4d59-b0bd-bd0822a40e03"
   },
   "outputs": [
    {
     "name": "stdout",
     "output_type": "stream",
     "text": [
      "Tiempo de ejecución del modelo 1 en segundos: 44.25123953819275\n",
      "La accuracy en entrenamiento del modelo_1 es:  0.6657708\n",
      "La accuracy en validación del modelo_1 es:  0.6712499856948853\n"
     ]
    }
   ],
   "source": [
    "start1 = time.time()\n",
    "model_1 = keras.Sequential([\n",
    "    keras.layers.Flatten(input_shape=(28, 28)),\n",
    "    keras.layers.Dense(128, activation='sigmoid'),\n",
    "    keras.layers.Dense(64, activation='sigmoid'),\n",
    "    keras.layers.Dense(64, activation='sigmoid'),\n",
    "    keras.layers.Dense(10, activation='softmax')\n",
    "])\n",
    "\n",
    "\n",
    "model_1.compile(optimizer='sgd',\n",
    "              loss='sparse_categorical_crossentropy',\n",
    "              metrics=['accuracy'])\n",
    "\n",
    "history_1 = model_1.fit(x_train, y_train, epochs=20, batch_size= 64,  validation_split = 0.2, shuffle=True, verbose= 0)\n",
    "\n",
    "end1 = time.time()\n",
    "\n",
    "end1_1 = end1 - start1\n",
    "\n",
    "print(\"Tiempo de ejecución del modelo 1 en segundos:\", end1 - start1)\n",
    "print(\"La accuracy en entrenamiento del modelo_1 es: \", np.max(history_1.history['accuracy']))\n",
    "print(\"La accuracy en validación del modelo_1 es: \", np.max(history_1.history['val_accuracy']))\n"
   ]
  },
  {
   "cell_type": "markdown",
   "metadata": {
    "colab_type": "text",
    "id": "IoYFSo4JSPB8"
   },
   "source": [
    "* Para todos los modelos vamos a pedir un resumen que nos indique el tipo de modelo, el tipo de capa, neuronas por capas y parametros tanto por capas como el total."
   ]
  },
  {
   "cell_type": "code",
   "execution_count": 7,
   "metadata": {
    "colab": {
     "base_uri": "https://localhost:8080/",
     "height": 345
    },
    "colab_type": "code",
    "executionInfo": {
     "elapsed": 77195,
     "status": "ok",
     "timestamp": 1589393589532,
     "user": {
      "displayName": "Jose Alcaide",
      "photoUrl": "https://lh3.googleusercontent.com/a-/AOh14Gh0oUNuML9-DLG8N62UMYSReO9bvu-Is30bpWCJ=s64",
      "userId": "15022740438935184894"
     },
     "user_tz": -120
    },
    "id": "teaBxqgmPDeX",
    "outputId": "ad29df8a-7fe0-4511-b60f-f781e766b133"
   },
   "outputs": [
    {
     "name": "stdout",
     "output_type": "stream",
     "text": [
      "Model: \"sequential_1\"\n",
      "_________________________________________________________________\n",
      "Layer (type)                 Output Shape              Param #   \n",
      "=================================================================\n",
      "flatten_1 (Flatten)          (None, 784)               0         \n",
      "_________________________________________________________________\n",
      "dense_1 (Dense)              (None, 128)               100480    \n",
      "_________________________________________________________________\n",
      "dense_2 (Dense)              (None, 64)                8256      \n",
      "_________________________________________________________________\n",
      "dense_3 (Dense)              (None, 64)                4160      \n",
      "_________________________________________________________________\n",
      "dense_4 (Dense)              (None, 10)                650       \n",
      "=================================================================\n",
      "Total params: 113,546\n",
      "Trainable params: 113,546\n",
      "Non-trainable params: 0\n",
      "_________________________________________________________________\n"
     ]
    }
   ],
   "source": [
    "model_1.summary()"
   ]
  },
  {
   "cell_type": "markdown",
   "metadata": {
    "colab_type": "text",
    "id": "6er_nHiZuXZ4"
   },
   "source": [
    "## Modelo 2: Usando tres funciones de activación intermedias del tipo Relu, creando un conjunto de validación con el 20% de las imagenes del dataset test."
   ]
  },
  {
   "cell_type": "code",
   "execution_count": 8,
   "metadata": {
    "colab": {
     "base_uri": "https://localhost:8080/",
     "height": 72
    },
    "colab_type": "code",
    "executionInfo": {
     "elapsed": 134065,
     "status": "ok",
     "timestamp": 1589393646412,
     "user": {
      "displayName": "Jose Alcaide",
      "photoUrl": "https://lh3.googleusercontent.com/a-/AOh14Gh0oUNuML9-DLG8N62UMYSReO9bvu-Is30bpWCJ=s64",
      "userId": "15022740438935184894"
     },
     "user_tz": -120
    },
    "id": "ujWlYgx-XB3s",
    "outputId": "4ecb3c0d-fc61-4032-cd05-ad2c90a1254c"
   },
   "outputs": [
    {
     "name": "stdout",
     "output_type": "stream",
     "text": [
      "Tiempo de ejecución del modelo 2 en segundos: 43.33907508850098\n",
      "La accuracy en entrenamiento del modelo_2 es:  0.8855\n",
      "La accuracy en validación del modelo_2 es:  0.8743333220481873\n"
     ]
    }
   ],
   "source": [
    "start2 = time.time()\n",
    "model_2 = keras.Sequential([\n",
    "    keras.layers.Flatten(input_shape=(28, 28)),\n",
    "    keras.layers.Dense(128, activation='relu'),\n",
    "    keras.layers.Dense(64, activation='relu'),\n",
    "    keras.layers.Dense(64, activation='relu'),\n",
    "    keras.layers.Dense(10, activation='softmax')\n",
    "])\n",
    "\n",
    "\n",
    "model_2.compile(optimizer='sgd',\n",
    "              loss='sparse_categorical_crossentropy',\n",
    "              metrics=['accuracy'])\n",
    "\n",
    "history_2 = model_2.fit(x_train, y_train, epochs=20, batch_size= 64,validation_split=0.2, verbose=0, shuffle=True)\n",
    "\n",
    "end2 = time.time()\n",
    "\n",
    "end2_1 = end2 - start2\n",
    "\n",
    "print(\"Tiempo de ejecución del modelo 2 en segundos:\", end2 - start2)\n",
    "print(\"La accuracy en entrenamiento del modelo_2 es: \", np.max(history_2.history['accuracy']))\n",
    "print(\"La accuracy en validación del modelo_2 es: \", np.max(history_2.history['val_accuracy']))\n"
   ]
  },
  {
   "cell_type": "code",
   "execution_count": 9,
   "metadata": {
    "colab": {
     "base_uri": "https://localhost:8080/",
     "height": 345
    },
    "colab_type": "code",
    "executionInfo": {
     "elapsed": 134058,
     "status": "ok",
     "timestamp": 1589393646413,
     "user": {
      "displayName": "Jose Alcaide",
      "photoUrl": "https://lh3.googleusercontent.com/a-/AOh14Gh0oUNuML9-DLG8N62UMYSReO9bvu-Is30bpWCJ=s64",
      "userId": "15022740438935184894"
     },
     "user_tz": -120
    },
    "id": "DinF742-PG-I",
    "outputId": "0f1e162c-39a8-491f-a0be-891d804366c8"
   },
   "outputs": [
    {
     "name": "stdout",
     "output_type": "stream",
     "text": [
      "Model: \"sequential_2\"\n",
      "_________________________________________________________________\n",
      "Layer (type)                 Output Shape              Param #   \n",
      "=================================================================\n",
      "flatten_2 (Flatten)          (None, 784)               0         \n",
      "_________________________________________________________________\n",
      "dense_5 (Dense)              (None, 128)               100480    \n",
      "_________________________________________________________________\n",
      "dense_6 (Dense)              (None, 64)                8256      \n",
      "_________________________________________________________________\n",
      "dense_7 (Dense)              (None, 64)                4160      \n",
      "_________________________________________________________________\n",
      "dense_8 (Dense)              (None, 10)                650       \n",
      "=================================================================\n",
      "Total params: 113,546\n",
      "Trainable params: 113,546\n",
      "Non-trainable params: 0\n",
      "_________________________________________________________________\n"
     ]
    }
   ],
   "source": [
    "model_2.summary()"
   ]
  },
  {
   "cell_type": "markdown",
   "metadata": {
    "colab_type": "text",
    "id": "gVjH1_ly5NgR"
   },
   "source": [
    "# Modelo 3: Usando tres funciones de activación intermedias del tipo Tangente hipebólica, creando un conjunto de validación con el 20% de las imagenes del dataset test."
   ]
  },
  {
   "cell_type": "code",
   "execution_count": 10,
   "metadata": {
    "colab": {
     "base_uri": "https://localhost:8080/",
     "height": 72
    },
    "colab_type": "code",
    "executionInfo": {
     "elapsed": 192876,
     "status": "ok",
     "timestamp": 1589393705240,
     "user": {
      "displayName": "Jose Alcaide",
      "photoUrl": "https://lh3.googleusercontent.com/a-/AOh14Gh0oUNuML9-DLG8N62UMYSReO9bvu-Is30bpWCJ=s64",
      "userId": "15022740438935184894"
     },
     "user_tz": -120
    },
    "id": "B6jXnmi14zuO",
    "outputId": "67598aa1-66e7-483c-880d-4022c8fa5fd5"
   },
   "outputs": [
    {
     "name": "stdout",
     "output_type": "stream",
     "text": [
      "Tiempo de ejecución del modelo 3 en segundos: 44.75730800628662\n",
      "La accuracy en entrenamiento del modelo_3 es:  0.8830208\n",
      "La accuracy en validación del modelo_3 es:  0.871666669845581\n"
     ]
    }
   ],
   "source": [
    "start3 = time.time()\n",
    "model_3 = keras.Sequential([\n",
    "    keras.layers.Flatten(input_shape=(28, 28)),\n",
    "    keras.layers.Dense(128, activation='tanh'),\n",
    "    keras.layers.Dense(64, activation='tanh'),\n",
    "    keras.layers.Dense(64, activation='tanh'),\n",
    "    keras.layers.Dense(10, activation='softmax')\n",
    "])\n",
    "\n",
    "\n",
    "model_3.compile(optimizer='sgd',\n",
    "              loss='sparse_categorical_crossentropy',\n",
    "              metrics=['accuracy'])\n",
    "\n",
    "history_3 = model_3.fit(x_train, y_train, epochs=20, batch_size= 64,  validation_split = 0.2, shuffle=True, verbose= 0)\n",
    "\n",
    "end3 = time.time()\n",
    "\n",
    "end3_1 = end3 - start3\n",
    "\n",
    "print(\"Tiempo de ejecución del modelo 3 en segundos:\", end3 - start3)\n",
    "\n",
    "\n",
    "print(\"La accuracy en entrenamiento del modelo_3 es: \", np.max(history_3.history['accuracy']))\n",
    "print(\"La accuracy en validación del modelo_3 es: \", np.max(history_3.history['val_accuracy']))\n"
   ]
  },
  {
   "cell_type": "code",
   "execution_count": 11,
   "metadata": {
    "colab": {
     "base_uri": "https://localhost:8080/",
     "height": 345
    },
    "colab_type": "code",
    "executionInfo": {
     "elapsed": 192868,
     "status": "ok",
     "timestamp": 1589393705241,
     "user": {
      "displayName": "Jose Alcaide",
      "photoUrl": "https://lh3.googleusercontent.com/a-/AOh14Gh0oUNuML9-DLG8N62UMYSReO9bvu-Is30bpWCJ=s64",
      "userId": "15022740438935184894"
     },
     "user_tz": -120
    },
    "id": "zUvYda-5PJ2W",
    "outputId": "d77cb2d9-d035-46fa-fba8-42aecfa236d0"
   },
   "outputs": [
    {
     "name": "stdout",
     "output_type": "stream",
     "text": [
      "Model: \"sequential_3\"\n",
      "_________________________________________________________________\n",
      "Layer (type)                 Output Shape              Param #   \n",
      "=================================================================\n",
      "flatten_3 (Flatten)          (None, 784)               0         \n",
      "_________________________________________________________________\n",
      "dense_9 (Dense)              (None, 128)               100480    \n",
      "_________________________________________________________________\n",
      "dense_10 (Dense)             (None, 64)                8256      \n",
      "_________________________________________________________________\n",
      "dense_11 (Dense)             (None, 64)                4160      \n",
      "_________________________________________________________________\n",
      "dense_12 (Dense)             (None, 10)                650       \n",
      "=================================================================\n",
      "Total params: 113,546\n",
      "Trainable params: 113,546\n",
      "Non-trainable params: 0\n",
      "_________________________________________________________________\n"
     ]
    }
   ],
   "source": [
    "model_3.summary()"
   ]
  },
  {
   "cell_type": "markdown",
   "metadata": {
    "colab_type": "text",
    "id": "4lAJzD56uvfK"
   },
   "source": [
    "# Modelo 4: Usando tres funciones de activación intermedias del tipo Hard_Sigmoid, creando un conjunto de validación con el 20% de las imagenes del dataset test."
   ]
  },
  {
   "cell_type": "code",
   "execution_count": 12,
   "metadata": {
    "colab": {
     "base_uri": "https://localhost:8080/",
     "height": 72
    },
    "colab_type": "code",
    "executionInfo": {
     "elapsed": 256746,
     "status": "ok",
     "timestamp": 1589393769128,
     "user": {
      "displayName": "Jose Alcaide",
      "photoUrl": "https://lh3.googleusercontent.com/a-/AOh14Gh0oUNuML9-DLG8N62UMYSReO9bvu-Is30bpWCJ=s64",
      "userId": "15022740438935184894"
     },
     "user_tz": -120
    },
    "id": "CZYfTnN25MAQ",
    "outputId": "3b6923a9-e10f-456d-f83e-cae02e180738"
   },
   "outputs": [
    {
     "name": "stdout",
     "output_type": "stream",
     "text": [
      "Tiempo de ejecución del modelo 4 en segundos: 46.581517696380615\n",
      "La accuracy en entrenamiento del modelo_4 es:  0.6169375\n",
      "La accuracy en validación del modelo_4 es:  0.6333333253860474\n"
     ]
    }
   ],
   "source": [
    "start4 = time.time()\n",
    "model_4 = keras.Sequential([\n",
    "    keras.layers.Flatten(input_shape=(28, 28)),\n",
    "    keras.layers.Dense(128, activation='hard_sigmoid'),\n",
    "    keras.layers.Dense(64, activation='hard_sigmoid'),\n",
    "    keras.layers.Dense(64, activation='hard_sigmoid'),\n",
    "    keras.layers.Dense(10, activation='softmax')\n",
    "])\n",
    "\n",
    "\n",
    "model_4.compile(optimizer='sgd',\n",
    "              loss='sparse_categorical_crossentropy',\n",
    "              metrics=['accuracy'])\n",
    "\n",
    "history_4 = model_4.fit(x_train, y_train, epochs=20, batch_size= 64,  validation_split = 0.2, shuffle=True, verbose= 0)\n",
    "\n",
    "end4 = time.time()\n",
    "\n",
    "end4_1 = end4 - start4\n",
    "\n",
    "print(\"Tiempo de ejecución del modelo 4 en segundos:\", end4 - start4)\n",
    "\n",
    "\n",
    "print(\"La accuracy en entrenamiento del modelo_4 es: \", np.max(history_4.history['accuracy']))\n",
    "print(\"La accuracy en validación del modelo_4 es: \", np.max(history_4.history['val_accuracy']))\n"
   ]
  },
  {
   "cell_type": "code",
   "execution_count": 13,
   "metadata": {
    "colab": {
     "base_uri": "https://localhost:8080/",
     "height": 345
    },
    "colab_type": "code",
    "executionInfo": {
     "elapsed": 256738,
     "status": "ok",
     "timestamp": 1589393769129,
     "user": {
      "displayName": "Jose Alcaide",
      "photoUrl": "https://lh3.googleusercontent.com/a-/AOh14Gh0oUNuML9-DLG8N62UMYSReO9bvu-Is30bpWCJ=s64",
      "userId": "15022740438935184894"
     },
     "user_tz": -120
    },
    "id": "iDNJbUtgPNwV",
    "outputId": "ed8c6740-3cd1-43aa-aa4f-0f303e4dafb0"
   },
   "outputs": [
    {
     "name": "stdout",
     "output_type": "stream",
     "text": [
      "Model: \"sequential_4\"\n",
      "_________________________________________________________________\n",
      "Layer (type)                 Output Shape              Param #   \n",
      "=================================================================\n",
      "flatten_4 (Flatten)          (None, 784)               0         \n",
      "_________________________________________________________________\n",
      "dense_13 (Dense)             (None, 128)               100480    \n",
      "_________________________________________________________________\n",
      "dense_14 (Dense)             (None, 64)                8256      \n",
      "_________________________________________________________________\n",
      "dense_15 (Dense)             (None, 64)                4160      \n",
      "_________________________________________________________________\n",
      "dense_16 (Dense)             (None, 10)                650       \n",
      "=================================================================\n",
      "Total params: 113,546\n",
      "Trainable params: 113,546\n",
      "Non-trainable params: 0\n",
      "_________________________________________________________________\n"
     ]
    }
   ],
   "source": [
    "model_4.summary()"
   ]
  },
  {
   "cell_type": "markdown",
   "metadata": {
    "colab_type": "text",
    "id": "qRWL09ltu57k"
   },
   "source": [
    "# Modelo 5: Usando tres funciones de activación intermedias del tipo Softplus, creando un conjunto de validación con el 20% de las imagenes del dataset test."
   ]
  },
  {
   "cell_type": "code",
   "execution_count": 14,
   "metadata": {
    "colab": {
     "base_uri": "https://localhost:8080/",
     "height": 72
    },
    "colab_type": "code",
    "executionInfo": {
     "elapsed": 315061,
     "status": "ok",
     "timestamp": 1589393827461,
     "user": {
      "displayName": "Jose Alcaide",
      "photoUrl": "https://lh3.googleusercontent.com/a-/AOh14Gh0oUNuML9-DLG8N62UMYSReO9bvu-Is30bpWCJ=s64",
      "userId": "15022740438935184894"
     },
     "user_tz": -120
    },
    "id": "bsrtrvr45MFv",
    "outputId": "3dc6fa6c-4c18-4efe-b35a-c4368538082c"
   },
   "outputs": [
    {
     "name": "stdout",
     "output_type": "stream",
     "text": [
      "Tiempo de ejecución del modelo 5 en segundos: 45.13154911994934\n",
      "La accuracy en entrenamiento del modelo_5 es:  0.861\n",
      "La accuracy en validación del modelo_5 es:  0.8566666841506958\n"
     ]
    }
   ],
   "source": [
    "start5 = time.time()\n",
    "model_5 = keras.Sequential([\n",
    "    keras.layers.Flatten(input_shape=(28, 28)),\n",
    "    keras.layers.Dense(128, activation='softplus'),\n",
    "    keras.layers.Dense(64, activation='softplus'),\n",
    "    keras.layers.Dense(64, activation='softplus'),\n",
    "    keras.layers.Dense(10, activation='softmax')\n",
    "])\n",
    "\n",
    "\n",
    "model_5.compile(optimizer='sgd',\n",
    "              loss='sparse_categorical_crossentropy',\n",
    "              metrics=['accuracy'])\n",
    "\n",
    "history_5 = model_5.fit(x_train, y_train, epochs=20, batch_size= 64,  validation_split = 0.2, shuffle=True, verbose= 0)\n",
    "\n",
    "end5 = time.time()\n",
    "\n",
    "end5_1 = end5 - start5\n",
    "\n",
    "\n",
    "print(\"Tiempo de ejecución del modelo 5 en segundos:\", end5 - start5)\n",
    "\n",
    "\n",
    "print(\"La accuracy en entrenamiento del modelo_5 es: \", np.max(history_5.history['accuracy']))\n",
    "print(\"La accuracy en validación del modelo_5 es: \", np.max(history_5.history['val_accuracy']))\n"
   ]
  },
  {
   "cell_type": "code",
   "execution_count": 15,
   "metadata": {
    "colab": {
     "base_uri": "https://localhost:8080/",
     "height": 345
    },
    "colab_type": "code",
    "executionInfo": {
     "elapsed": 315054,
     "status": "ok",
     "timestamp": 1589393827462,
     "user": {
      "displayName": "Jose Alcaide",
      "photoUrl": "https://lh3.googleusercontent.com/a-/AOh14Gh0oUNuML9-DLG8N62UMYSReO9bvu-Is30bpWCJ=s64",
      "userId": "15022740438935184894"
     },
     "user_tz": -120
    },
    "id": "6KifKmb3PQIJ",
    "outputId": "f88e35c4-d47e-46f9-b4b0-e4c5c94d583a"
   },
   "outputs": [
    {
     "name": "stdout",
     "output_type": "stream",
     "text": [
      "Model: \"sequential_5\"\n",
      "_________________________________________________________________\n",
      "Layer (type)                 Output Shape              Param #   \n",
      "=================================================================\n",
      "flatten_5 (Flatten)          (None, 784)               0         \n",
      "_________________________________________________________________\n",
      "dense_17 (Dense)             (None, 128)               100480    \n",
      "_________________________________________________________________\n",
      "dense_18 (Dense)             (None, 64)                8256      \n",
      "_________________________________________________________________\n",
      "dense_19 (Dense)             (None, 64)                4160      \n",
      "_________________________________________________________________\n",
      "dense_20 (Dense)             (None, 10)                650       \n",
      "=================================================================\n",
      "Total params: 113,546\n",
      "Trainable params: 113,546\n",
      "Non-trainable params: 0\n",
      "_________________________________________________________________\n"
     ]
    }
   ],
   "source": [
    "model_5.summary()"
   ]
  },
  {
   "cell_type": "markdown",
   "metadata": {
    "colab_type": "text",
    "id": "Z3AC34B7vCJA"
   },
   "source": [
    "# Modelo 6: Usando tres funciones de activación intermedias del tipo Selu, creando un conjunto de validación con el 20% de las imagenes del dataset test."
   ]
  },
  {
   "cell_type": "code",
   "execution_count": 16,
   "metadata": {
    "colab": {
     "base_uri": "https://localhost:8080/",
     "height": 72
    },
    "colab_type": "code",
    "executionInfo": {
     "elapsed": 379034,
     "status": "ok",
     "timestamp": 1589393891451,
     "user": {
      "displayName": "Jose Alcaide",
      "photoUrl": "https://lh3.googleusercontent.com/a-/AOh14Gh0oUNuML9-DLG8N62UMYSReO9bvu-Is30bpWCJ=s64",
      "userId": "15022740438935184894"
     },
     "user_tz": -120
    },
    "id": "RptNioLl5MI9",
    "outputId": "938f6658-29c4-4af6-dc44-1082299ec119"
   },
   "outputs": [
    {
     "name": "stdout",
     "output_type": "stream",
     "text": [
      "Tiempo de ejecución del modelo 6 en segundos: 46.92238736152649\n",
      "La accuracy en entrenamiento del modelo_6 es:  0.88935417\n",
      "La accuracy en validación del modelo_6 es:  0.8735833168029785\n"
     ]
    }
   ],
   "source": [
    "start6 = time.time()\n",
    "model_6 = keras.Sequential([\n",
    "    keras.layers.Flatten(input_shape=(28, 28)),\n",
    "    keras.layers.Dense(128, activation='selu'),\n",
    "    keras.layers.Dense(64, activation='selu'),\n",
    "    keras.layers.Dense(64, activation='selu'),\n",
    "    keras.layers.Dense(10, activation='softmax')\n",
    "])\n",
    "\n",
    "\n",
    "model_6.compile(optimizer='sgd',\n",
    "              loss='sparse_categorical_crossentropy',\n",
    "              metrics=['accuracy'])\n",
    "\n",
    "history_6 = model_6.fit(x_train, y_train, epochs=20, batch_size= 64,  validation_split = 0.2, shuffle=True, verbose= 0)\n",
    "\n",
    "end6 = time.time()\n",
    "\n",
    "end6_1 = end6 - start6\n",
    "\n",
    "print(\"Tiempo de ejecución del modelo 6 en segundos:\", end6 - start6)\n",
    "\n",
    "\n",
    "print(\"La accuracy en entrenamiento del modelo_6 es: \", np.max(history_6.history['accuracy']))\n",
    "print(\"La accuracy en validación del modelo_6 es: \", np.max(history_6.history['val_accuracy']))\n"
   ]
  },
  {
   "cell_type": "code",
   "execution_count": 17,
   "metadata": {
    "colab": {
     "base_uri": "https://localhost:8080/",
     "height": 345
    },
    "colab_type": "code",
    "executionInfo": {
     "elapsed": 379025,
     "status": "ok",
     "timestamp": 1589393891452,
     "user": {
      "displayName": "Jose Alcaide",
      "photoUrl": "https://lh3.googleusercontent.com/a-/AOh14Gh0oUNuML9-DLG8N62UMYSReO9bvu-Is30bpWCJ=s64",
      "userId": "15022740438935184894"
     },
     "user_tz": -120
    },
    "id": "eyekEU71PSkU",
    "outputId": "9b84b2bb-4edd-4109-99d9-13369d3f9201"
   },
   "outputs": [
    {
     "name": "stdout",
     "output_type": "stream",
     "text": [
      "Model: \"sequential_6\"\n",
      "_________________________________________________________________\n",
      "Layer (type)                 Output Shape              Param #   \n",
      "=================================================================\n",
      "flatten_6 (Flatten)          (None, 784)               0         \n",
      "_________________________________________________________________\n",
      "dense_21 (Dense)             (None, 128)               100480    \n",
      "_________________________________________________________________\n",
      "dense_22 (Dense)             (None, 64)                8256      \n",
      "_________________________________________________________________\n",
      "dense_23 (Dense)             (None, 64)                4160      \n",
      "_________________________________________________________________\n",
      "dense_24 (Dense)             (None, 10)                650       \n",
      "=================================================================\n",
      "Total params: 113,546\n",
      "Trainable params: 113,546\n",
      "Non-trainable params: 0\n",
      "_________________________________________________________________\n"
     ]
    }
   ],
   "source": [
    "model_6.summary()"
   ]
  },
  {
   "cell_type": "markdown",
   "metadata": {
    "colab_type": "text",
    "id": "YO7eThJuvJOU"
   },
   "source": [
    "# Modelo 7: Usando tres funciones de activación intermedias del tipo Elu, creando un conjunto de validación con el 20% de las imagenes del dataset test."
   ]
  },
  {
   "cell_type": "code",
   "execution_count": 18,
   "metadata": {
    "colab": {
     "base_uri": "https://localhost:8080/",
     "height": 72
    },
    "colab_type": "code",
    "executionInfo": {
     "elapsed": 436590,
     "status": "ok",
     "timestamp": 1589393949025,
     "user": {
      "displayName": "Jose Alcaide",
      "photoUrl": "https://lh3.googleusercontent.com/a-/AOh14Gh0oUNuML9-DLG8N62UMYSReO9bvu-Is30bpWCJ=s64",
      "userId": "15022740438935184894"
     },
     "user_tz": -120
    },
    "id": "QNlil-oT4zz0",
    "outputId": "caf68a1b-d3a9-4694-c6b8-203290233d4a"
   },
   "outputs": [
    {
     "name": "stdout",
     "output_type": "stream",
     "text": [
      "Tiempo de ejecución del modelo 7 en segundos: 41.13523817062378\n",
      "La accuracy en entrenamiento del modelo_7 es:  0.8798125\n",
      "La accuracy en validación del modelo_7 es:  0.8723333477973938\n"
     ]
    }
   ],
   "source": [
    "start7 = time.time()\n",
    "model_7 = keras.Sequential([\n",
    "    keras.layers.Flatten(input_shape=(28, 28)),\n",
    "    keras.layers.Dense(128, activation='elu'),\n",
    "    keras.layers.Dense(64, activation='elu'),\n",
    "    keras.layers.Dense(64, activation='elu'),\n",
    "    keras.layers.Dense(10, activation='softmax')\n",
    "])\n",
    "\n",
    "\n",
    "model_7.compile(optimizer='sgd',\n",
    "              loss='sparse_categorical_crossentropy',\n",
    "              metrics=['accuracy'])\n",
    "\n",
    "history_7 = model_7.fit(x_train, y_train, epochs=20, batch_size= 64,  validation_split = 0.2, shuffle=True, verbose= 0)\n",
    "\n",
    "end7 = time.time()\n",
    "\n",
    "\n",
    "\n",
    "end7_1 = end7 - start7\n",
    "\n",
    "print(\"Tiempo de ejecución del modelo 7 en segundos:\", end7 - start7)\n",
    "\n",
    "\n",
    "print(\"La accuracy en entrenamiento del modelo_7 es: \", np.max(history_7.history['accuracy']))\n",
    "print(\"La accuracy en validación del modelo_7 es: \", np.max(history_7.history['val_accuracy']))\n"
   ]
  },
  {
   "cell_type": "code",
   "execution_count": 19,
   "metadata": {
    "colab": {
     "base_uri": "https://localhost:8080/",
     "height": 345
    },
    "colab_type": "code",
    "executionInfo": {
     "elapsed": 436581,
     "status": "ok",
     "timestamp": 1589393949025,
     "user": {
      "displayName": "Jose Alcaide",
      "photoUrl": "https://lh3.googleusercontent.com/a-/AOh14Gh0oUNuML9-DLG8N62UMYSReO9bvu-Is30bpWCJ=s64",
      "userId": "15022740438935184894"
     },
     "user_tz": -120
    },
    "id": "DvnNwpnLPVRB",
    "outputId": "69ede5c2-39dc-4b4f-ec48-b08171dea74d"
   },
   "outputs": [
    {
     "name": "stdout",
     "output_type": "stream",
     "text": [
      "Model: \"sequential_7\"\n",
      "_________________________________________________________________\n",
      "Layer (type)                 Output Shape              Param #   \n",
      "=================================================================\n",
      "flatten_7 (Flatten)          (None, 784)               0         \n",
      "_________________________________________________________________\n",
      "dense_25 (Dense)             (None, 128)               100480    \n",
      "_________________________________________________________________\n",
      "dense_26 (Dense)             (None, 64)                8256      \n",
      "_________________________________________________________________\n",
      "dense_27 (Dense)             (None, 64)                4160      \n",
      "_________________________________________________________________\n",
      "dense_28 (Dense)             (None, 10)                650       \n",
      "=================================================================\n",
      "Total params: 113,546\n",
      "Trainable params: 113,546\n",
      "Non-trainable params: 0\n",
      "_________________________________________________________________\n"
     ]
    }
   ],
   "source": [
    "model_7.summary()"
   ]
  },
  {
   "cell_type": "markdown",
   "metadata": {
    "colab_type": "text",
    "id": "GiOtxEwFC96R"
   },
   "source": [
    "* Vamos a crear un dataframe con los valores devueltos por los modelos para facilitar su comprensión."
   ]
  },
  {
   "cell_type": "code",
   "execution_count": 20,
   "metadata": {
    "colab": {},
    "colab_type": "code",
    "id": "5GlLMYN39pNo"
   },
   "outputs": [],
   "source": [
    "acc_1 = round(np.max(history_1.history['accuracy']),4)\n",
    "acc_2 = round(np.max(history_2.history['accuracy']),4)\n",
    "acc_3 = round(np.max(history_3.history['accuracy']),4)\n",
    "acc_4 = round(np.max(history_4.history['accuracy']),4)\n",
    "acc_5 = round(np.max(history_5.history['accuracy']),4)\n",
    "acc_6 = round(np.max(history_6.history['accuracy']),4)\n",
    "acc_7 = round(np.max(history_7.history['accuracy']),4)"
   ]
  },
  {
   "cell_type": "code",
   "execution_count": 21,
   "metadata": {
    "colab": {},
    "colab_type": "code",
    "id": "zK8N3-IH9pQg"
   },
   "outputs": [],
   "source": [
    "val_acc_1 = round(np.max(history_1.history['val_accuracy']),4)\n",
    "val_acc_2 = round(np.max(history_2.history['val_accuracy']),4)\n",
    "val_acc_3 = round(np.max(history_3.history['val_accuracy']),4)\n",
    "val_acc_4 = round(np.max(history_4.history['val_accuracy']),4)\n",
    "val_acc_5 = round(np.max(history_5.history['val_accuracy']),4)\n",
    "val_acc_6 = round(np.max(history_6.history['val_accuracy']),4)\n",
    "val_acc_7 = round(np.max(history_7.history['val_accuracy']),4)"
   ]
  },
  {
   "cell_type": "code",
   "execution_count": 22,
   "metadata": {
    "colab": {},
    "colab_type": "code",
    "id": "rRRJOF1Z9pZo"
   },
   "outputs": [],
   "source": [
    "df_1 = pd.DataFrame({'modelo': ['Sigmoid', 'relu', 'tanh','hard_sigmoid', 'softplus', 'selu', 'elu'], \n",
    "                     'T_ejecucion': [end1_1 ,end2_1,end3_1,end4_1,end5_1,end6_1,end7_1 ], \n",
    "                     'Accuracy Train' : [acc_1,acc_2,acc_3,acc_4,acc_5,acc_6,acc_7],\n",
    "                     'Accuracy Validación' : [val_acc_1,val_acc_2,val_acc_3,val_acc_4,val_acc_5,val_acc_6,val_acc_7],\n",
    "                      })"
   ]
  },
  {
   "cell_type": "code",
   "execution_count": 23,
   "metadata": {
    "colab": {
     "base_uri": "https://localhost:8080/",
     "height": 258
    },
    "colab_type": "code",
    "executionInfo": {
     "elapsed": 436568,
     "status": "ok",
     "timestamp": 1589393949027,
     "user": {
      "displayName": "Jose Alcaide",
      "photoUrl": "https://lh3.googleusercontent.com/a-/AOh14Gh0oUNuML9-DLG8N62UMYSReO9bvu-Is30bpWCJ=s64",
      "userId": "15022740438935184894"
     },
     "user_tz": -120
    },
    "id": "p_dL_Ckb9pe7",
    "outputId": "33ec3f4f-fd6d-4bab-d331-5b15f1a2ef8a"
   },
   "outputs": [
    {
     "data": {
      "text/html": [
       "<div>\n",
       "<style scoped>\n",
       "    .dataframe tbody tr th:only-of-type {\n",
       "        vertical-align: middle;\n",
       "    }\n",
       "\n",
       "    .dataframe tbody tr th {\n",
       "        vertical-align: top;\n",
       "    }\n",
       "\n",
       "    .dataframe thead th {\n",
       "        text-align: right;\n",
       "    }\n",
       "</style>\n",
       "<table border=\"1\" class=\"dataframe\">\n",
       "  <thead>\n",
       "    <tr style=\"text-align: right;\">\n",
       "      <th></th>\n",
       "      <th>modelo</th>\n",
       "      <th>T_ejecucion</th>\n",
       "      <th>Accuracy Train</th>\n",
       "      <th>Accuracy Validación</th>\n",
       "    </tr>\n",
       "  </thead>\n",
       "  <tbody>\n",
       "    <tr>\n",
       "      <th>6</th>\n",
       "      <td>elu</td>\n",
       "      <td>41.135238</td>\n",
       "      <td>0.8798</td>\n",
       "      <td>0.8723</td>\n",
       "    </tr>\n",
       "    <tr>\n",
       "      <th>1</th>\n",
       "      <td>relu</td>\n",
       "      <td>43.339075</td>\n",
       "      <td>0.8855</td>\n",
       "      <td>0.8743</td>\n",
       "    </tr>\n",
       "    <tr>\n",
       "      <th>0</th>\n",
       "      <td>Sigmoid</td>\n",
       "      <td>44.251240</td>\n",
       "      <td>0.6658</td>\n",
       "      <td>0.6712</td>\n",
       "    </tr>\n",
       "    <tr>\n",
       "      <th>2</th>\n",
       "      <td>tanh</td>\n",
       "      <td>44.757308</td>\n",
       "      <td>0.8830</td>\n",
       "      <td>0.8717</td>\n",
       "    </tr>\n",
       "    <tr>\n",
       "      <th>4</th>\n",
       "      <td>softplus</td>\n",
       "      <td>45.131549</td>\n",
       "      <td>0.8610</td>\n",
       "      <td>0.8567</td>\n",
       "    </tr>\n",
       "    <tr>\n",
       "      <th>3</th>\n",
       "      <td>hard_sigmoid</td>\n",
       "      <td>46.581518</td>\n",
       "      <td>0.6169</td>\n",
       "      <td>0.6333</td>\n",
       "    </tr>\n",
       "    <tr>\n",
       "      <th>5</th>\n",
       "      <td>selu</td>\n",
       "      <td>46.922387</td>\n",
       "      <td>0.8894</td>\n",
       "      <td>0.8736</td>\n",
       "    </tr>\n",
       "  </tbody>\n",
       "</table>\n",
       "</div>"
      ],
      "text/plain": [
       "         modelo  T_ejecucion  Accuracy Train  Accuracy Validación\n",
       "6           elu    41.135238          0.8798               0.8723\n",
       "1          relu    43.339075          0.8855               0.8743\n",
       "0       Sigmoid    44.251240          0.6658               0.6712\n",
       "2          tanh    44.757308          0.8830               0.8717\n",
       "4      softplus    45.131549          0.8610               0.8567\n",
       "3  hard_sigmoid    46.581518          0.6169               0.6333\n",
       "5          selu    46.922387          0.8894               0.8736"
      ]
     },
     "execution_count": 23,
     "metadata": {},
     "output_type": "execute_result"
    }
   ],
   "source": [
    "df_1.sort_values(['T_ejecucion', 'Accuracy Train', 'Accuracy Validación'])"
   ]
  },
  {
   "cell_type": "code",
   "execution_count": 24,
   "metadata": {
    "colab": {
     "base_uri": "https://localhost:8080/",
     "height": 258
    },
    "colab_type": "code",
    "executionInfo": {
     "elapsed": 436561,
     "status": "ok",
     "timestamp": 1589393949029,
     "user": {
      "displayName": "Jose Alcaide",
      "photoUrl": "https://lh3.googleusercontent.com/a-/AOh14Gh0oUNuML9-DLG8N62UMYSReO9bvu-Is30bpWCJ=s64",
      "userId": "15022740438935184894"
     },
     "user_tz": -120
    },
    "id": "zre9QWEsZAUA",
    "outputId": "d8c1258b-107c-486b-9e72-2e08ead07da5"
   },
   "outputs": [
    {
     "data": {
      "text/html": [
       "<div>\n",
       "<style scoped>\n",
       "    .dataframe tbody tr th:only-of-type {\n",
       "        vertical-align: middle;\n",
       "    }\n",
       "\n",
       "    .dataframe tbody tr th {\n",
       "        vertical-align: top;\n",
       "    }\n",
       "\n",
       "    .dataframe thead th {\n",
       "        text-align: right;\n",
       "    }\n",
       "</style>\n",
       "<table border=\"1\" class=\"dataframe\">\n",
       "  <thead>\n",
       "    <tr style=\"text-align: right;\">\n",
       "      <th></th>\n",
       "      <th>modelo</th>\n",
       "      <th>T_ejecucion</th>\n",
       "      <th>Accuracy Train</th>\n",
       "      <th>Accuracy Validación</th>\n",
       "    </tr>\n",
       "  </thead>\n",
       "  <tbody>\n",
       "    <tr>\n",
       "      <th>6</th>\n",
       "      <td>elu</td>\n",
       "      <td>41.135238</td>\n",
       "      <td>0.8798</td>\n",
       "      <td>0.8723</td>\n",
       "    </tr>\n",
       "    <tr>\n",
       "      <th>1</th>\n",
       "      <td>relu</td>\n",
       "      <td>43.339075</td>\n",
       "      <td>0.8855</td>\n",
       "      <td>0.8743</td>\n",
       "    </tr>\n",
       "    <tr>\n",
       "      <th>0</th>\n",
       "      <td>Sigmoid</td>\n",
       "      <td>44.251240</td>\n",
       "      <td>0.6658</td>\n",
       "      <td>0.6712</td>\n",
       "    </tr>\n",
       "    <tr>\n",
       "      <th>2</th>\n",
       "      <td>tanh</td>\n",
       "      <td>44.757308</td>\n",
       "      <td>0.8830</td>\n",
       "      <td>0.8717</td>\n",
       "    </tr>\n",
       "    <tr>\n",
       "      <th>4</th>\n",
       "      <td>softplus</td>\n",
       "      <td>45.131549</td>\n",
       "      <td>0.8610</td>\n",
       "      <td>0.8567</td>\n",
       "    </tr>\n",
       "    <tr>\n",
       "      <th>3</th>\n",
       "      <td>hard_sigmoid</td>\n",
       "      <td>46.581518</td>\n",
       "      <td>0.6169</td>\n",
       "      <td>0.6333</td>\n",
       "    </tr>\n",
       "    <tr>\n",
       "      <th>5</th>\n",
       "      <td>selu</td>\n",
       "      <td>46.922387</td>\n",
       "      <td>0.8894</td>\n",
       "      <td>0.8736</td>\n",
       "    </tr>\n",
       "  </tbody>\n",
       "</table>\n",
       "</div>"
      ],
      "text/plain": [
       "         modelo  T_ejecucion  Accuracy Train  Accuracy Validación\n",
       "6           elu    41.135238          0.8798               0.8723\n",
       "1          relu    43.339075          0.8855               0.8743\n",
       "0       Sigmoid    44.251240          0.6658               0.6712\n",
       "2          tanh    44.757308          0.8830               0.8717\n",
       "4      softplus    45.131549          0.8610               0.8567\n",
       "3  hard_sigmoid    46.581518          0.6169               0.6333\n",
       "5          selu    46.922387          0.8894               0.8736"
      ]
     },
     "execution_count": 24,
     "metadata": {},
     "output_type": "execute_result"
    }
   ],
   "source": [
    "df_1.sort_values(['T_ejecucion'], ascending=[True])"
   ]
  },
  {
   "cell_type": "code",
   "execution_count": 25,
   "metadata": {
    "colab": {
     "base_uri": "https://localhost:8080/",
     "height": 258
    },
    "colab_type": "code",
    "executionInfo": {
     "elapsed": 436553,
     "status": "ok",
     "timestamp": 1589393949029,
     "user": {
      "displayName": "Jose Alcaide",
      "photoUrl": "https://lh3.googleusercontent.com/a-/AOh14Gh0oUNuML9-DLG8N62UMYSReO9bvu-Is30bpWCJ=s64",
      "userId": "15022740438935184894"
     },
     "user_tz": -120
    },
    "id": "Jwq4HjrSZDGU",
    "outputId": "bbcb9580-ac94-465b-c61a-fff370d264c8"
   },
   "outputs": [
    {
     "data": {
      "text/html": [
       "<div>\n",
       "<style scoped>\n",
       "    .dataframe tbody tr th:only-of-type {\n",
       "        vertical-align: middle;\n",
       "    }\n",
       "\n",
       "    .dataframe tbody tr th {\n",
       "        vertical-align: top;\n",
       "    }\n",
       "\n",
       "    .dataframe thead th {\n",
       "        text-align: right;\n",
       "    }\n",
       "</style>\n",
       "<table border=\"1\" class=\"dataframe\">\n",
       "  <thead>\n",
       "    <tr style=\"text-align: right;\">\n",
       "      <th></th>\n",
       "      <th>modelo</th>\n",
       "      <th>T_ejecucion</th>\n",
       "      <th>Accuracy Train</th>\n",
       "      <th>Accuracy Validación</th>\n",
       "    </tr>\n",
       "  </thead>\n",
       "  <tbody>\n",
       "    <tr>\n",
       "      <th>5</th>\n",
       "      <td>selu</td>\n",
       "      <td>46.922387</td>\n",
       "      <td>0.8894</td>\n",
       "      <td>0.8736</td>\n",
       "    </tr>\n",
       "    <tr>\n",
       "      <th>1</th>\n",
       "      <td>relu</td>\n",
       "      <td>43.339075</td>\n",
       "      <td>0.8855</td>\n",
       "      <td>0.8743</td>\n",
       "    </tr>\n",
       "    <tr>\n",
       "      <th>2</th>\n",
       "      <td>tanh</td>\n",
       "      <td>44.757308</td>\n",
       "      <td>0.8830</td>\n",
       "      <td>0.8717</td>\n",
       "    </tr>\n",
       "    <tr>\n",
       "      <th>6</th>\n",
       "      <td>elu</td>\n",
       "      <td>41.135238</td>\n",
       "      <td>0.8798</td>\n",
       "      <td>0.8723</td>\n",
       "    </tr>\n",
       "    <tr>\n",
       "      <th>4</th>\n",
       "      <td>softplus</td>\n",
       "      <td>45.131549</td>\n",
       "      <td>0.8610</td>\n",
       "      <td>0.8567</td>\n",
       "    </tr>\n",
       "    <tr>\n",
       "      <th>0</th>\n",
       "      <td>Sigmoid</td>\n",
       "      <td>44.251240</td>\n",
       "      <td>0.6658</td>\n",
       "      <td>0.6712</td>\n",
       "    </tr>\n",
       "    <tr>\n",
       "      <th>3</th>\n",
       "      <td>hard_sigmoid</td>\n",
       "      <td>46.581518</td>\n",
       "      <td>0.6169</td>\n",
       "      <td>0.6333</td>\n",
       "    </tr>\n",
       "  </tbody>\n",
       "</table>\n",
       "</div>"
      ],
      "text/plain": [
       "         modelo  T_ejecucion  Accuracy Train  Accuracy Validación\n",
       "5          selu    46.922387          0.8894               0.8736\n",
       "1          relu    43.339075          0.8855               0.8743\n",
       "2          tanh    44.757308          0.8830               0.8717\n",
       "6           elu    41.135238          0.8798               0.8723\n",
       "4      softplus    45.131549          0.8610               0.8567\n",
       "0       Sigmoid    44.251240          0.6658               0.6712\n",
       "3  hard_sigmoid    46.581518          0.6169               0.6333"
      ]
     },
     "execution_count": 25,
     "metadata": {},
     "output_type": "execute_result"
    }
   ],
   "source": [
    "df_1.sort_values(['Accuracy Train'], ascending=[False])"
   ]
  },
  {
   "cell_type": "code",
   "execution_count": 26,
   "metadata": {
    "colab": {
     "base_uri": "https://localhost:8080/",
     "height": 258
    },
    "colab_type": "code",
    "executionInfo": {
     "elapsed": 436545,
     "status": "ok",
     "timestamp": 1589393949030,
     "user": {
      "displayName": "Jose Alcaide",
      "photoUrl": "https://lh3.googleusercontent.com/a-/AOh14Gh0oUNuML9-DLG8N62UMYSReO9bvu-Is30bpWCJ=s64",
      "userId": "15022740438935184894"
     },
     "user_tz": -120
    },
    "id": "xoKxgbJGZDJz",
    "outputId": "21a8aa30-aa8e-4452-bca9-c36777f4b7b0"
   },
   "outputs": [
    {
     "data": {
      "text/html": [
       "<div>\n",
       "<style scoped>\n",
       "    .dataframe tbody tr th:only-of-type {\n",
       "        vertical-align: middle;\n",
       "    }\n",
       "\n",
       "    .dataframe tbody tr th {\n",
       "        vertical-align: top;\n",
       "    }\n",
       "\n",
       "    .dataframe thead th {\n",
       "        text-align: right;\n",
       "    }\n",
       "</style>\n",
       "<table border=\"1\" class=\"dataframe\">\n",
       "  <thead>\n",
       "    <tr style=\"text-align: right;\">\n",
       "      <th></th>\n",
       "      <th>modelo</th>\n",
       "      <th>T_ejecucion</th>\n",
       "      <th>Accuracy Train</th>\n",
       "      <th>Accuracy Validación</th>\n",
       "    </tr>\n",
       "  </thead>\n",
       "  <tbody>\n",
       "    <tr>\n",
       "      <th>1</th>\n",
       "      <td>relu</td>\n",
       "      <td>43.339075</td>\n",
       "      <td>0.8855</td>\n",
       "      <td>0.8743</td>\n",
       "    </tr>\n",
       "    <tr>\n",
       "      <th>5</th>\n",
       "      <td>selu</td>\n",
       "      <td>46.922387</td>\n",
       "      <td>0.8894</td>\n",
       "      <td>0.8736</td>\n",
       "    </tr>\n",
       "    <tr>\n",
       "      <th>6</th>\n",
       "      <td>elu</td>\n",
       "      <td>41.135238</td>\n",
       "      <td>0.8798</td>\n",
       "      <td>0.8723</td>\n",
       "    </tr>\n",
       "    <tr>\n",
       "      <th>2</th>\n",
       "      <td>tanh</td>\n",
       "      <td>44.757308</td>\n",
       "      <td>0.8830</td>\n",
       "      <td>0.8717</td>\n",
       "    </tr>\n",
       "    <tr>\n",
       "      <th>4</th>\n",
       "      <td>softplus</td>\n",
       "      <td>45.131549</td>\n",
       "      <td>0.8610</td>\n",
       "      <td>0.8567</td>\n",
       "    </tr>\n",
       "    <tr>\n",
       "      <th>0</th>\n",
       "      <td>Sigmoid</td>\n",
       "      <td>44.251240</td>\n",
       "      <td>0.6658</td>\n",
       "      <td>0.6712</td>\n",
       "    </tr>\n",
       "    <tr>\n",
       "      <th>3</th>\n",
       "      <td>hard_sigmoid</td>\n",
       "      <td>46.581518</td>\n",
       "      <td>0.6169</td>\n",
       "      <td>0.6333</td>\n",
       "    </tr>\n",
       "  </tbody>\n",
       "</table>\n",
       "</div>"
      ],
      "text/plain": [
       "         modelo  T_ejecucion  Accuracy Train  Accuracy Validación\n",
       "1          relu    43.339075          0.8855               0.8743\n",
       "5          selu    46.922387          0.8894               0.8736\n",
       "6           elu    41.135238          0.8798               0.8723\n",
       "2          tanh    44.757308          0.8830               0.8717\n",
       "4      softplus    45.131549          0.8610               0.8567\n",
       "0       Sigmoid    44.251240          0.6658               0.6712\n",
       "3  hard_sigmoid    46.581518          0.6169               0.6333"
      ]
     },
     "execution_count": 26,
     "metadata": {},
     "output_type": "execute_result"
    }
   ],
   "source": [
    "df_1.sort_values(['Accuracy Validación'], ascending=[False])"
   ]
  },
  {
   "cell_type": "markdown",
   "metadata": {
    "colab_type": "text",
    "id": "L1nMZFAsPj6K"
   },
   "source": [
    "# Conclusiones:\n",
    "  * Hay que mencionar que se ha ejecutado con la GPU de colab, con lo que acelera la ejecución de los modelos.\n",
    "  * Cada vez que se ejecuta devuelve unos valores distintos. Pero normalmente el modelo que usa las funciones relu da mejor resultado que la sigmoid. En tiempo de ejecución, hay ocasiones que se acercan, pero en accuracy siempre es mejor el modelo son las relus en comparación el modelo que usa sigmoides.\n",
    "  * Nunguno de los modelos está cayendo en Overtiffing, ya que no hay diferencias significativas entre los dos valores de Accuracy de cada modelo, en test y validación.\n",
    "  * Para evaluar los modelos hemos decidido usar la métrica 'Accuracy' que en realidad es la proporciona entre las predicciones correctas que ha clasificado nuestro modelo en referencia con el total de las predicciones. \n",
    "  * El objetivo es minimizar la función de pérdida, y a la vez ir aumentando el valor del Accuracy. Debemos monitorizar los modelos para verificar, que en efecto se cumplen ambos requerimientos, para ello se utiliza a la hora de entrenar el comando 'verbose=1', nos indica para cada 'epochs' el tiempo que consume en realizar la tarea. Si apreciamos que el valor de la función de pérdida o 'loss', disminuye en el conjunto de entrenamiento y en validación.\n",
    "  * El mejor modelo en cuestión con respecto al tiempo de ejecución (el menor )  y de resultados de Accuracy (el mayor  en los tres conjuntos) es el que aplica las funcion de activacion 'Relu' en tres capas intermedias densas y la última función de activación (softmax) ,es la mejor para el ejemplo de clasificación del problema , ya que a la hora de predecir solo puede pertenecer a una clase, es excluyente. Este modelo es el mejor ya que su función de activación es muy simple y es f(x) = max(x,0), unidad lineal rectificada.\n",
    "  * Estas conclusiones se ven reflejadas en las dos gráficas que acontinuación se muestran para cada modelo. La primer de ella muestra la evolución del modelo con respecto al accuracy en los conjuntos de train y validación, junto con el número de epochs que se ejecuta. La segunda nos muestra la evolución de la función de pérdida con respecto a las epochs el los conjunto de datos de test y validación.    \n",
    "  * Vamos a comparar mas de cerca porque ha funcionado mejor la función relu en comparación con la sigmoid.\n",
    "\n",
    "    * Sigmoid, ventajas desventajas:\n",
    "\n",
    "      * Convierte a un número real cualquier otro número\n",
    "      * Tiende a cero por el cuadrante negativo y tiende a 1 por elcuadrante    positivo.\n",
    "      * Las unidades sigmoid saturadas 'matan' los gradientes. Esta función se satura cuando los valores se aproximan a 0 o a 1, por lo tanto pequeños cambios en los valores de entrada no implican apenas variación en los de salida. Cuando se satura, la derivada de la función tiende a cero(el valor de la pendiente), por lo tanto la derivada local también va hacia el mismo valor. Como en el backpropagation, la derivada local se multiplica por el gradiente que fluye desde arriba y este resultado se propaga hacia atrás. Si el gradiente resultante toma valores cercanos a cero se dice que la unidad está 'matando' el gradiente. Al ocurrir esta circunstancia elimina la señal de aprendizaje de la red, tiene por tanto mas dificultades para aprender.\n",
    "      * La salida que nos devuelve la sigmoid no está centrada en cero, en este caso es siempre positiva, por tanto las derivadas con los pesos se van a comportar bien siempre que tiendan hacia el mismo signo. Esto provoca ineficienacias en el entrenamiento.\n",
    "      * Implica calcular exponenciales, es una función compleja.\n",
    "\n",
    "    * Relu. Ventajas y desventajas. \n",
    "\n",
    "      * No se satura por el régimen positivo, por lo tanto no 'mata' al gradiente. Por lo tanto acelera la convergencia del SGD(stochastic gradient descent)\n",
    "      * Computacionalmente es mas eficiente ya que no tiene exponeciales en su formulación.\n",
    "      * No está centrada en cero la salida de la relu, al igual que la sigmoid.\n",
    "      * Las relus pueden 'morir' durante el entrenamiento, ya que si nos encontramos en el régimen negativo el gradiente es cero, por lo tanto la salida de la función es cero. Esta función puede atascarse en este régimen y no salir de él. Independientemente del valor de entrada de la neurona, si nuestros parámetros hacen que la relu tome valores menores que cero, la red no aprende ya que su gradiente no se actualiza porque es cero. Una forma de solucionar este problema es, utilizando learning rates pequeños."
   ]
  },
  {
   "cell_type": "code",
   "execution_count": 27,
   "metadata": {
    "colab": {
     "base_uri": "https://localhost:8080/",
     "height": 627
    },
    "colab_type": "code",
    "executionInfo": {
     "elapsed": 437460,
     "status": "ok",
     "timestamp": 1589393949955,
     "user": {
      "displayName": "Jose Alcaide",
      "photoUrl": "https://lh3.googleusercontent.com/a-/AOh14Gh0oUNuML9-DLG8N62UMYSReO9bvu-Is30bpWCJ=s64",
      "userId": "15022740438935184894"
     },
     "user_tz": -120
    },
    "id": "Nr5EmQ3DHJJc",
    "outputId": "21897fe1-8b19-42eb-8185-cf2de8244f09"
   },
   "outputs": [
    {
     "name": "stderr",
     "output_type": "stream",
     "text": [
      "No handles with labels found to put in legend.\n"
     ]
    },
    {
     "data": {
      "text/plain": [
       "<Figure size 432x288 with 0 Axes>"
      ]
     },
     "execution_count": 27,
     "metadata": {},
     "output_type": "execute_result"
    },
    {
     "data": {
      "image/png": "[encoded data removed]",
      "text/plain": [
       "<Figure size 432x288 with 1 Axes>"
      ]
     },
     "metadata": {
      "needs_background": "light"
     },
     "output_type": "display_data"
    },
    {
     "data": {
      "image/png": "[encoded data removed]",
      "text/plain": [
       "<Figure size 432x288 with 1 Axes>"
      ]
     },
     "metadata": {
      "needs_background": "light"
     },
     "output_type": "display_data"
    },
    {
     "data": {
      "text/plain": [
       "<Figure size 432x288 with 0 Axes>"
      ]
     },
     "metadata": {},
     "output_type": "display_data"
    }
   ],
   "source": [
    "acc_1     = history_1.history['accuracy']\n",
    "val_acc_1  = history_1.history['val_accuracy']\n",
    "loss_1    = history_1.history['loss']\n",
    "val_loss_1 = history_1.history['val_loss']\n",
    "\n",
    "\n",
    "epochs   = range(1,len(acc_1)+1,1)\n",
    "\n",
    "plt.plot ( epochs,     acc_1, 'r--', label='Training acc'  )\n",
    "plt.plot ( epochs, val_acc_1,  'b', label='Validation acc')\n",
    "plt.title ('Training and validation accuracy modelo 1')\n",
    "plt.ylabel('acc_1')\n",
    "plt.xlabel('epochs')\n",
    "\n",
    "plt.legend()\n",
    "plt.figure()\n",
    "\n",
    "\n",
    "plt.plot ( epochs,     loss_1, 'r--' )\n",
    "plt.plot ( epochs, val_loss_1,  'b' )\n",
    "plt.title ('Training and validation loss modelo 1'   )\n",
    "plt.ylabel('loss_1')\n",
    "plt.xlabel('epochs')\n",
    "\n",
    "\n",
    "plt.legend()\n",
    "plt.figure()\n",
    "\n",
    "\n"
   ]
  },
  {
   "cell_type": "code",
   "execution_count": 28,
   "metadata": {
    "colab": {
     "base_uri": "https://localhost:8080/",
     "height": 627
    },
    "colab_type": "code",
    "executionInfo": {
     "elapsed": 438049,
     "status": "ok",
     "timestamp": 1589393950553,
     "user": {
      "displayName": "Jose Alcaide",
      "photoUrl": "https://lh3.googleusercontent.com/a-/AOh14Gh0oUNuML9-DLG8N62UMYSReO9bvu-Is30bpWCJ=s64",
      "userId": "15022740438935184894"
     },
     "user_tz": -120
    },
    "id": "L_r99IleUj1P",
    "outputId": "a214080c-81eb-4d66-db49-6cb24b9b7bfc"
   },
   "outputs": [
    {
     "name": "stderr",
     "output_type": "stream",
     "text": [
      "No handles with labels found to put in legend.\n"
     ]
    },
    {
     "data": {
      "text/plain": [
       "<Figure size 432x288 with 0 Axes>"
      ]
     },
     "execution_count": 28,
     "metadata": {},
     "output_type": "execute_result"
    },
    {
     "data": {
      "image/png": "[encoded data removed]",
      "text/plain": [
       "<Figure size 432x288 with 1 Axes>"
      ]
     },
     "metadata": {
      "needs_background": "light"
     },
     "output_type": "display_data"
    },
    {
     "data": {
      "image/png": "[encoded data removed]",
      "text/plain": [
       "<Figure size 432x288 with 1 Axes>"
      ]
     },
     "metadata": {
      "needs_background": "light"
     },
     "output_type": "display_data"
    },
    {
     "data": {
      "text/plain": [
       "<Figure size 432x288 with 0 Axes>"
      ]
     },
     "metadata": {},
     "output_type": "display_data"
    }
   ],
   "source": [
    "acc_2     = history_2.history['accuracy']\n",
    "val_acc_2  = history_2.history['val_accuracy']\n",
    "loss_2    = history_2.history['loss']\n",
    "val_loss_2 = history_2.history['val_loss']\n",
    "\n",
    "\n",
    "epochs   = range(1,len(acc_2)+1,1)\n",
    "\n",
    "plt.plot ( epochs,     acc_2, 'r--', label='Training acc'  )\n",
    "plt.plot ( epochs, val_acc_2,  'b', label='Validation acc')\n",
    "plt.title ('Training and validation accuracy modelo 2')\n",
    "plt.ylabel('acc_2')\n",
    "plt.xlabel('epochs')\n",
    "\n",
    "plt.legend()\n",
    "plt.figure()\n",
    "\n",
    "\n",
    "plt.plot ( epochs,     loss_2, 'r--' )\n",
    "plt.plot ( epochs, val_loss_2,  'b' )\n",
    "plt.title ('Training and validation loss modelo 2'   )\n",
    "plt.ylabel('loss_2')\n",
    "plt.xlabel('epochs')\n",
    "\n",
    "\n",
    "plt.legend()\n",
    "plt.figure()"
   ]
  },
  {
   "cell_type": "code",
   "execution_count": 29,
   "metadata": {
    "colab": {
     "base_uri": "https://localhost:8080/",
     "height": 627
    },
    "colab_type": "code",
    "executionInfo": {
     "elapsed": 438506,
     "status": "ok",
     "timestamp": 1589393951019,
     "user": {
      "displayName": "Jose Alcaide",
      "photoUrl": "https://lh3.googleusercontent.com/a-/AOh14Gh0oUNuML9-DLG8N62UMYSReO9bvu-Is30bpWCJ=s64",
      "userId": "15022740438935184894"
     },
     "user_tz": -120
    },
    "id": "IEOaAbePUj3-",
    "outputId": "b7d88956-64df-4e66-95de-5a27dd5d4102"
   },
   "outputs": [
    {
     "name": "stderr",
     "output_type": "stream",
     "text": [
      "No handles with labels found to put in legend.\n"
     ]
    },
    {
     "data": {
      "text/plain": [
       "<Figure size 432x288 with 0 Axes>"
      ]
     },
     "execution_count": 29,
     "metadata": {},
     "output_type": "execute_result"
    },
    {
     "data": {
      "image/png": "[encoded data removed]",
      "text/plain": [
       "<Figure size 432x288 with 1 Axes>"
      ]
     },
     "metadata": {
      "needs_background": "light"
     },
     "output_type": "display_data"
    },
    {
     "data": {
      "image/png": "[encoded data removed]",
      "text/plain": [
       "<Figure size 432x288 with 1 Axes>"
      ]
     },
     "metadata": {
      "needs_background": "light"
     },
     "output_type": "display_data"
    },
    {
     "data": {
      "text/plain": [
       "<Figure size 432x288 with 0 Axes>"
      ]
     },
     "metadata": {},
     "output_type": "display_data"
    }
   ],
   "source": [
    "acc_3     = history_3.history['accuracy']\n",
    "val_acc_3  = history_3.history['val_accuracy']\n",
    "loss_3    = history_3.history['loss']\n",
    "val_loss_3 = history_3.history['val_loss']\n",
    "\n",
    "\n",
    "epochs   = range(1,len(acc_3)+1,1)\n",
    "\n",
    "plt.plot ( epochs,     acc_3, 'r--', label='Training acc'  )\n",
    "plt.plot ( epochs, val_acc_3,  'b', label='Validation acc')\n",
    "plt.title ('Training and validation accuracy modelo 3')\n",
    "plt.ylabel('acc_3')\n",
    "plt.xlabel('epochs')\n",
    "\n",
    "plt.legend()\n",
    "plt.figure()\n",
    "\n",
    "\n",
    "plt.plot ( epochs,     loss_3, 'r--' )\n",
    "plt.plot ( epochs, val_loss_3,  'b' )\n",
    "plt.title ('Training and validation loss modelo 3'   )\n",
    "plt.ylabel('loss_3')\n",
    "plt.xlabel('epochs')\n",
    "\n",
    "\n",
    "plt.legend()\n",
    "plt.figure()"
   ]
  },
  {
   "cell_type": "code",
   "execution_count": 30,
   "metadata": {
    "colab": {
     "base_uri": "https://localhost:8080/",
     "height": 627
    },
    "colab_type": "code",
    "executionInfo": {
     "elapsed": 438919,
     "status": "ok",
     "timestamp": 1589393951442,
     "user": {
      "displayName": "Jose Alcaide",
      "photoUrl": "https://lh3.googleusercontent.com/a-/AOh14Gh0oUNuML9-DLG8N62UMYSReO9bvu-Is30bpWCJ=s64",
      "userId": "15022740438935184894"
     },
     "user_tz": -120
    },
    "id": "aMp8UbzdZKiA",
    "outputId": "21f4794a-4fce-4f52-a4f0-9327a4b1ed1c"
   },
   "outputs": [
    {
     "name": "stderr",
     "output_type": "stream",
     "text": [
      "No handles with labels found to put in legend.\n"
     ]
    },
    {
     "data": {
      "text/plain": [
       "<Figure size 432x288 with 0 Axes>"
      ]
     },
     "execution_count": 30,
     "metadata": {},
     "output_type": "execute_result"
    },
    {
     "data": {
      "image/png": "[encoded data removed]",
      "text/plain": [
       "<Figure size 432x288 with 1 Axes>"
      ]
     },
     "metadata": {
      "needs_background": "light"
     },
     "output_type": "display_data"
    },
    {
     "data": {
      "image/png": "[encoded data removed]",
      "text/plain": [
       "<Figure size 432x288 with 1 Axes>"
      ]
     },
     "metadata": {
      "needs_background": "light"
     },
     "output_type": "display_data"
    },
    {
     "data": {
      "text/plain": [
       "<Figure size 432x288 with 0 Axes>"
      ]
     },
     "metadata": {},
     "output_type": "display_data"
    }
   ],
   "source": [
    "acc_4     = history_4.history['accuracy']\n",
    "val_acc_4  = history_4.history['val_accuracy']\n",
    "loss_4    = history_4.history['loss']\n",
    "val_loss_4 = history_4.history['val_loss']\n",
    "\n",
    "\n",
    "epochs   = range(1,len(acc_4)+1,1)\n",
    "\n",
    "plt.plot ( epochs,     acc_4, 'r--', label='Training acc'  )\n",
    "plt.plot ( epochs, val_acc_4,  'b', label='Validation acc')\n",
    "plt.title ('Training and validation accuracy modelo 4')\n",
    "plt.ylabel('acc_4')\n",
    "plt.xlabel('epochs')\n",
    "\n",
    "plt.legend()\n",
    "plt.figure()\n",
    "\n",
    "\n",
    "plt.plot ( epochs,     loss_4, 'r--' )\n",
    "plt.plot ( epochs, val_loss_4,  'b' )\n",
    "plt.title ('Training and validation loss modelo 4')\n",
    "plt.ylabel('loss_4')\n",
    "plt.xlabel('epochs')\n",
    "\n",
    "\n",
    "plt.legend()\n",
    "plt.figure()"
   ]
  },
  {
   "cell_type": "code",
   "execution_count": 31,
   "metadata": {
    "colab": {
     "base_uri": "https://localhost:8080/",
     "height": 627
    },
    "colab_type": "code",
    "executionInfo": {
     "elapsed": 439418,
     "status": "ok",
     "timestamp": 1589393951951,
     "user": {
      "displayName": "Jose Alcaide",
      "photoUrl": "https://lh3.googleusercontent.com/a-/AOh14Gh0oUNuML9-DLG8N62UMYSReO9bvu-Is30bpWCJ=s64",
      "userId": "15022740438935184894"
     },
     "user_tz": -120
    },
    "id": "I8ubZ9XrZKlQ",
    "outputId": "37027f98-9e9f-433e-8b1a-814113f2a339"
   },
   "outputs": [
    {
     "name": "stderr",
     "output_type": "stream",
     "text": [
      "No handles with labels found to put in legend.\n"
     ]
    },
    {
     "data": {
      "text/plain": [
       "<Figure size 432x288 with 0 Axes>"
      ]
     },
     "execution_count": 31,
     "metadata": {},
     "output_type": "execute_result"
    },
    {
     "data": {
      "image/png": "[encoded data removed]",
      "text/plain": [
       "<Figure size 432x288 with 1 Axes>"
      ]
     },
     "metadata": {
      "needs_background": "light"
     },
     "output_type": "display_data"
    },
    {
     "data": {
      "image/png": "[encoded data removed]",
      "text/plain": [
       "<Figure size 432x288 with 1 Axes>"
      ]
     },
     "metadata": {
      "needs_background": "light"
     },
     "output_type": "display_data"
    },
    {
     "data": {
      "text/plain": [
       "<Figure size 432x288 with 0 Axes>"
      ]
     },
     "metadata": {},
     "output_type": "display_data"
    }
   ],
   "source": [
    "acc_5     = history_5.history['accuracy']\n",
    "val_acc_5  = history_5.history['val_accuracy']\n",
    "loss_5    = history_5.history['loss']\n",
    "val_loss_5 = history_5.history['val_loss']\n",
    "\n",
    "\n",
    "epochs   = range(1,len(acc_5)+1,1)\n",
    "\n",
    "plt.plot ( epochs,     acc_5, 'r--', label='Training acc'  )\n",
    "plt.plot ( epochs, val_acc_5,  'b', label='Validation acc')\n",
    "plt.title ('Training and validation accuracy modelo 5')\n",
    "plt.ylabel('acc_5')\n",
    "plt.xlabel('epochs')\n",
    "\n",
    "plt.legend()\n",
    "plt.figure()\n",
    "\n",
    "\n",
    "plt.plot ( epochs,     loss_5, 'r--' )\n",
    "plt.plot ( epochs, val_loss_5,  'b' )\n",
    "plt.title ('Training and validation loss modelo 5')\n",
    "plt.ylabel('loss_5')\n",
    "plt.xlabel('epochs')\n",
    "\n",
    "\n",
    "plt.legend()\n",
    "plt.figure()"
   ]
  },
  {
   "cell_type": "code",
   "execution_count": 32,
   "metadata": {
    "colab": {
     "base_uri": "https://localhost:8080/",
     "height": 627
    },
    "colab_type": "code",
    "executionInfo": {
     "elapsed": 439875,
     "status": "ok",
     "timestamp": 1589393952416,
     "user": {
      "displayName": "Jose Alcaide",
      "photoUrl": "https://lh3.googleusercontent.com/a-/AOh14Gh0oUNuML9-DLG8N62UMYSReO9bvu-Is30bpWCJ=s64",
      "userId": "15022740438935184894"
     },
     "user_tz": -120
    },
    "id": "07WDOj1JZKoA",
    "outputId": "de09e7b4-d432-4a03-d8dd-dac0b90a496d"
   },
   "outputs": [
    {
     "name": "stderr",
     "output_type": "stream",
     "text": [
      "No handles with labels found to put in legend.\n"
     ]
    },
    {
     "data": {
      "text/plain": [
       "<Figure size 432x288 with 0 Axes>"
      ]
     },
     "execution_count": 32,
     "metadata": {},
     "output_type": "execute_result"
    },
    {
     "data": {
      "image/png": "[encoded data removed]",
      "text/plain": [
       "<Figure size 432x288 with 1 Axes>"
      ]
     },
     "metadata": {
      "needs_background": "light"
     },
     "output_type": "display_data"
    },
    {
     "data": {
      "image/png": "[encoded data removed]",
      "text/plain": [
       "<Figure size 432x288 with 1 Axes>"
      ]
     },
     "metadata": {
      "needs_background": "light"
     },
     "output_type": "display_data"
    },
    {
     "data": {
      "text/plain": [
       "<Figure size 432x288 with 0 Axes>"
      ]
     },
     "metadata": {},
     "output_type": "display_data"
    }
   ],
   "source": [
    "acc_6     = history_6.history['accuracy']\n",
    "val_acc_6  = history_6.history['val_accuracy']\n",
    "loss_6    = history_6.history['loss']\n",
    "val_loss_6 = history_6.history['val_loss']\n",
    "\n",
    "\n",
    "epochs   = range(1,len(acc_6)+1,1)\n",
    "\n",
    "plt.plot ( epochs,     acc_6, 'r--', label='Training acc'  )\n",
    "plt.plot ( epochs, val_acc_6,  'b', label='Validation acc')\n",
    "plt.title ('Training and validation accuracy modelo 6')\n",
    "plt.ylabel('acc_6')\n",
    "plt.xlabel('epochs')\n",
    "\n",
    "plt.legend()\n",
    "plt.figure()\n",
    "\n",
    "\n",
    "plt.plot ( epochs,     loss_6, 'r--' )\n",
    "plt.plot ( epochs, val_loss_6,  'b' )\n",
    "plt.title ('Training and validation loss modelo 6')\n",
    "plt.ylabel('loss_6')\n",
    "plt.xlabel('epochs')\n",
    "\n",
    "\n",
    "plt.legend()\n",
    "plt.figure()"
   ]
  },
  {
   "cell_type": "code",
   "execution_count": 33,
   "metadata": {
    "colab": {
     "base_uri": "https://localhost:8080/",
     "height": 627
    },
    "colab_type": "code",
    "executionInfo": {
     "elapsed": 440688,
     "status": "ok",
     "timestamp": 1589393953238,
     "user": {
      "displayName": "Jose Alcaide",
      "photoUrl": "https://lh3.googleusercontent.com/a-/AOh14Gh0oUNuML9-DLG8N62UMYSReO9bvu-Is30bpWCJ=s64",
      "userId": "15022740438935184894"
     },
     "user_tz": -120
    },
    "id": "TkqViD-iaspb",
    "outputId": "2a9f4fe9-dc8b-42b6-ed2d-4ba01eaf36a3"
   },
   "outputs": [
    {
     "name": "stderr",
     "output_type": "stream",
     "text": [
      "No handles with labels found to put in legend.\n"
     ]
    },
    {
     "data": {
      "text/plain": [
       "<Figure size 432x288 with 0 Axes>"
      ]
     },
     "execution_count": 33,
     "metadata": {},
     "output_type": "execute_result"
    },
    {
     "data": {
      "image/png": "[encoded data removed]",
      "text/plain": [
       "<Figure size 432x288 with 1 Axes>"
      ]
     },
     "metadata": {
      "needs_background": "light"
     },
     "output_type": "display_data"
    },
    {
     "data": {
      "image/png": "[encoded data removed]",
      "text/plain": [
       "<Figure size 432x288 with 1 Axes>"
      ]
     },
     "metadata": {
      "needs_background": "light"
     },
     "output_type": "display_data"
    },
    {
     "data": {
      "text/plain": [
       "<Figure size 432x288 with 0 Axes>"
      ]
     },
     "metadata": {},
     "output_type": "display_data"
    }
   ],
   "source": [
    "acc_7     = history_7.history['accuracy']\n",
    "val_acc_7  = history_7.history['val_accuracy']\n",
    "loss_7    = history_7.history['loss']\n",
    "val_loss_7 = history_7.history['val_loss']\n",
    "\n",
    "\n",
    "epochs   = range(1,len(acc_7)+1,1)\n",
    "\n",
    "plt.plot ( epochs,     acc_7, 'r--', label='Training acc'  )\n",
    "plt.plot ( epochs, val_acc_7,  'b', label='Validation acc')\n",
    "plt.title ('Training and validation accuracy modelo 7')\n",
    "plt.ylabel('acc_7')\n",
    "plt.xlabel('epochs')\n",
    "\n",
    "plt.legend()\n",
    "plt.figure()\n",
    "\n",
    "\n",
    "plt.plot ( epochs,     loss_7, 'r--' )\n",
    "plt.plot ( epochs, val_loss_7,  'b' )\n",
    "plt.title ('Training and validation loss modelo 7')\n",
    "plt.ylabel('loss_7')\n",
    "plt.xlabel('epochs')\n",
    "\n",
    "\n",
    "plt.legend()\n",
    "plt.figure()"
   ]
  },
  {
   "cell_type": "markdown",
   "metadata": {
    "colab_type": "text",
    "id": "0dA7MwNiOPs5"
   },
   "source": [
    "* En todas las gráficas anteriores, dependiendo del modelo, podemos apreciar que se comportan de forma muy parecida tanto la evolución del Accuracy y de la función de pérdida en ambos contuntos de datos, train y validación.  "
   ]
  },
  {
   "cell_type": "markdown",
   "metadata": {
    "colab_type": "text",
    "id": "F6cyqneFDfki"
   },
   "source": [
    "## 2. Inicialización de parámetros"
   ]
  },
  {
   "cell_type": "markdown",
   "metadata": {
    "colab_type": "text",
    "id": "3zz-3o-zDWvp"
   },
   "source": [
    "En este ejercicio, vamos a evaluar la importancia de una correcta inicialización de parámetros en una red neuronal.\n",
    "\n",
    "**Ejercicio 2 *(1.25 puntos)***: Partiendo de una red similar a la del ejercicio anterior (usando ya ReLUs), comentar las diferencias que se aprecian en el entrenamiento al utilizar distintas estrategias de inicialización de parámetros. Para ello, inicializar todas las capas con las siguientes estrategias, disponibles en Keras, y analizar sus diferencias:\n",
    "\n",
    "* Inicialización con ceros.\n",
    "* Inicialización con una variable aleatoria normal.\n",
    "* Inicialización con los valores por defecto de Keras para una capa Dense (estrategia *glorot uniform*)\n"
   ]
  },
  {
   "cell_type": "markdown",
   "metadata": {
    "colab_type": "text",
    "id": "PDldFBNybnZi"
   },
   "source": [
    "# Modelo 1. Utilizando la Función de activación Relu e inicilizador de pesos y biases 'Zeros' "
   ]
  },
  {
   "cell_type": "code",
   "execution_count": 34,
   "metadata": {
    "colab": {
     "base_uri": "https://localhost:8080/",
     "height": 54
    },
    "colab_type": "code",
    "executionInfo": {
     "elapsed": 500211,
     "status": "ok",
     "timestamp": 1589394012769,
     "user": {
      "displayName": "Jose Alcaide",
      "photoUrl": "https://lh3.googleusercontent.com/a-/AOh14Gh0oUNuML9-DLG8N62UMYSReO9bvu-Is30bpWCJ=s64",
      "userId": "15022740438935184894"
     },
     "user_tz": -120
    },
    "id": "mbY_WUQI9Ete",
    "outputId": "ff83978a-9f14-47d4-ed7d-93b78fdbe7c1"
   },
   "outputs": [
    {
     "name": "stdout",
     "output_type": "stream",
     "text": [
      "La accuracy en entrenamiento del modelo_relu_zero es:  0.1010625\n",
      "La accuracy en validación del modelo_relu_zero es:  0.09833333641290665\n"
     ]
    }
   ],
   "source": [
    "\n",
    "model_relu_zero = keras.Sequential([\n",
    "    keras.layers.Flatten(input_shape=(28, 28)),\n",
    "    keras.layers.Dense(128, activation='relu', kernel_initializer='zeros', bias_initializer='zeros'),\n",
    "    keras.layers.Dense(64, activation='relu',kernel_initializer='zeros', bias_initializer='zeros'),\n",
    "    keras.layers.Dense(64, activation='relu', kernel_initializer='zeros', bias_initializer='zeros'),\n",
    "    keras.layers.Dense(10, activation='softmax')\n",
    "])\n",
    "\n",
    "\n",
    "model_relu_zero.compile(optimizer='sgd',\n",
    "              loss='sparse_categorical_crossentropy',\n",
    "              metrics=['accuracy'])\n",
    "\n",
    "history_relu_zero = model_relu_zero.fit(x_train, y_train, epochs=20, batch_size= 64,\n",
    "                                        validation_split=0.2, verbose=0, shuffle=True)\n",
    "\n",
    "\n",
    "\n",
    "print(\"La accuracy en entrenamiento del modelo_relu_zero es: \", np.max(history_relu_zero.history['accuracy']))\n",
    "print(\"La accuracy en validación del modelo_relu_zero es: \", np.max(history_relu_zero.history['val_accuracy']))\n",
    "\n",
    "\n",
    "acc_relu_zero = round(np.max(history_relu_zero.history['accuracy']),4)\n",
    "val_acc_relu_zero = round(np.max(history_relu_zero.history['val_accuracy']),4)\n",
    "\n",
    "\n"
   ]
  },
  {
   "cell_type": "code",
   "execution_count": 35,
   "metadata": {
    "colab": {
     "base_uri": "https://localhost:8080/",
     "height": 345
    },
    "colab_type": "code",
    "executionInfo": {
     "elapsed": 500202,
     "status": "ok",
     "timestamp": 1589394012770,
     "user": {
      "displayName": "Jose Alcaide",
      "photoUrl": "https://lh3.googleusercontent.com/a-/AOh14Gh0oUNuML9-DLG8N62UMYSReO9bvu-Is30bpWCJ=s64",
      "userId": "15022740438935184894"
     },
     "user_tz": -120
    },
    "id": "fmcA5VDaPb3-",
    "outputId": "188118be-9d4b-4339-8d62-3a76a82cfc6f"
   },
   "outputs": [
    {
     "name": "stdout",
     "output_type": "stream",
     "text": [
      "Model: \"sequential_8\"\n",
      "_________________________________________________________________\n",
      "Layer (type)                 Output Shape              Param #   \n",
      "=================================================================\n",
      "flatten_8 (Flatten)          (None, 784)               0         \n",
      "_________________________________________________________________\n",
      "dense_29 (Dense)             (None, 128)               100480    \n",
      "_________________________________________________________________\n",
      "dense_30 (Dense)             (None, 64)                8256      \n",
      "_________________________________________________________________\n",
      "dense_31 (Dense)             (None, 64)                4160      \n",
      "_________________________________________________________________\n",
      "dense_32 (Dense)             (None, 10)                650       \n",
      "=================================================================\n",
      "Total params: 113,546\n",
      "Trainable params: 113,546\n",
      "Non-trainable params: 0\n",
      "_________________________________________________________________\n"
     ]
    }
   ],
   "source": [
    "model_relu_zero.summary()"
   ]
  },
  {
   "cell_type": "markdown",
   "metadata": {
    "colab_type": "text",
    "id": "8wm0CC9OcAok"
   },
   "source": [
    "# Modelo 2. Utilizando la Función de activación Relu e inicilizador de pesos y biases 'random_normal' "
   ]
  },
  {
   "cell_type": "code",
   "execution_count": 36,
   "metadata": {
    "colab": {
     "base_uri": "https://localhost:8080/",
     "height": 54
    },
    "colab_type": "code",
    "executionInfo": {
     "elapsed": 558696,
     "status": "ok",
     "timestamp": 1589394071272,
     "user": {
      "displayName": "Jose Alcaide",
      "photoUrl": "https://lh3.googleusercontent.com/a-/AOh14Gh0oUNuML9-DLG8N62UMYSReO9bvu-Is30bpWCJ=s64",
      "userId": "15022740438935184894"
     },
     "user_tz": -120
    },
    "id": "BPuKXKhJXBr0",
    "outputId": "78a32d70-1073-4ab1-96d0-8b9a3377617b"
   },
   "outputs": [
    {
     "name": "stdout",
     "output_type": "stream",
     "text": [
      "La accuracy en entrenamiento del modelo_relu_norm es:  0.874125\n",
      "La accuracy en validación del modelo_relu_norm es:  0.8655833601951599\n"
     ]
    }
   ],
   "source": [
    "model_relu_norm = keras.Sequential([\n",
    "    keras.layers.Flatten(input_shape=(28, 28)),\n",
    "    keras.layers.Dense(128, activation='relu', kernel_initializer='random_normal', bias_initializer='random_normal'),\n",
    "    keras.layers.Dense(64, activation='relu',kernel_initializer='random_normal', bias_initializer='random_normal'),\n",
    "    keras.layers.Dense(64, activation='relu', kernel_initializer='random_normal', bias_initializer='random_normal'),\n",
    "    keras.layers.Dense(10, activation='softmax')\n",
    "])\n",
    "\n",
    "\n",
    "model_relu_norm.compile(optimizer='sgd',\n",
    "              loss='sparse_categorical_crossentropy',\n",
    "              metrics=['accuracy'])\n",
    "\n",
    "history_relu_norm = model_relu_norm.fit(x_train, y_train, epochs=20, batch_size= 64,\n",
    "                                        validation_split=0.2, verbose=0, shuffle=True)\n",
    "\n",
    "\n",
    "\n",
    "print(\"La accuracy en entrenamiento del modelo_relu_norm es: \", np.max(history_relu_norm.history['accuracy']))\n",
    "print(\"La accuracy en validación del modelo_relu_norm es: \", np.max(history_relu_norm.history['val_accuracy']))\n",
    "\n",
    "acc_relu_norm = round(np.max(history_relu_norm.history['accuracy']),4)\n",
    "val_acc_relu_norm = round(np.max(history_relu_norm.history['val_accuracy']),4)\n"
   ]
  },
  {
   "cell_type": "code",
   "execution_count": 37,
   "metadata": {
    "colab": {
     "base_uri": "https://localhost:8080/",
     "height": 345
    },
    "colab_type": "code",
    "executionInfo": {
     "elapsed": 558688,
     "status": "ok",
     "timestamp": 1589394071273,
     "user": {
      "displayName": "Jose Alcaide",
      "photoUrl": "https://lh3.googleusercontent.com/a-/AOh14Gh0oUNuML9-DLG8N62UMYSReO9bvu-Is30bpWCJ=s64",
      "userId": "15022740438935184894"
     },
     "user_tz": -120
    },
    "id": "ipaWifRxPhz4",
    "outputId": "a172d20e-caac-4439-9ad2-de3f72166d12"
   },
   "outputs": [
    {
     "name": "stdout",
     "output_type": "stream",
     "text": [
      "Model: \"sequential_9\"\n",
      "_________________________________________________________________\n",
      "Layer (type)                 Output Shape              Param #   \n",
      "=================================================================\n",
      "flatten_9 (Flatten)          (None, 784)               0         \n",
      "_________________________________________________________________\n",
      "dense_33 (Dense)             (None, 128)               100480    \n",
      "_________________________________________________________________\n",
      "dense_34 (Dense)             (None, 64)                8256      \n",
      "_________________________________________________________________\n",
      "dense_35 (Dense)             (None, 64)                4160      \n",
      "_________________________________________________________________\n",
      "dense_36 (Dense)             (None, 10)                650       \n",
      "=================================================================\n",
      "Total params: 113,546\n",
      "Trainable params: 113,546\n",
      "Non-trainable params: 0\n",
      "_________________________________________________________________\n"
     ]
    }
   ],
   "source": [
    "model_relu_norm.summary()"
   ]
  },
  {
   "cell_type": "markdown",
   "metadata": {
    "colab_type": "text",
    "id": "ppfUnSg3wwHN"
   },
   "source": [
    "# Modelo 3. Utilizando la Función de activación Relu e inicilizador de pesos y biases 'glorot_uniform'"
   ]
  },
  {
   "cell_type": "code",
   "execution_count": 38,
   "metadata": {
    "colab": {
     "base_uri": "https://localhost:8080/",
     "height": 54
    },
    "colab_type": "code",
    "executionInfo": {
     "elapsed": 617353,
     "status": "ok",
     "timestamp": 1589394129946,
     "user": {
      "displayName": "Jose Alcaide",
      "photoUrl": "https://lh3.googleusercontent.com/a-/AOh14Gh0oUNuML9-DLG8N62UMYSReO9bvu-Is30bpWCJ=s64",
      "userId": "15022740438935184894"
     },
     "user_tz": -120
    },
    "id": "e6N7vEFPXB7f",
    "outputId": "196cee39-a3ad-4b6c-c881-4e6c24eaa824"
   },
   "outputs": [
    {
     "name": "stdout",
     "output_type": "stream",
     "text": [
      "La accuracy en entrenamiento del modelo_relu_defec es:  0.8848125\n",
      "La accuracy en validación del modelo_relu_defec es:  0.8727499842643738\n"
     ]
    }
   ],
   "source": [
    "model_relu_defec = keras.Sequential([\n",
    "    keras.layers.Flatten(input_shape=(28, 28)),\n",
    "    keras.layers.Dense(128, activation='relu', kernel_initializer='glorot_uniform', bias_initializer='glorot_uniform'),\n",
    "    keras.layers.Dense(64, activation='relu',kernel_initializer='glorot_uniform', bias_initializer='glorot_uniform'),\n",
    "    keras.layers.Dense(64, activation='relu', kernel_initializer='glorot_uniform', bias_initializer='glorot_uniform'),\n",
    "    keras.layers.Dense(10, activation='softmax')\n",
    "])\n",
    "\n",
    "\n",
    "model_relu_defec.compile(optimizer='sgd',\n",
    "              loss='sparse_categorical_crossentropy',\n",
    "              metrics=['accuracy'])\n",
    "\n",
    "history_relu_defec = model_relu_defec.fit(x_train, y_train, epochs=20, batch_size= 64,\n",
    "                                          validation_split=0.2, verbose=0, shuffle=True)\n",
    "\n",
    "\n",
    "\n",
    "print(\"La accuracy en entrenamiento del modelo_relu_defec es: \", np.max(history_relu_defec.history['accuracy']))\n",
    "print(\"La accuracy en validación del modelo_relu_defec es: \", np.max(history_relu_defec.history['val_accuracy']))\n",
    "\n",
    "acc_relu_defec = round(np.max(history_relu_defec.history['accuracy']),4)\n",
    "val_acc_relu_defec = round(np.max(history_relu_defec.history['val_accuracy']),4)\n"
   ]
  },
  {
   "cell_type": "code",
   "execution_count": 39,
   "metadata": {
    "colab": {
     "base_uri": "https://localhost:8080/",
     "height": 345
    },
    "colab_type": "code",
    "executionInfo": {
     "elapsed": 617345,
     "status": "ok",
     "timestamp": 1589394129947,
     "user": {
      "displayName": "Jose Alcaide",
      "photoUrl": "https://lh3.googleusercontent.com/a-/AOh14Gh0oUNuML9-DLG8N62UMYSReO9bvu-Is30bpWCJ=s64",
      "userId": "15022740438935184894"
     },
     "user_tz": -120
    },
    "id": "hoQzoZHgPl4z",
    "outputId": "8caf6c74-e5ab-4de4-97d8-c9b9c56973f7"
   },
   "outputs": [
    {
     "name": "stdout",
     "output_type": "stream",
     "text": [
      "Model: \"sequential_10\"\n",
      "_________________________________________________________________\n",
      "Layer (type)                 Output Shape              Param #   \n",
      "=================================================================\n",
      "flatten_10 (Flatten)         (None, 784)               0         \n",
      "_________________________________________________________________\n",
      "dense_37 (Dense)             (None, 128)               100480    \n",
      "_________________________________________________________________\n",
      "dense_38 (Dense)             (None, 64)                8256      \n",
      "_________________________________________________________________\n",
      "dense_39 (Dense)             (None, 64)                4160      \n",
      "_________________________________________________________________\n",
      "dense_40 (Dense)             (None, 10)                650       \n",
      "=================================================================\n",
      "Total params: 113,546\n",
      "Trainable params: 113,546\n",
      "Non-trainable params: 0\n",
      "_________________________________________________________________\n"
     ]
    }
   ],
   "source": [
    "model_relu_defec.summary()"
   ]
  },
  {
   "cell_type": "markdown",
   "metadata": {
    "colab_type": "text",
    "id": "3lrrE3kow460"
   },
   "source": [
    "### Vamos a crear un dataframe con los valores devuelos de los últimos tres modelos para comparar facilmente que método de inicialización nos arroja mejores resultados."
   ]
  },
  {
   "cell_type": "code",
   "execution_count": 40,
   "metadata": {
    "colab": {},
    "colab_type": "code",
    "id": "N2p3wNftXB3M"
   },
   "outputs": [],
   "source": [
    "df_2 = pd.DataFrame({'modelo': ['Zeros', 'random_normal', 'glorot_uniform'],  \n",
    "                     'Accuracy Train' : [acc_relu_zero,acc_relu_norm,acc_relu_defec],\n",
    "                     'Accuracy Validación' : [val_acc_relu_zero, val_acc_relu_norm, val_acc_relu_defec],\n",
    "                     \n",
    "                     })"
   ]
  },
  {
   "cell_type": "code",
   "execution_count": 41,
   "metadata": {
    "colab": {
     "base_uri": "https://localhost:8080/",
     "height": 138
    },
    "colab_type": "code",
    "executionInfo": {
     "elapsed": 617335,
     "status": "ok",
     "timestamp": 1589394129948,
     "user": {
      "displayName": "Jose Alcaide",
      "photoUrl": "https://lh3.googleusercontent.com/a-/AOh14Gh0oUNuML9-DLG8N62UMYSReO9bvu-Is30bpWCJ=s64",
      "userId": "15022740438935184894"
     },
     "user_tz": -120
    },
    "id": "lXDBZmBtXB0k",
    "outputId": "bcc7c875-fe1b-4e8a-bde2-da346f69a99c"
   },
   "outputs": [
    {
     "data": {
      "text/html": [
       "<div>\n",
       "<style scoped>\n",
       "    .dataframe tbody tr th:only-of-type {\n",
       "        vertical-align: middle;\n",
       "    }\n",
       "\n",
       "    .dataframe tbody tr th {\n",
       "        vertical-align: top;\n",
       "    }\n",
       "\n",
       "    .dataframe thead th {\n",
       "        text-align: right;\n",
       "    }\n",
       "</style>\n",
       "<table border=\"1\" class=\"dataframe\">\n",
       "  <thead>\n",
       "    <tr style=\"text-align: right;\">\n",
       "      <th></th>\n",
       "      <th>modelo</th>\n",
       "      <th>Accuracy Train</th>\n",
       "      <th>Accuracy Validación</th>\n",
       "    </tr>\n",
       "  </thead>\n",
       "  <tbody>\n",
       "    <tr>\n",
       "      <th>0</th>\n",
       "      <td>Zeros</td>\n",
       "      <td>0.1011</td>\n",
       "      <td>0.0983</td>\n",
       "    </tr>\n",
       "    <tr>\n",
       "      <th>1</th>\n",
       "      <td>random_normal</td>\n",
       "      <td>0.8741</td>\n",
       "      <td>0.8656</td>\n",
       "    </tr>\n",
       "    <tr>\n",
       "      <th>2</th>\n",
       "      <td>glorot_uniform</td>\n",
       "      <td>0.8848</td>\n",
       "      <td>0.8727</td>\n",
       "    </tr>\n",
       "  </tbody>\n",
       "</table>\n",
       "</div>"
      ],
      "text/plain": [
       "           modelo  Accuracy Train  Accuracy Validación\n",
       "0           Zeros          0.1011               0.0983\n",
       "1   random_normal          0.8741               0.8656\n",
       "2  glorot_uniform          0.8848               0.8727"
      ]
     },
     "execution_count": 41,
     "metadata": {},
     "output_type": "execute_result"
    }
   ],
   "source": [
    "df_2"
   ]
  },
  {
   "cell_type": "markdown",
   "metadata": {
    "colab_type": "text",
    "id": "-py4ToHtcb2b"
   },
   "source": [
    "# Conclusiones:\n",
    "  * La estrategia para incializar los parámetros de pesos y biases en esta red neuronal tiene sus consecuencias.\n",
    "  * El método que peor resultado devuelve, sin dudas, es inicilizando por ceros los parámetros.\n",
    "  * Dependiendo de la ejecución de la red, los métodos 'random_normal' y 'glorot_uniform' ofrecen mejores ajustes que el otro método. Estos dos dan resultados muy similiares, pero por norma general, la que trae por defecto es un poco mejor que inicilizar por una variable aleatoria normal."
   ]
  },
  {
   "cell_type": "markdown",
   "metadata": {
    "colab_type": "text",
    "id": "oyay1Mi-QlBf"
   },
   "source": [
    "## 3. Optimizadores"
   ]
  },
  {
   "cell_type": "markdown",
   "metadata": {
    "colab_type": "text",
    "id": "F2dkgvEVQoMa"
   },
   "source": [
    "**Ejercicio 3 *(1.25 puntos)***: Partiendo de una red similar a la del ejercicio anterior (utilizando la mejor estrategia de inicialización observada), comparar y analizar las diferencias que se observan  al entrenar con varios de los optimizadores vistos en clase, incluyendo SGD como optimizador básico (se puede explorar el espacio de hiperparámetros de cada optimizador, aunque para optimizadores más avanzados del estilo de adam y RMSprop es buena idea dejar los valores por defecto provistos por Keras)."
   ]
  },
  {
   "cell_type": "markdown",
   "metadata": {
    "colab_type": "text",
    "id": "mXNLfwB7xmF5"
   },
   "source": [
    "### Usamos los resultados que vamos realizando en esta actividad, es decir, usamos la función Relu y la forma de incilizar, la que trae por defecto Keras. En este apartado hemos creado seis modelo distintos, cambiando la forma de optimizar. Y comparamos el resultado con otro modelo realizado anteriormente cuyo optimizador usaba SGD. Por tanto, la comparativa final se realiza sobre siete modelos."
   ]
  },
  {
   "cell_type": "markdown",
   "metadata": {
    "colab_type": "text",
    "id": "9zg7pK6jHPhL"
   },
   "source": [
    "## Modelo con Función de activación Relu, usando inicializador de parámetros el que usa por defecto Keras 'glorot uniform' y optimizador 'adam'."
   ]
  },
  {
   "cell_type": "code",
   "execution_count": 42,
   "metadata": {
    "colab": {
     "base_uri": "https://localhost:8080/",
     "height": 54
    },
    "colab_type": "code",
    "executionInfo": {
     "elapsed": 690907,
     "status": "ok",
     "timestamp": 1589394203528,
     "user": {
      "displayName": "Jose Alcaide",
      "photoUrl": "https://lh3.googleusercontent.com/a-/AOh14Gh0oUNuML9-DLG8N62UMYSReO9bvu-Is30bpWCJ=s64",
      "userId": "15022740438935184894"
     },
     "user_tz": -120
    },
    "id": "9pUlqky8eH6q",
    "outputId": "713adfd8-b6e9-45bc-c6d5-c6c910d2a7a0"
   },
   "outputs": [
    {
     "name": "stdout",
     "output_type": "stream",
     "text": [
      "La accuracy en entrenamiento del modelo_relu_defec_adam es:  0.93220836\n",
      "La accuracy en validación del modelo_relu_defec_adam es:  0.8930833339691162\n"
     ]
    }
   ],
   "source": [
    "model_relu_defec_adam = keras.Sequential([\n",
    "    keras.layers.Flatten(input_shape=(28, 28)),\n",
    "    keras.layers.Dense(128, activation='relu', kernel_initializer='glorot_uniform', bias_initializer='glorot_uniform'),\n",
    "    keras.layers.Dense(64, activation='relu',kernel_initializer='glorot_uniform', bias_initializer='glorot_uniform'),\n",
    "    keras.layers.Dense(64, activation='relu', kernel_initializer='glorot_uniform', bias_initializer='glorot_uniform'),\n",
    "    keras.layers.Dense(10, activation='softmax')\n",
    "])\n",
    "\n",
    "\n",
    "model_relu_defec_adam.compile(optimizer='adam',\n",
    "              loss='sparse_categorical_crossentropy',\n",
    "              metrics=['accuracy'])\n",
    "\n",
    "history_relu_defec_adam = model_relu_defec_adam.fit(x_train, y_train, epochs=20, \n",
    "                                                    batch_size= 64,validation_split=0.2, verbose=0, shuffle=True)\n",
    "\n",
    "\n",
    "\n",
    "print(\"La accuracy en entrenamiento del modelo_relu_defec_adam es: \", np.max(history_relu_defec_adam.history['accuracy']))\n",
    "print(\"La accuracy en validación del modelo_relu_defec_adam es: \", np.max(history_relu_defec_adam.history['val_accuracy']))\n",
    "\n",
    "acc_relu_defec_adam = round(np.max(history_relu_defec_adam.history['accuracy']),4)\n",
    "val_acc_relu_defec_adam = round(np.max(history_relu_defec_adam.history['val_accuracy']),4)\n"
   ]
  },
  {
   "cell_type": "code",
   "execution_count": 43,
   "metadata": {
    "colab": {
     "base_uri": "https://localhost:8080/",
     "height": 345
    },
    "colab_type": "code",
    "executionInfo": {
     "elapsed": 690897,
     "status": "ok",
     "timestamp": 1589394203529,
     "user": {
      "displayName": "Jose Alcaide",
      "photoUrl": "https://lh3.googleusercontent.com/a-/AOh14Gh0oUNuML9-DLG8N62UMYSReO9bvu-Is30bpWCJ=s64",
      "userId": "15022740438935184894"
     },
     "user_tz": -120
    },
    "id": "rMSgs2O9PqyG",
    "outputId": "ec8883d7-c762-4180-9abd-1ef3da3d1136"
   },
   "outputs": [
    {
     "name": "stdout",
     "output_type": "stream",
     "text": [
      "Model: \"sequential_11\"\n",
      "_________________________________________________________________\n",
      "Layer (type)                 Output Shape              Param #   \n",
      "=================================================================\n",
      "flatten_11 (Flatten)         (None, 784)               0         \n",
      "_________________________________________________________________\n",
      "dense_41 (Dense)             (None, 128)               100480    \n",
      "_________________________________________________________________\n",
      "dense_42 (Dense)             (None, 64)                8256      \n",
      "_________________________________________________________________\n",
      "dense_43 (Dense)             (None, 64)                4160      \n",
      "_________________________________________________________________\n",
      "dense_44 (Dense)             (None, 10)                650       \n",
      "=================================================================\n",
      "Total params: 113,546\n",
      "Trainable params: 113,546\n",
      "Non-trainable params: 0\n",
      "_________________________________________________________________\n"
     ]
    }
   ],
   "source": [
    "model_relu_defec_adam.summary()"
   ]
  },
  {
   "cell_type": "markdown",
   "metadata": {
    "colab_type": "text",
    "id": "zS9aSdwMyeZA"
   },
   "source": [
    "## Modelo con Función de activación Relu, usando inicializador de parámetros el que usa por defecto Keras 'glorot uniform' y optimizador 'RMSprop'."
   ]
  },
  {
   "cell_type": "code",
   "execution_count": 44,
   "metadata": {
    "colab": {
     "base_uri": "https://localhost:8080/",
     "height": 54
    },
    "colab_type": "code",
    "executionInfo": {
     "elapsed": 758616,
     "status": "ok",
     "timestamp": 1589394271256,
     "user": {
      "displayName": "Jose Alcaide",
      "photoUrl": "https://lh3.googleusercontent.com/a-/AOh14Gh0oUNuML9-DLG8N62UMYSReO9bvu-Is30bpWCJ=s64",
      "userId": "15022740438935184894"
     },
     "user_tz": -120
    },
    "id": "STKxe0S9eH-N",
    "outputId": "ce16902f-1a7c-4e92-abb7-3734708bb11e"
   },
   "outputs": [
    {
     "name": "stdout",
     "output_type": "stream",
     "text": [
      "La accuracy en entrenamiento del modelo_relu_defec_RMSprop es:  0.92125\n",
      "La accuracy en validación del modelo_relu_defec_RMSprop es:  0.8859999775886536\n"
     ]
    }
   ],
   "source": [
    "model_relu_defec_RMSprop = keras.Sequential([\n",
    "    keras.layers.Flatten(input_shape=(28, 28)),\n",
    "    keras.layers.Dense(128, activation='relu', kernel_initializer='glorot_uniform', bias_initializer='glorot_uniform'),\n",
    "    keras.layers.Dense(64, activation='relu',kernel_initializer='glorot_uniform', bias_initializer='glorot_uniform'),\n",
    "    keras.layers.Dense(64, activation='relu', kernel_initializer='glorot_uniform', bias_initializer='glorot_uniform'),\n",
    "    keras.layers.Dense(10, activation='softmax')\n",
    "])\n",
    "\n",
    "\n",
    "model_relu_defec_RMSprop.compile(optimizer='RMSprop',\n",
    "              loss='sparse_categorical_crossentropy',\n",
    "              metrics=['accuracy'])\n",
    "\n",
    "history_relu_defec_RMSprop = model_relu_defec_RMSprop.fit(x_train, y_train, epochs=20, batch_size= 64,\n",
    "                                                          validation_split=0.2, verbose=0, shuffle=True)\n",
    "\n",
    "\n",
    "\n",
    "print(\"La accuracy en entrenamiento del modelo_relu_defec_RMSprop es: \", \n",
    "      np.max(history_relu_defec_RMSprop.history['accuracy']))\n",
    "\n",
    "print(\"La accuracy en validación del modelo_relu_defec_RMSprop es: \",\n",
    "      np.max(history_relu_defec_RMSprop.history['val_accuracy']))\n",
    "\n",
    "acc_relu_defec_RMSprop = round(np.max(history_relu_defec_RMSprop.history['accuracy']),4)\n",
    "val_acc_relu_defec_RMSprop = round(np.max(history_relu_defec_RMSprop.history['val_accuracy']),4)\n"
   ]
  },
  {
   "cell_type": "code",
   "execution_count": 45,
   "metadata": {
    "colab": {
     "base_uri": "https://localhost:8080/",
     "height": 345
    },
    "colab_type": "code",
    "executionInfo": {
     "elapsed": 758607,
     "status": "ok",
     "timestamp": 1589394271256,
     "user": {
      "displayName": "Jose Alcaide",
      "photoUrl": "https://lh3.googleusercontent.com/a-/AOh14Gh0oUNuML9-DLG8N62UMYSReO9bvu-Is30bpWCJ=s64",
      "userId": "15022740438935184894"
     },
     "user_tz": -120
    },
    "id": "eq08flSePxSe",
    "outputId": "970ebda8-7d5b-40e7-cab3-faedce57c227"
   },
   "outputs": [
    {
     "name": "stdout",
     "output_type": "stream",
     "text": [
      "Model: \"sequential_12\"\n",
      "_________________________________________________________________\n",
      "Layer (type)                 Output Shape              Param #   \n",
      "=================================================================\n",
      "flatten_12 (Flatten)         (None, 784)               0         \n",
      "_________________________________________________________________\n",
      "dense_45 (Dense)             (None, 128)               100480    \n",
      "_________________________________________________________________\n",
      "dense_46 (Dense)             (None, 64)                8256      \n",
      "_________________________________________________________________\n",
      "dense_47 (Dense)             (None, 64)                4160      \n",
      "_________________________________________________________________\n",
      "dense_48 (Dense)             (None, 10)                650       \n",
      "=================================================================\n",
      "Total params: 113,546\n",
      "Trainable params: 113,546\n",
      "Non-trainable params: 0\n",
      "_________________________________________________________________\n"
     ]
    }
   ],
   "source": [
    "model_relu_defec_RMSprop.summary()"
   ]
  },
  {
   "cell_type": "markdown",
   "metadata": {
    "colab_type": "text",
    "id": "MrPYxVqaynSq"
   },
   "source": [
    "## Modelo con Función de activación Relu, usando inicializador de parámetros el que usa por defecto Keras 'glorot uniform' y optimizador 'Adagrad'."
   ]
  },
  {
   "cell_type": "code",
   "execution_count": 46,
   "metadata": {
    "colab": {
     "base_uri": "https://localhost:8080/",
     "height": 54
    },
    "colab_type": "code",
    "executionInfo": {
     "elapsed": 824846,
     "status": "ok",
     "timestamp": 1589394337503,
     "user": {
      "displayName": "Jose Alcaide",
      "photoUrl": "https://lh3.googleusercontent.com/a-/AOh14Gh0oUNuML9-DLG8N62UMYSReO9bvu-Is30bpWCJ=s64",
      "userId": "15022740438935184894"
     },
     "user_tz": -120
    },
    "id": "98b9vZMJeID6",
    "outputId": "4fb6b0f3-5fe4-4ec6-a9b8-a03d80252b6b"
   },
   "outputs": [
    {
     "name": "stdout",
     "output_type": "stream",
     "text": [
      "La accuracy en entrenamiento del modelo_relu_defec_Adagrad es:  0.915375\n",
      "La accuracy en validación del modelo_relu_defec_Adagrad es:  0.8887500166893005\n"
     ]
    }
   ],
   "source": [
    "model_relu_defec_Adagrad = keras.Sequential([\n",
    "    keras.layers.Flatten(input_shape=(28, 28)),\n",
    "    keras.layers.Dense(128, activation='relu', kernel_initializer='glorot_uniform', bias_initializer='glorot_uniform'),\n",
    "    keras.layers.Dense(64, activation='relu',kernel_initializer='glorot_uniform', bias_initializer='glorot_uniform'),\n",
    "    keras.layers.Dense(64, activation='relu', kernel_initializer='glorot_uniform', bias_initializer='glorot_uniform'),\n",
    "    keras.layers.Dense(10, activation='softmax')\n",
    "])\n",
    "\n",
    "\n",
    "model_relu_defec_Adagrad.compile(optimizer='Adagrad',\n",
    "              loss='sparse_categorical_crossentropy',\n",
    "              metrics=['accuracy'])\n",
    "\n",
    "history_relu_defec_Adagrad = model_relu_defec_Adagrad.fit(x_train, y_train, epochs=20, \n",
    "                                                          batch_size= 64,validation_split=0.2, verbose=0, shuffle=True)\n",
    "\n",
    "\n",
    "\n",
    "print(\"La accuracy en entrenamiento del modelo_relu_defec_Adagrad es: \",\n",
    "      np.max(history_relu_defec_Adagrad.history['accuracy']))\n",
    "\n",
    "print(\"La accuracy en validación del modelo_relu_defec_Adagrad es: \",\n",
    "      np.max(history_relu_defec_Adagrad.history['val_accuracy']))\n",
    "\n",
    "acc_relu_defec_Adagrad = round(np.max(history_relu_defec_Adagrad.history['accuracy']),4)\n",
    "val_acc_relu_defec_Adagrad = round(np.max(history_relu_defec_Adagrad.history['val_accuracy']),4)\n"
   ]
  },
  {
   "cell_type": "code",
   "execution_count": 47,
   "metadata": {
    "colab": {
     "base_uri": "https://localhost:8080/",
     "height": 345
    },
    "colab_type": "code",
    "executionInfo": {
     "elapsed": 824837,
     "status": "ok",
     "timestamp": 1589394337504,
     "user": {
      "displayName": "Jose Alcaide",
      "photoUrl": "https://lh3.googleusercontent.com/a-/AOh14Gh0oUNuML9-DLG8N62UMYSReO9bvu-Is30bpWCJ=s64",
      "userId": "15022740438935184894"
     },
     "user_tz": -120
    },
    "id": "NdtEe-A7QGhy",
    "outputId": "cf083fa4-1cb3-4952-909b-fc1bc567dc90"
   },
   "outputs": [
    {
     "name": "stdout",
     "output_type": "stream",
     "text": [
      "Model: \"sequential_13\"\n",
      "_________________________________________________________________\n",
      "Layer (type)                 Output Shape              Param #   \n",
      "=================================================================\n",
      "flatten_13 (Flatten)         (None, 784)               0         \n",
      "_________________________________________________________________\n",
      "dense_49 (Dense)             (None, 128)               100480    \n",
      "_________________________________________________________________\n",
      "dense_50 (Dense)             (None, 64)                8256      \n",
      "_________________________________________________________________\n",
      "dense_51 (Dense)             (None, 64)                4160      \n",
      "_________________________________________________________________\n",
      "dense_52 (Dense)             (None, 10)                650       \n",
      "=================================================================\n",
      "Total params: 113,546\n",
      "Trainable params: 113,546\n",
      "Non-trainable params: 0\n",
      "_________________________________________________________________\n"
     ]
    }
   ],
   "source": [
    "model_relu_defec_Adagrad.summary()"
   ]
  },
  {
   "cell_type": "markdown",
   "metadata": {
    "colab_type": "text",
    "id": "5Jzl27pmytqz"
   },
   "source": [
    "## Modelo con Función de activación Relu, usando inicializador de parámetros el que usa por defecto Keras 'glorot uniform' y optimizador 'Adadelta'."
   ]
  },
  {
   "cell_type": "code",
   "execution_count": 48,
   "metadata": {
    "colab": {
     "base_uri": "https://localhost:8080/",
     "height": 54
    },
    "colab_type": "code",
    "executionInfo": {
     "elapsed": 900476,
     "status": "ok",
     "timestamp": 1589394413151,
     "user": {
      "displayName": "Jose Alcaide",
      "photoUrl": "https://lh3.googleusercontent.com/a-/AOh14Gh0oUNuML9-DLG8N62UMYSReO9bvu-Is30bpWCJ=s64",
      "userId": "15022740438935184894"
     },
     "user_tz": -120
    },
    "id": "89ymO0IVeIJU",
    "outputId": "953e4cf0-e6f9-4978-e517-940491282e99"
   },
   "outputs": [
    {
     "name": "stdout",
     "output_type": "stream",
     "text": [
      "La accuracy en entrenamiento del modelo_relu_defec_Adadelta es:  0.9315208\n",
      "La accuracy en validación del modelo_relu_defec_Adadelta es:  0.8933333158493042\n"
     ]
    }
   ],
   "source": [
    "model_relu_defec_Adadelta = keras.Sequential([\n",
    "    keras.layers.Flatten(input_shape=(28, 28)),\n",
    "    keras.layers.Dense(128, activation='relu', kernel_initializer='glorot_uniform', bias_initializer='glorot_uniform'),\n",
    "    keras.layers.Dense(64, activation='relu',kernel_initializer='glorot_uniform', bias_initializer='glorot_uniform'),\n",
    "    keras.layers.Dense(64, activation='relu', kernel_initializer='glorot_uniform', bias_initializer='glorot_uniform'),\n",
    "    keras.layers.Dense(10, activation='softmax')\n",
    "])\n",
    "\n",
    "\n",
    "model_relu_defec_Adadelta.compile(optimizer='Adadelta',\n",
    "              loss='sparse_categorical_crossentropy',\n",
    "              metrics=['accuracy'])\n",
    "\n",
    "history_relu_defec_Adadelta = model_relu_defec_Adadelta.fit(x_train, y_train, \n",
    "                                                            epochs=20, batch_size= 64,validation_split=0.2,\n",
    "                                                            verbose=0, shuffle=True)\n",
    "\n",
    "\n",
    "\n",
    "print(\"La accuracy en entrenamiento del modelo_relu_defec_Adadelta es: \",\n",
    "      np.max(history_relu_defec_Adadelta.history['accuracy']))\n",
    "\n",
    "print(\"La accuracy en validación del modelo_relu_defec_Adadelta es: \", \n",
    "      np.max(history_relu_defec_Adadelta.history['val_accuracy']))\n",
    "\n",
    "acc_relu_defec_Adadelta = round(np.max(history_relu_defec_Adadelta.history['accuracy']),4)\n",
    "\n",
    "val_acc_relu_defec_Adadelta = round(np.max(history_relu_defec_Adadelta.history['val_accuracy']),4)\n"
   ]
  },
  {
   "cell_type": "code",
   "execution_count": 49,
   "metadata": {
    "colab": {
     "base_uri": "https://localhost:8080/",
     "height": 345
    },
    "colab_type": "code",
    "executionInfo": {
     "elapsed": 900468,
     "status": "ok",
     "timestamp": 1589394413152,
     "user": {
      "displayName": "Jose Alcaide",
      "photoUrl": "https://lh3.googleusercontent.com/a-/AOh14Gh0oUNuML9-DLG8N62UMYSReO9bvu-Is30bpWCJ=s64",
      "userId": "15022740438935184894"
     },
     "user_tz": -120
    },
    "id": "XfP5-Ck6QLMX",
    "outputId": "cb2c9c09-f467-4efe-ca06-e35c6146520e"
   },
   "outputs": [
    {
     "name": "stdout",
     "output_type": "stream",
     "text": [
      "Model: \"sequential_14\"\n",
      "_________________________________________________________________\n",
      "Layer (type)                 Output Shape              Param #   \n",
      "=================================================================\n",
      "flatten_14 (Flatten)         (None, 784)               0         \n",
      "_________________________________________________________________\n",
      "dense_53 (Dense)             (None, 128)               100480    \n",
      "_________________________________________________________________\n",
      "dense_54 (Dense)             (None, 64)                8256      \n",
      "_________________________________________________________________\n",
      "dense_55 (Dense)             (None, 64)                4160      \n",
      "_________________________________________________________________\n",
      "dense_56 (Dense)             (None, 10)                650       \n",
      "=================================================================\n",
      "Total params: 113,546\n",
      "Trainable params: 113,546\n",
      "Non-trainable params: 0\n",
      "_________________________________________________________________\n"
     ]
    }
   ],
   "source": [
    "model_relu_defec_Adadelta.summary()"
   ]
  },
  {
   "cell_type": "markdown",
   "metadata": {
    "colab_type": "text",
    "id": "JZIKigsSy2nd"
   },
   "source": [
    "## Modelo con Función de activación Relu, usando inicializador de parámetros el que usa por defecto Keras 'glorot uniform' y optimizador 'Adamax'."
   ]
  },
  {
   "cell_type": "code",
   "execution_count": 50,
   "metadata": {
    "colab": {
     "base_uri": "https://localhost:8080/",
     "height": 54
    },
    "colab_type": "code",
    "executionInfo": {
     "elapsed": 968958,
     "status": "ok",
     "timestamp": 1589394481651,
     "user": {
      "displayName": "Jose Alcaide",
      "photoUrl": "https://lh3.googleusercontent.com/a-/AOh14Gh0oUNuML9-DLG8N62UMYSReO9bvu-Is30bpWCJ=s64",
      "userId": "15022740438935184894"
     },
     "user_tz": -120
    },
    "id": "aQ8hDYF9eIMj",
    "outputId": "ccccd256-6933-4e68-af6c-aa8ef193ce1b"
   },
   "outputs": [
    {
     "name": "stdout",
     "output_type": "stream",
     "text": [
      "La accuracy en entrenamiento del modelo_relu_defec_Adamax es:  0.9326042\n",
      "La accuracy en validación del modelo_relu_defec_Adamax es:  0.893916666507721\n"
     ]
    }
   ],
   "source": [
    "model_relu_defec_Adamax = keras.Sequential([\n",
    "    keras.layers.Flatten(input_shape=(28, 28)),\n",
    "    keras.layers.Dense(128, activation='relu', kernel_initializer='glorot_uniform', bias_initializer='glorot_uniform'),\n",
    "    keras.layers.Dense(64, activation='relu',kernel_initializer='glorot_uniform', bias_initializer='glorot_uniform'),\n",
    "    keras.layers.Dense(64, activation='relu', kernel_initializer='glorot_uniform', bias_initializer='glorot_uniform'),\n",
    "    keras.layers.Dense(10, activation='softmax')\n",
    "])\n",
    "\n",
    "\n",
    "model_relu_defec_Adamax.compile(optimizer='Adamax',\n",
    "              loss='sparse_categorical_crossentropy',\n",
    "              metrics=['accuracy'])\n",
    "\n",
    "history_relu_defec_Adamax = model_relu_defec_Adamax.fit(x_train, y_train, epochs=20, \n",
    "                                                        batch_size= 64,validation_split=0.2, verbose=0)\n",
    "\n",
    "\n",
    "\n",
    "print(\"La accuracy en entrenamiento del modelo_relu_defec_Adamax es: \",\n",
    "      np.max(history_relu_defec_Adamax.history['accuracy']))\n",
    "\n",
    "print(\"La accuracy en validación del modelo_relu_defec_Adamax es: \", \n",
    "      np.max(history_relu_defec_Adamax.history['val_accuracy']))\n",
    "\n",
    "acc_relu_defec_Adamax = round(np.max(history_relu_defec_Adamax.history['accuracy']),4)\n",
    "val_acc_relu_defec_Adamax = round(np.max(history_relu_defec_Adamax.history['val_accuracy']),4)\n"
   ]
  },
  {
   "cell_type": "code",
   "execution_count": 51,
   "metadata": {
    "colab": {
     "base_uri": "https://localhost:8080/",
     "height": 345
    },
    "colab_type": "code",
    "executionInfo": {
     "elapsed": 968950,
     "status": "ok",
     "timestamp": 1589394481652,
     "user": {
      "displayName": "Jose Alcaide",
      "photoUrl": "https://lh3.googleusercontent.com/a-/AOh14Gh0oUNuML9-DLG8N62UMYSReO9bvu-Is30bpWCJ=s64",
      "userId": "15022740438935184894"
     },
     "user_tz": -120
    },
    "id": "bLqY3_0gQOn0",
    "outputId": "8c2739c1-809d-4122-8d4c-9fb94df274a0"
   },
   "outputs": [
    {
     "name": "stdout",
     "output_type": "stream",
     "text": [
      "Model: \"sequential_15\"\n",
      "_________________________________________________________________\n",
      "Layer (type)                 Output Shape              Param #   \n",
      "=================================================================\n",
      "flatten_15 (Flatten)         (None, 784)               0         \n",
      "_________________________________________________________________\n",
      "dense_57 (Dense)             (None, 128)               100480    \n",
      "_________________________________________________________________\n",
      "dense_58 (Dense)             (None, 64)                8256      \n",
      "_________________________________________________________________\n",
      "dense_59 (Dense)             (None, 64)                4160      \n",
      "_________________________________________________________________\n",
      "dense_60 (Dense)             (None, 10)                650       \n",
      "=================================================================\n",
      "Total params: 113,546\n",
      "Trainable params: 113,546\n",
      "Non-trainable params: 0\n",
      "_________________________________________________________________\n"
     ]
    }
   ],
   "source": [
    "model_relu_defec_Adamax.summary()"
   ]
  },
  {
   "cell_type": "markdown",
   "metadata": {
    "colab_type": "text",
    "id": "nUghlYgny7-e"
   },
   "source": [
    "## Modelo con Función de activación Relu, usando inicializador de parámetros el que usa por defecto Keras 'glorot uniform' y optimizador 'Nadam'."
   ]
  },
  {
   "cell_type": "code",
   "execution_count": 52,
   "metadata": {
    "colab": {
     "base_uri": "https://localhost:8080/",
     "height": 54
    },
    "colab_type": "code",
    "executionInfo": {
     "elapsed": 1053828,
     "status": "ok",
     "timestamp": 1589394566540,
     "user": {
      "displayName": "Jose Alcaide",
      "photoUrl": "https://lh3.googleusercontent.com/a-/AOh14Gh0oUNuML9-DLG8N62UMYSReO9bvu-Is30bpWCJ=s64",
      "userId": "15022740438935184894"
     },
     "user_tz": -120
    },
    "id": "n1TMUGfneIP3",
    "outputId": "fc1f6039-2fc7-405d-89f7-28253f9f9d77"
   },
   "outputs": [
    {
     "name": "stdout",
     "output_type": "stream",
     "text": [
      "La accuracy en entrenamiento del modelo_relu_defec_Nadam es:  0.92954165\n",
      "La accuracy en validación del modelo_relu_defec_Nadam es:  0.8931666612625122\n"
     ]
    }
   ],
   "source": [
    "model_relu_defec_Nadam = keras.Sequential([\n",
    "    keras.layers.Flatten(input_shape=(28, 28)),\n",
    "    keras.layers.Dense(128, activation='relu', kernel_initializer='glorot_uniform', bias_initializer='glorot_uniform'),\n",
    "    keras.layers.Dense(64, activation='relu',kernel_initializer='glorot_uniform', bias_initializer='glorot_uniform'),\n",
    "    keras.layers.Dense(64, activation='relu', kernel_initializer='glorot_uniform', bias_initializer='glorot_uniform'),\n",
    "    keras.layers.Dense(10, activation='softmax')\n",
    "])\n",
    "\n",
    "\n",
    "model_relu_defec_Nadam.compile(optimizer='Nadam',\n",
    "              loss='sparse_categorical_crossentropy',\n",
    "              metrics=['accuracy'])\n",
    "\n",
    "history_relu_defec_Nadam = model_relu_defec_Nadam.fit(x_train, y_train, epochs=20, \n",
    "                                                      batch_size= 64,validation_split=0.2, verbose=0, shuffle=True)\n",
    "\n",
    "\n",
    "\n",
    "print(\"La accuracy en entrenamiento del modelo_relu_defec_Nadam es: \", \n",
    "      np.max(history_relu_defec_Nadam.history['accuracy']))\n",
    "\n",
    "print(\"La accuracy en validación del modelo_relu_defec_Nadam es: \", \n",
    "      np.max(history_relu_defec_Nadam.history['val_accuracy']))\n",
    "\n",
    "acc_relu_defec_Nadam = round(np.max(history_relu_defec_Nadam.history['accuracy']),4)\n",
    "val_acc_relu_defec_Nadam = round(np.max(history_relu_defec_Nadam.history['val_accuracy']),4)\n"
   ]
  },
  {
   "cell_type": "code",
   "execution_count": 53,
   "metadata": {
    "colab": {
     "base_uri": "https://localhost:8080/",
     "height": 345
    },
    "colab_type": "code",
    "executionInfo": {
     "elapsed": 1053820,
     "status": "ok",
     "timestamp": 1589394566541,
     "user": {
      "displayName": "Jose Alcaide",
      "photoUrl": "https://lh3.googleusercontent.com/a-/AOh14Gh0oUNuML9-DLG8N62UMYSReO9bvu-Is30bpWCJ=s64",
      "userId": "15022740438935184894"
     },
     "user_tz": -120
    },
    "id": "8pAs2aFOQTOH",
    "outputId": "ae98d16d-4512-4144-d258-141c6ab5be73"
   },
   "outputs": [
    {
     "name": "stdout",
     "output_type": "stream",
     "text": [
      "Model: \"sequential_16\"\n",
      "_________________________________________________________________\n",
      "Layer (type)                 Output Shape              Param #   \n",
      "=================================================================\n",
      "flatten_16 (Flatten)         (None, 784)               0         \n",
      "_________________________________________________________________\n",
      "dense_61 (Dense)             (None, 128)               100480    \n",
      "_________________________________________________________________\n",
      "dense_62 (Dense)             (None, 64)                8256      \n",
      "_________________________________________________________________\n",
      "dense_63 (Dense)             (None, 64)                4160      \n",
      "_________________________________________________________________\n",
      "dense_64 (Dense)             (None, 10)                650       \n",
      "=================================================================\n",
      "Total params: 113,546\n",
      "Trainable params: 113,546\n",
      "Non-trainable params: 0\n",
      "_________________________________________________________________\n"
     ]
    }
   ],
   "source": [
    "model_relu_defec_Nadam.summary()"
   ]
  },
  {
   "cell_type": "markdown",
   "metadata": {
    "colab_type": "text",
    "id": "04tqjpi_Iex_"
   },
   "source": [
    "## Creamos un dataframe para que la visualización de los resultados sean mas interpretables."
   ]
  },
  {
   "cell_type": "code",
   "execution_count": 54,
   "metadata": {
    "colab": {},
    "colab_type": "code",
    "id": "qc2QNpcNeIS8"
   },
   "outputs": [],
   "source": [
    "df_3 = pd.DataFrame({'modelo': ['SGD', 'ADAM', 'RMS','ADAGRAD','ADADELTA','ADAMAX', 'NADAM'], \n",
    "                     'Accuracy Train' : [acc_relu_defec,acc_relu_defec_adam,\n",
    "                                         acc_relu_defec_RMSprop,acc_relu_defec_Adagrad,\n",
    "                                         acc_relu_defec_Adadelta,acc_relu_defec_Adamax,\n",
    "                                         acc_relu_defec_Nadam],\n",
    "                     'Accuracy Validación' : [val_acc_relu_defec,val_acc_relu_defec_adam, \n",
    "                                              val_acc_relu_defec_RMSprop,val_acc_relu_defec_Adagrad,\n",
    "                                              val_acc_relu_defec_Adadelta,val_acc_relu_defec_Adamax,\n",
    "                                              val_acc_relu_defec_Nadam],\n",
    "                    })\n",
    "                    \n"
   ]
  },
  {
   "cell_type": "code",
   "execution_count": 55,
   "metadata": {
    "colab": {
     "base_uri": "https://localhost:8080/",
     "height": 258
    },
    "colab_type": "code",
    "executionInfo": {
     "elapsed": 1053811,
     "status": "ok",
     "timestamp": 1589394566543,
     "user": {
      "displayName": "Jose Alcaide",
      "photoUrl": "https://lh3.googleusercontent.com/a-/AOh14Gh0oUNuML9-DLG8N62UMYSReO9bvu-Is30bpWCJ=s64",
      "userId": "15022740438935184894"
     },
     "user_tz": -120
    },
    "id": "_dHlke-djSHK",
    "outputId": "c58a1532-7f75-46d8-812b-4f389c82af1f"
   },
   "outputs": [
    {
     "data": {
      "text/html": [
       "<div>\n",
       "<style scoped>\n",
       "    .dataframe tbody tr th:only-of-type {\n",
       "        vertical-align: middle;\n",
       "    }\n",
       "\n",
       "    .dataframe tbody tr th {\n",
       "        vertical-align: top;\n",
       "    }\n",
       "\n",
       "    .dataframe thead th {\n",
       "        text-align: right;\n",
       "    }\n",
       "</style>\n",
       "<table border=\"1\" class=\"dataframe\">\n",
       "  <thead>\n",
       "    <tr style=\"text-align: right;\">\n",
       "      <th></th>\n",
       "      <th>modelo</th>\n",
       "      <th>Accuracy Train</th>\n",
       "      <th>Accuracy Validación</th>\n",
       "    </tr>\n",
       "  </thead>\n",
       "  <tbody>\n",
       "    <tr>\n",
       "      <th>0</th>\n",
       "      <td>SGD</td>\n",
       "      <td>0.8848</td>\n",
       "      <td>0.8727</td>\n",
       "    </tr>\n",
       "    <tr>\n",
       "      <th>1</th>\n",
       "      <td>ADAM</td>\n",
       "      <td>0.9322</td>\n",
       "      <td>0.8931</td>\n",
       "    </tr>\n",
       "    <tr>\n",
       "      <th>2</th>\n",
       "      <td>RMS</td>\n",
       "      <td>0.9212</td>\n",
       "      <td>0.8860</td>\n",
       "    </tr>\n",
       "    <tr>\n",
       "      <th>3</th>\n",
       "      <td>ADAGRAD</td>\n",
       "      <td>0.9154</td>\n",
       "      <td>0.8888</td>\n",
       "    </tr>\n",
       "    <tr>\n",
       "      <th>4</th>\n",
       "      <td>ADADELTA</td>\n",
       "      <td>0.9315</td>\n",
       "      <td>0.8933</td>\n",
       "    </tr>\n",
       "    <tr>\n",
       "      <th>5</th>\n",
       "      <td>ADAMAX</td>\n",
       "      <td>0.9326</td>\n",
       "      <td>0.8939</td>\n",
       "    </tr>\n",
       "    <tr>\n",
       "      <th>6</th>\n",
       "      <td>NADAM</td>\n",
       "      <td>0.9295</td>\n",
       "      <td>0.8932</td>\n",
       "    </tr>\n",
       "  </tbody>\n",
       "</table>\n",
       "</div>"
      ],
      "text/plain": [
       "     modelo  Accuracy Train  Accuracy Validación\n",
       "0       SGD          0.8848               0.8727\n",
       "1      ADAM          0.9322               0.8931\n",
       "2       RMS          0.9212               0.8860\n",
       "3   ADAGRAD          0.9154               0.8888\n",
       "4  ADADELTA          0.9315               0.8933\n",
       "5    ADAMAX          0.9326               0.8939\n",
       "6     NADAM          0.9295               0.8932"
      ]
     },
     "execution_count": 55,
     "metadata": {},
     "output_type": "execute_result"
    }
   ],
   "source": [
    "df_3"
   ]
  },
  {
   "cell_type": "code",
   "execution_count": 56,
   "metadata": {
    "colab": {
     "base_uri": "https://localhost:8080/",
     "height": 258
    },
    "colab_type": "code",
    "executionInfo": {
     "elapsed": 1053802,
     "status": "ok",
     "timestamp": 1589394566544,
     "user": {
      "displayName": "Jose Alcaide",
      "photoUrl": "https://lh3.googleusercontent.com/a-/AOh14Gh0oUNuML9-DLG8N62UMYSReO9bvu-Is30bpWCJ=s64",
      "userId": "15022740438935184894"
     },
     "user_tz": -120
    },
    "id": "Npeg81bojSKb",
    "outputId": "d82e8500-9384-482a-8f53-bc8fc96bd59b"
   },
   "outputs": [
    {
     "data": {
      "text/html": [
       "<div>\n",
       "<style scoped>\n",
       "    .dataframe tbody tr th:only-of-type {\n",
       "        vertical-align: middle;\n",
       "    }\n",
       "\n",
       "    .dataframe tbody tr th {\n",
       "        vertical-align: top;\n",
       "    }\n",
       "\n",
       "    .dataframe thead th {\n",
       "        text-align: right;\n",
       "    }\n",
       "</style>\n",
       "<table border=\"1\" class=\"dataframe\">\n",
       "  <thead>\n",
       "    <tr style=\"text-align: right;\">\n",
       "      <th></th>\n",
       "      <th>modelo</th>\n",
       "      <th>Accuracy Train</th>\n",
       "      <th>Accuracy Validación</th>\n",
       "    </tr>\n",
       "  </thead>\n",
       "  <tbody>\n",
       "    <tr>\n",
       "      <th>0</th>\n",
       "      <td>SGD</td>\n",
       "      <td>0.8848</td>\n",
       "      <td>0.8727</td>\n",
       "    </tr>\n",
       "    <tr>\n",
       "      <th>3</th>\n",
       "      <td>ADAGRAD</td>\n",
       "      <td>0.9154</td>\n",
       "      <td>0.8888</td>\n",
       "    </tr>\n",
       "    <tr>\n",
       "      <th>2</th>\n",
       "      <td>RMS</td>\n",
       "      <td>0.9212</td>\n",
       "      <td>0.8860</td>\n",
       "    </tr>\n",
       "    <tr>\n",
       "      <th>6</th>\n",
       "      <td>NADAM</td>\n",
       "      <td>0.9295</td>\n",
       "      <td>0.8932</td>\n",
       "    </tr>\n",
       "    <tr>\n",
       "      <th>4</th>\n",
       "      <td>ADADELTA</td>\n",
       "      <td>0.9315</td>\n",
       "      <td>0.8933</td>\n",
       "    </tr>\n",
       "    <tr>\n",
       "      <th>1</th>\n",
       "      <td>ADAM</td>\n",
       "      <td>0.9322</td>\n",
       "      <td>0.8931</td>\n",
       "    </tr>\n",
       "    <tr>\n",
       "      <th>5</th>\n",
       "      <td>ADAMAX</td>\n",
       "      <td>0.9326</td>\n",
       "      <td>0.8939</td>\n",
       "    </tr>\n",
       "  </tbody>\n",
       "</table>\n",
       "</div>"
      ],
      "text/plain": [
       "     modelo  Accuracy Train  Accuracy Validación\n",
       "0       SGD          0.8848               0.8727\n",
       "3   ADAGRAD          0.9154               0.8888\n",
       "2       RMS          0.9212               0.8860\n",
       "6     NADAM          0.9295               0.8932\n",
       "4  ADADELTA          0.9315               0.8933\n",
       "1      ADAM          0.9322               0.8931\n",
       "5    ADAMAX          0.9326               0.8939"
      ]
     },
     "execution_count": 56,
     "metadata": {},
     "output_type": "execute_result"
    }
   ],
   "source": [
    "df_3.sort_values(['Accuracy Train', 'Accuracy Validación'])"
   ]
  },
  {
   "cell_type": "code",
   "execution_count": 57,
   "metadata": {
    "colab": {
     "base_uri": "https://localhost:8080/",
     "height": 258
    },
    "colab_type": "code",
    "executionInfo": {
     "elapsed": 1053794,
     "status": "ok",
     "timestamp": 1589394566545,
     "user": {
      "displayName": "Jose Alcaide",
      "photoUrl": "https://lh3.googleusercontent.com/a-/AOh14Gh0oUNuML9-DLG8N62UMYSReO9bvu-Is30bpWCJ=s64",
      "userId": "15022740438935184894"
     },
     "user_tz": -120
    },
    "id": "_2wyjweNjSEV",
    "outputId": "37ebc7ce-a096-48e5-cd4c-6720ce96f3e4"
   },
   "outputs": [
    {
     "data": {
      "text/html": [
       "<div>\n",
       "<style scoped>\n",
       "    .dataframe tbody tr th:only-of-type {\n",
       "        vertical-align: middle;\n",
       "    }\n",
       "\n",
       "    .dataframe tbody tr th {\n",
       "        vertical-align: top;\n",
       "    }\n",
       "\n",
       "    .dataframe thead th {\n",
       "        text-align: right;\n",
       "    }\n",
       "</style>\n",
       "<table border=\"1\" class=\"dataframe\">\n",
       "  <thead>\n",
       "    <tr style=\"text-align: right;\">\n",
       "      <th></th>\n",
       "      <th>modelo</th>\n",
       "      <th>Accuracy Train</th>\n",
       "      <th>Accuracy Validación</th>\n",
       "    </tr>\n",
       "  </thead>\n",
       "  <tbody>\n",
       "    <tr>\n",
       "      <th>5</th>\n",
       "      <td>ADAMAX</td>\n",
       "      <td>0.9326</td>\n",
       "      <td>0.8939</td>\n",
       "    </tr>\n",
       "    <tr>\n",
       "      <th>1</th>\n",
       "      <td>ADAM</td>\n",
       "      <td>0.9322</td>\n",
       "      <td>0.8931</td>\n",
       "    </tr>\n",
       "    <tr>\n",
       "      <th>4</th>\n",
       "      <td>ADADELTA</td>\n",
       "      <td>0.9315</td>\n",
       "      <td>0.8933</td>\n",
       "    </tr>\n",
       "    <tr>\n",
       "      <th>6</th>\n",
       "      <td>NADAM</td>\n",
       "      <td>0.9295</td>\n",
       "      <td>0.8932</td>\n",
       "    </tr>\n",
       "    <tr>\n",
       "      <th>2</th>\n",
       "      <td>RMS</td>\n",
       "      <td>0.9212</td>\n",
       "      <td>0.8860</td>\n",
       "    </tr>\n",
       "    <tr>\n",
       "      <th>3</th>\n",
       "      <td>ADAGRAD</td>\n",
       "      <td>0.9154</td>\n",
       "      <td>0.8888</td>\n",
       "    </tr>\n",
       "    <tr>\n",
       "      <th>0</th>\n",
       "      <td>SGD</td>\n",
       "      <td>0.8848</td>\n",
       "      <td>0.8727</td>\n",
       "    </tr>\n",
       "  </tbody>\n",
       "</table>\n",
       "</div>"
      ],
      "text/plain": [
       "     modelo  Accuracy Train  Accuracy Validación\n",
       "5    ADAMAX          0.9326               0.8939\n",
       "1      ADAM          0.9322               0.8931\n",
       "4  ADADELTA          0.9315               0.8933\n",
       "6     NADAM          0.9295               0.8932\n",
       "2       RMS          0.9212               0.8860\n",
       "3   ADAGRAD          0.9154               0.8888\n",
       "0       SGD          0.8848               0.8727"
      ]
     },
     "execution_count": 57,
     "metadata": {},
     "output_type": "execute_result"
    }
   ],
   "source": [
    "df_3.sort_values(['Accuracy Train'], ascending=[False])"
   ]
  },
  {
   "cell_type": "code",
   "execution_count": 58,
   "metadata": {
    "colab": {
     "base_uri": "https://localhost:8080/",
     "height": 258
    },
    "colab_type": "code",
    "executionInfo": {
     "elapsed": 1053786,
     "status": "ok",
     "timestamp": 1589394566545,
     "user": {
      "displayName": "Jose Alcaide",
      "photoUrl": "https://lh3.googleusercontent.com/a-/AOh14Gh0oUNuML9-DLG8N62UMYSReO9bvu-Is30bpWCJ=s64",
      "userId": "15022740438935184894"
     },
     "user_tz": -120
    },
    "id": "eglWfEllrov5",
    "outputId": "af789904-ce68-4634-d462-db252c100fb8"
   },
   "outputs": [
    {
     "data": {
      "text/html": [
       "<div>\n",
       "<style scoped>\n",
       "    .dataframe tbody tr th:only-of-type {\n",
       "        vertical-align: middle;\n",
       "    }\n",
       "\n",
       "    .dataframe tbody tr th {\n",
       "        vertical-align: top;\n",
       "    }\n",
       "\n",
       "    .dataframe thead th {\n",
       "        text-align: right;\n",
       "    }\n",
       "</style>\n",
       "<table border=\"1\" class=\"dataframe\">\n",
       "  <thead>\n",
       "    <tr style=\"text-align: right;\">\n",
       "      <th></th>\n",
       "      <th>modelo</th>\n",
       "      <th>Accuracy Train</th>\n",
       "      <th>Accuracy Validación</th>\n",
       "    </tr>\n",
       "  </thead>\n",
       "  <tbody>\n",
       "    <tr>\n",
       "      <th>5</th>\n",
       "      <td>ADAMAX</td>\n",
       "      <td>0.9326</td>\n",
       "      <td>0.8939</td>\n",
       "    </tr>\n",
       "    <tr>\n",
       "      <th>4</th>\n",
       "      <td>ADADELTA</td>\n",
       "      <td>0.9315</td>\n",
       "      <td>0.8933</td>\n",
       "    </tr>\n",
       "    <tr>\n",
       "      <th>6</th>\n",
       "      <td>NADAM</td>\n",
       "      <td>0.9295</td>\n",
       "      <td>0.8932</td>\n",
       "    </tr>\n",
       "    <tr>\n",
       "      <th>1</th>\n",
       "      <td>ADAM</td>\n",
       "      <td>0.9322</td>\n",
       "      <td>0.8931</td>\n",
       "    </tr>\n",
       "    <tr>\n",
       "      <th>3</th>\n",
       "      <td>ADAGRAD</td>\n",
       "      <td>0.9154</td>\n",
       "      <td>0.8888</td>\n",
       "    </tr>\n",
       "    <tr>\n",
       "      <th>2</th>\n",
       "      <td>RMS</td>\n",
       "      <td>0.9212</td>\n",
       "      <td>0.8860</td>\n",
       "    </tr>\n",
       "    <tr>\n",
       "      <th>0</th>\n",
       "      <td>SGD</td>\n",
       "      <td>0.8848</td>\n",
       "      <td>0.8727</td>\n",
       "    </tr>\n",
       "  </tbody>\n",
       "</table>\n",
       "</div>"
      ],
      "text/plain": [
       "     modelo  Accuracy Train  Accuracy Validación\n",
       "5    ADAMAX          0.9326               0.8939\n",
       "4  ADADELTA          0.9315               0.8933\n",
       "6     NADAM          0.9295               0.8932\n",
       "1      ADAM          0.9322               0.8931\n",
       "3   ADAGRAD          0.9154               0.8888\n",
       "2       RMS          0.9212               0.8860\n",
       "0       SGD          0.8848               0.8727"
      ]
     },
     "execution_count": 58,
     "metadata": {},
     "output_type": "execute_result"
    }
   ],
   "source": [
    "df_3.sort_values(['Accuracy Validación'], ascending=[False])"
   ]
  },
  {
   "cell_type": "markdown",
   "metadata": {
    "colab_type": "text",
    "id": "LLFHUMawItDP"
   },
   "source": [
    "# Conclusiones:\n",
    "  * El modelo que tiene mas Accuracy en el entrenamiento es Optimizador 'Adam' , en validación se encontraría en tercer lugar con 0.0028 mas bajo que el primero 'Adamax'. Por lo tanto elegimos como mejor optimizador 'Adam'"
   ]
  },
  {
   "cell_type": "markdown",
   "metadata": {
    "colab_type": "text",
    "id": "CIWTOb0_PqSh"
   },
   "source": [
    "## 4. Regularización y red final *(1.25 puntos)*"
   ]
  },
  {
   "cell_type": "markdown",
   "metadata": {
    "colab_type": "text",
    "id": "ImWrVSDDPu5W"
   },
   "source": [
    "**Ejercicio 4.1**: Entrenar una red final que sea capaz de obtener una accuracy en el validation set cercana al 90%. Para ello, combinar todo lo aprendido anteriormente y utilizar técnicas de regularización para evitar overfitting. Algunos de los elementos que pueden tenerse en cuenta son los siguientes.\n",
    "\n",
    "* Número de capas y neuronas por capa\n",
    "* Optimizadores y sus parámetros\n",
    "* Batch size\n",
    "* Unidades de activación\n",
    "* Uso de capas dropout, regularización L2, regularización L1...\n",
    "* Early stopping (se puede aplicar como un callback de Keras, o se puede ver un poco \"a ojo\" cuándo el modelo empieza a caer en overfitting y seleccionar el número de epochs necesarias)\n",
    "* Batch normalization\n",
    "\n",
    "Si los modelos entrenados anteriormente ya se acercaban al valor requerido de accuracy, probar distintas estrategias igualmente y comentar los resultados.\n",
    "\n",
    "Explicar brevemente la estrategia seguida y los modelos probados para obtener el modelo final, que debe verse entrenado en este Notebook. No es necesario guardar el entrenamiento de todos los modelos que se han probado, es suficiente con explicar cómo se ha llegado al modelo final."
   ]
  },
  {
   "cell_type": "markdown",
   "metadata": {
    "colab_type": "text",
    "id": "BYy0MaIxTmTU"
   },
   "source": [
    "* Para el modelo definitivo hemos usado:\n",
    "  * Modelo secuencial.\n",
    "  \n",
    "  * Capa de entrada con las imágenes en escala de grises con dimensiones 28 x 28.\n",
    "  \n",
    "  * Cinco Capas densas con 1024 neuronas las cuatro primeras y la quinta con 512 neuronas. Todas las neuronas de una una capa están conectadas con todas las de las siguiente capa.  \n",
    "  \n",
    "  * Tres capas de Dropout al 50% de neuronas para desactivar al azar, para poner más difícil la memorización por parte de la red y evitar el Overfitting. Esto pone en contradicción lo explicado en el punto anterior. Con Dropout, antes de la función de pérdida, lo que hace es elegir al azar, cada vez que se pasa por esa capa, la mitad de las neuronas para reazlizar el siguiente paso.\n",
    "  \n",
    "  * Función de activación relus en todas las capas, menos en la última que por diseño del problema debe ser softmax (explicado en la parte primera de esta actividad).\n",
    "  \n",
    "  * Inicialiamos los pesos y los biases con la opción que viene por defecto que es: glorot_uniform, que hemos querido reflejar introduciendolo en el modelo.\n",
    "  \n",
    "  * Aplicamos la regularización tipo L2 para los pesos y biases. Lo que hacemos es sumar a la función de coste un parámetro de regularización, favorecemos que los valores de los parámetros sean pequeños.\n",
    "  \n",
    "  * Optimimizador Adam con un learning rate 0.0001. Hemos probado distintos valores de este hiperparámetro, incluido la posibilidad de usar el método 'decay' y el mejor resultado nos lo devuelve ese learning rate. Por lo tanto, en este caso, hemos probado valores mucho mas pequeños y bo mejora el resultado.  \n",
    "  \n",
    "  * La función de pérdida o coste, la que hemos usado durante todo el ejercicio: sparse_categorical_crossentropy.\n",
    "  \n",
    "  * Como Métrica para ver la bondad del ajuste del modelo, Accuracy.\n",
    "  \n",
    "  * Aumentamos las epochs a 100. \n",
    "  \n",
    "  * Sacamos del conjunto de test un 20% de observaciones para aplicar el modelo, antes de usarlo en el conjunto test. Para ver cómo se comporta con imágenes que no ha visto nunca.\n",
    "  \n",
    "  * Continuamos con shufle para dar mas aleatoriedad a la hora de elegir los conjuntos de test, validación y train, ya que baraja las observaciones de los mismos.\n",
    "  \n",
    "  * Usamos Early stopping para detectar cuando la red está cayendo en Overfitting en el conjunto de validación y determinar en que epochs se produce. En nuestro caso, cuando deja de disminuir en diez épocas seguidas el valor de la función de pérdida en el conjunto de validación, para de ejecutarse el modelo.\n",
    "  \n",
    "  * Monitorizamos la ejecución.\n",
    "  \n",
    "  * El objetivo es alcanzar como mínimo en en la métrica de Accuracy en el conjunto de validación un 0.90"
   ]
  },
  {
   "cell_type": "code",
   "execution_count": 59,
   "metadata": {
    "colab": {
     "base_uri": "https://localhost:8080/",
     "height": 1000
    },
    "colab_type": "code",
    "executionInfo": {
     "elapsed": 694009,
     "status": "ok",
     "timestamp": 1589395867134,
     "user": {
      "displayName": "Jose Alcaide",
      "photoUrl": "https://lh3.googleusercontent.com/a-/AOh14Gh0oUNuML9-DLG8N62UMYSReO9bvu-Is30bpWCJ=s64",
      "userId": "15022740438935184894"
     },
     "user_tz": -120
    },
    "id": "ScV8GpQNrLHM",
    "outputId": "8c28c280-31c6-4835-c2e0-4195768ce702"
   },
   "outputs": [
    {
     "name": "stdout",
     "output_type": "stream",
     "text": [
      "Train on 48000 samples, validate on 12000 samples\n",
      "Epoch 1/100\n",
      "48000/48000 [==============================] - 10s 200us/step - loss: 1.3475 - accuracy: 0.5627 - val_loss: 0.6574 - val_accuracy: 0.7949\n",
      "Epoch 2/100\n",
      "48000/48000 [==============================] - 9s 195us/step - loss: 0.7041 - accuracy: 0.7906 - val_loss: 0.5273 - val_accuracy: 0.8416\n",
      "Epoch 3/100\n",
      "48000/48000 [==============================] - 9s 194us/step - loss: 0.5876 - accuracy: 0.8288 - val_loss: 0.4725 - val_accuracy: 0.8599\n",
      "Epoch 4/100\n",
      "48000/48000 [==============================] - 10s 198us/step - loss: 0.5291 - accuracy: 0.8449 - val_loss: 0.4446 - val_accuracy: 0.8682\n",
      "Epoch 5/100\n",
      "48000/48000 [==============================] - 9s 196us/step - loss: 0.4937 - accuracy: 0.8544 - val_loss: 0.4467 - val_accuracy: 0.8662\n",
      "Epoch 6/100\n",
      "48000/48000 [==============================] - 9s 194us/step - loss: 0.4669 - accuracy: 0.8602 - val_loss: 0.4162 - val_accuracy: 0.8748\n",
      "Epoch 7/100\n",
      "48000/48000 [==============================] - 9s 198us/step - loss: 0.4474 - accuracy: 0.8653 - val_loss: 0.4048 - val_accuracy: 0.8763\n",
      "Epoch 8/100\n",
      "48000/48000 [==============================] - 10s 201us/step - loss: 0.4274 - accuracy: 0.8716 - val_loss: 0.4003 - val_accuracy: 0.8783\n",
      "Epoch 9/100\n",
      "48000/48000 [==============================] - 9s 193us/step - loss: 0.4145 - accuracy: 0.8723 - val_loss: 0.3938 - val_accuracy: 0.8797\n",
      "Epoch 10/100\n",
      "48000/48000 [==============================] - 9s 194us/step - loss: 0.4024 - accuracy: 0.8764 - val_loss: 0.3826 - val_accuracy: 0.8826\n",
      "Epoch 11/100\n",
      "48000/48000 [==============================] - 9s 197us/step - loss: 0.3924 - accuracy: 0.8789 - val_loss: 0.3692 - val_accuracy: 0.8875\n",
      "Epoch 12/100\n",
      "48000/48000 [==============================] - 9s 196us/step - loss: 0.3812 - accuracy: 0.8822 - val_loss: 0.3736 - val_accuracy: 0.8852\n",
      "Epoch 13/100\n",
      "48000/48000 [==============================] - 10s 199us/step - loss: 0.3738 - accuracy: 0.8830 - val_loss: 0.3634 - val_accuracy: 0.8859\n",
      "Epoch 14/100\n",
      "48000/48000 [==============================] - 9s 195us/step - loss: 0.3621 - accuracy: 0.8874 - val_loss: 0.3590 - val_accuracy: 0.8880\n",
      "Epoch 15/100\n",
      "48000/48000 [==============================] - 9s 194us/step - loss: 0.3569 - accuracy: 0.8881 - val_loss: 0.3658 - val_accuracy: 0.8860\n",
      "Epoch 16/100\n",
      "48000/48000 [==============================] - 10s 200us/step - loss: 0.3476 - accuracy: 0.8909 - val_loss: 0.3543 - val_accuracy: 0.8869\n",
      "Epoch 17/100\n",
      "48000/48000 [==============================] - 9s 195us/step - loss: 0.3434 - accuracy: 0.8919 - val_loss: 0.3443 - val_accuracy: 0.8907\n",
      "Epoch 18/100\n",
      "48000/48000 [==============================] - 18s 367us/step - loss: 0.3359 - accuracy: 0.8952 - val_loss: 0.3443 - val_accuracy: 0.8918\n",
      "Epoch 19/100\n",
      "48000/48000 [==============================] - 22s 448us/step - loss: 0.3307 - accuracy: 0.8958 - val_loss: 0.3500 - val_accuracy: 0.8908\n",
      "Epoch 20/100\n",
      "48000/48000 [==============================] - 22s 449us/step - loss: 0.3271 - accuracy: 0.8970 - val_loss: 0.3447 - val_accuracy: 0.8928\n",
      "Epoch 21/100\n",
      "48000/48000 [==============================] - 22s 449us/step - loss: 0.3234 - accuracy: 0.8982 - val_loss: 0.3338 - val_accuracy: 0.8936\n",
      "Epoch 22/100\n",
      "48000/48000 [==============================] - 22s 458us/step - loss: 0.3153 - accuracy: 0.9006 - val_loss: 0.3380 - val_accuracy: 0.8930\n",
      "Epoch 23/100\n",
      "48000/48000 [==============================] - 22s 462us/step - loss: 0.3123 - accuracy: 0.9026 - val_loss: 0.3278 - val_accuracy: 0.8950\n",
      "Epoch 24/100\n",
      "48000/48000 [==============================] - 22s 466us/step - loss: 0.3084 - accuracy: 0.9029 - val_loss: 0.3345 - val_accuracy: 0.8927\n",
      "Epoch 25/100\n",
      "48000/48000 [==============================] - 23s 471us/step - loss: 0.3059 - accuracy: 0.9026 - val_loss: 0.3279 - val_accuracy: 0.8956\n",
      "Epoch 26/100\n",
      "48000/48000 [==============================] - 22s 463us/step - loss: 0.2959 - accuracy: 0.9052 - val_loss: 0.3308 - val_accuracy: 0.8957\n",
      "Epoch 27/100\n",
      "48000/48000 [==============================] - 24s 509us/step - loss: 0.2981 - accuracy: 0.9056 - val_loss: 0.3314 - val_accuracy: 0.8942\n",
      "Epoch 28/100\n",
      "48000/48000 [==============================] - 23s 487us/step - loss: 0.2912 - accuracy: 0.9064 - val_loss: 0.3253 - val_accuracy: 0.8953\n",
      "Epoch 29/100\n",
      "48000/48000 [==============================] - 23s 473us/step - loss: 0.2882 - accuracy: 0.9089 - val_loss: 0.3233 - val_accuracy: 0.8954\n",
      "Epoch 30/100\n",
      "48000/48000 [==============================] - 23s 476us/step - loss: 0.2852 - accuracy: 0.9099 - val_loss: 0.3275 - val_accuracy: 0.8934\n",
      "Epoch 31/100\n",
      "48000/48000 [==============================] - 22s 465us/step - loss: 0.2812 - accuracy: 0.9109 - val_loss: 0.3236 - val_accuracy: 0.8969\n",
      "Epoch 32/100\n",
      "48000/48000 [==============================] - 23s 479us/step - loss: 0.2822 - accuracy: 0.9100 - val_loss: 0.3200 - val_accuracy: 0.8972\n",
      "Epoch 33/100\n",
      "48000/48000 [==============================] - 22s 466us/step - loss: 0.2745 - accuracy: 0.9126 - val_loss: 0.3282 - val_accuracy: 0.8976\n",
      "Epoch 34/100\n",
      "48000/48000 [==============================] - 23s 475us/step - loss: 0.2743 - accuracy: 0.9120 - val_loss: 0.3252 - val_accuracy: 0.8957\n",
      "Epoch 35/100\n",
      "48000/48000 [==============================] - 22s 456us/step - loss: 0.2734 - accuracy: 0.9141 - val_loss: 0.3220 - val_accuracy: 0.8958\n",
      "Epoch 36/100\n",
      "48000/48000 [==============================] - 22s 458us/step - loss: 0.2648 - accuracy: 0.9164 - val_loss: 0.3258 - val_accuracy: 0.8966\n",
      "Epoch 37/100\n",
      "48000/48000 [==============================] - 22s 462us/step - loss: 0.2631 - accuracy: 0.9155 - val_loss: 0.3208 - val_accuracy: 0.8978\n",
      "Epoch 38/100\n",
      "48000/48000 [==============================] - 22s 458us/step - loss: 0.2618 - accuracy: 0.9161 - val_loss: 0.3188 - val_accuracy: 0.8965\n",
      "Epoch 39/100\n",
      "48000/48000 [==============================] - 22s 459us/step - loss: 0.2577 - accuracy: 0.9173 - val_loss: 0.3206 - val_accuracy: 0.8978\n",
      "Epoch 40/100\n",
      "48000/48000 [==============================] - 22s 459us/step - loss: 0.2588 - accuracy: 0.9169 - val_loss: 0.3310 - val_accuracy: 0.8972\n",
      "Epoch 41/100\n",
      "48000/48000 [==============================] - 22s 457us/step - loss: 0.2554 - accuracy: 0.9207 - val_loss: 0.3241 - val_accuracy: 0.8978\n",
      "Epoch 42/100\n",
      "48000/48000 [==============================] - 22s 456us/step - loss: 0.2515 - accuracy: 0.9197 - val_loss: 0.3196 - val_accuracy: 0.8970\n",
      "Epoch 43/100\n",
      "48000/48000 [==============================] - 22s 456us/step - loss: 0.2504 - accuracy: 0.9205 - val_loss: 0.3254 - val_accuracy: 0.8970\n",
      "Epoch 44/100\n",
      "48000/48000 [==============================] - 22s 455us/step - loss: 0.2443 - accuracy: 0.9221 - val_loss: 0.3194 - val_accuracy: 0.8998\n",
      "Epoch 45/100\n",
      "48000/48000 [==============================] - 22s 456us/step - loss: 0.2431 - accuracy: 0.9229 - val_loss: 0.3111 - val_accuracy: 0.8998\n",
      "Epoch 46/100\n",
      "48000/48000 [==============================] - 22s 461us/step - loss: 0.2450 - accuracy: 0.9213 - val_loss: 0.3235 - val_accuracy: 0.8982\n",
      "Epoch 47/100\n",
      "48000/48000 [==============================] - 22s 460us/step - loss: 0.2409 - accuracy: 0.9241 - val_loss: 0.3138 - val_accuracy: 0.8995\n",
      "Epoch 48/100\n",
      "48000/48000 [==============================] - 22s 464us/step - loss: 0.2400 - accuracy: 0.9234 - val_loss: 0.3096 - val_accuracy: 0.9022\n",
      "Epoch 49/100\n",
      "48000/48000 [==============================] - 22s 456us/step - loss: 0.2337 - accuracy: 0.9253 - val_loss: 0.3168 - val_accuracy: 0.8995\n",
      "Epoch 50/100\n",
      "48000/48000 [==============================] - 16s 330us/step - loss: 0.2336 - accuracy: 0.9254 - val_loss: 0.3288 - val_accuracy: 0.8967\n",
      "Epoch 51/100\n",
      "48000/48000 [==============================] - 9s 197us/step - loss: 0.2317 - accuracy: 0.9249 - val_loss: 0.3134 - val_accuracy: 0.9009\n",
      "Epoch 52/100\n",
      "48000/48000 [==============================] - 10s 206us/step - loss: 0.2296 - accuracy: 0.9276 - val_loss: 0.3124 - val_accuracy: 0.9004\n",
      "Epoch 53/100\n",
      "48000/48000 [==============================] - 10s 202us/step - loss: 0.2263 - accuracy: 0.9286 - val_loss: 0.3091 - val_accuracy: 0.9007\n",
      "Epoch 54/100\n",
      "48000/48000 [==============================] - 10s 205us/step - loss: 0.2275 - accuracy: 0.9287 - val_loss: 0.3208 - val_accuracy: 0.8959\n",
      "Epoch 55/100\n"
     ]
    },
    {
     "name": "stdout",
     "output_type": "stream",
     "text": [
      "48000/48000 [==============================] - 10s 199us/step - loss: 0.2242 - accuracy: 0.9283 - val_loss: 0.3147 - val_accuracy: 0.9017\n",
      "Epoch 56/100\n",
      "48000/48000 [==============================] - 10s 200us/step - loss: 0.2256 - accuracy: 0.9285 - val_loss: 0.3173 - val_accuracy: 0.8974\n",
      "Epoch 57/100\n",
      "48000/48000 [==============================] - 10s 207us/step - loss: 0.2215 - accuracy: 0.9293 - val_loss: 0.3078 - val_accuracy: 0.8994\n",
      "Epoch 58/100\n",
      "48000/48000 [==============================] - 10s 201us/step - loss: 0.2163 - accuracy: 0.9307 - val_loss: 0.3259 - val_accuracy: 0.9018\n",
      "Epoch 59/100\n",
      "48000/48000 [==============================] - 9s 196us/step - loss: 0.2151 - accuracy: 0.9321 - val_loss: 0.3189 - val_accuracy: 0.9009\n",
      "Epoch 60/100\n",
      "48000/48000 [==============================] - 9s 195us/step - loss: 0.2130 - accuracy: 0.9315 - val_loss: 0.3142 - val_accuracy: 0.9040\n",
      "Epoch 61/100\n",
      "48000/48000 [==============================] - 9s 196us/step - loss: 0.2148 - accuracy: 0.9332 - val_loss: 0.3183 - val_accuracy: 0.9028\n",
      "Epoch 62/100\n",
      "48000/48000 [==============================] - 9s 196us/step - loss: 0.2110 - accuracy: 0.9333 - val_loss: 0.3273 - val_accuracy: 0.9015\n",
      "Epoch 63/100\n",
      "48000/48000 [==============================] - 9s 194us/step - loss: 0.2115 - accuracy: 0.9315 - val_loss: 0.3159 - val_accuracy: 0.8990\n",
      "Epoch 64/100\n",
      "48000/48000 [==============================] - 9s 196us/step - loss: 0.2084 - accuracy: 0.9332 - val_loss: 0.3197 - val_accuracy: 0.9033\n",
      "Epoch 65/100\n",
      "48000/48000 [==============================] - 9s 195us/step - loss: 0.2091 - accuracy: 0.9329 - val_loss: 0.3177 - val_accuracy: 0.9015\n",
      "Epoch 66/100\n",
      "48000/48000 [==============================] - 9s 196us/step - loss: 0.2067 - accuracy: 0.9354 - val_loss: 0.3163 - val_accuracy: 0.9005\n",
      "Epoch 67/100\n",
      "48000/48000 [==============================] - 10s 199us/step - loss: 0.2030 - accuracy: 0.9348 - val_loss: 0.3141 - val_accuracy: 0.9031\n",
      "Epoch 00067: early stopping\n",
      "La accuracy en entrenamiento del modelo definitivo es:  0.9354\n",
      "La accuracy en validación del modelo definitivo es:  0.904\n"
     ]
    }
   ],
   "source": [
    "model_def= keras.Sequential([\n",
    "    keras.layers.Flatten(input_shape=(28, 28)),\n",
    "    \n",
    "    keras.layers.Dense(1024, activation='relu', \n",
    "                       kernel_initializer='glorot_uniform', bias_initializer='glorot_uniform', \n",
    "                       activity_regularizer=regularizers.l2(1e-5), bias_regularizer=regularizers.l2(1e-4)),\n",
    "    \n",
    "    keras.layers.Dropout(0.5),\n",
    "    \n",
    "    keras.layers.Dense(1024, activation='relu',\n",
    "                       kernel_initializer='glorot_uniform', bias_initializer='glorot_uniform', \n",
    "                       activity_regularizer=regularizers.l2(1e-5), bias_regularizer=regularizers.l2(1e-4)),\n",
    "    \n",
    "    keras.layers.Dropout(0.5),\n",
    "    \n",
    "    keras.layers.Dense(1024, activation='relu',\n",
    "                       kernel_initializer='glorot_uniform', bias_initializer='glorot_uniform', \n",
    "                       activity_regularizer=regularizers.l2(1e-5), bias_regularizer=regularizers.l2(1e-4)),\n",
    "    \n",
    "    keras.layers.Dropout(0.5),\n",
    "    \n",
    "    keras.layers.Dense(1024, activation='relu', \n",
    "                       kernel_initializer='glorot_uniform', bias_initializer='glorot_uniform', \n",
    "                       activity_regularizer=regularizers.l2(1e-5), bias_regularizer=regularizers.l2(1e-4)),\n",
    "\n",
    "    keras.layers.Dropout(0.5),\n",
    "\n",
    "    keras.layers.Dense(512, activation='relu', \n",
    "                       kernel_initializer='glorot_uniform', bias_initializer='glorot_uniform', \n",
    "                       activity_regularizer=regularizers.l2(1e-5), bias_regularizer=regularizers.l2(1e-4)),\n",
    "\n",
    "    keras.layers.Dropout(0.5),\n",
    "    \n",
    "    keras.layers.Dense(10, activation='softmax'),\n",
    "])\n",
    "\n",
    "\n",
    "\n",
    "\n",
    "optimizer = keras.optimizers.adam(lr=0.0001) \n",
    "\n",
    "\n",
    "\n",
    "model_def.compile(optimizer=optimizer,\n",
    "              loss='sparse_categorical_crossentropy',\n",
    "              metrics=['accuracy'])\n",
    "\n",
    "stop = keras.callbacks.EarlyStopping(monitor='val_loss', mode='min', verbose=1, patience=10)\n",
    "\n",
    "history_model_def = model_def.fit(x_train, y_train, epochs=100, batch_size= 64,validation_split=0.2, \n",
    "                                  verbose=1, shuffle=True, callbacks=[stop])\n",
    "\n",
    "\n",
    "acc_def = round(np.max(history_model_def.history['accuracy']),4)\n",
    "val_acc_def = round(np.max(history_model_def.history['val_accuracy']),4)\n",
    "\n",
    "\n",
    "\n",
    "\n",
    "\n",
    "print(\"La accuracy en entrenamiento del modelo definitivo es: \", acc_def)\n",
    "print(\"La accuracy en validación del modelo definitivo es: \", val_acc_def)"
   ]
  },
  {
   "cell_type": "code",
   "execution_count": 60,
   "metadata": {
    "colab": {
     "base_uri": "https://localhost:8080/",
     "height": 599
    },
    "colab_type": "code",
    "executionInfo": {
     "elapsed": 515,
     "status": "ok",
     "timestamp": 1589395909351,
     "user": {
      "displayName": "Jose Alcaide",
      "photoUrl": "https://lh3.googleusercontent.com/a-/AOh14Gh0oUNuML9-DLG8N62UMYSReO9bvu-Is30bpWCJ=s64",
      "userId": "15022740438935184894"
     },
     "user_tz": -120
    },
    "id": "6CFH-S8BQcP-",
    "outputId": "5f861eaa-b668-451e-9fa8-691b844cd786"
   },
   "outputs": [
    {
     "name": "stdout",
     "output_type": "stream",
     "text": [
      "Model: \"sequential_17\"\n",
      "_________________________________________________________________\n",
      "Layer (type)                 Output Shape              Param #   \n",
      "=================================================================\n",
      "flatten_17 (Flatten)         (None, 784)               0         \n",
      "_________________________________________________________________\n",
      "dense_65 (Dense)             (None, 1024)              803840    \n",
      "_________________________________________________________________\n",
      "dropout_1 (Dropout)          (None, 1024)              0         \n",
      "_________________________________________________________________\n",
      "dense_66 (Dense)             (None, 1024)              1049600   \n",
      "_________________________________________________________________\n",
      "dropout_2 (Dropout)          (None, 1024)              0         \n",
      "_________________________________________________________________\n",
      "dense_67 (Dense)             (None, 1024)              1049600   \n",
      "_________________________________________________________________\n",
      "dropout_3 (Dropout)          (None, 1024)              0         \n",
      "_________________________________________________________________\n",
      "dense_68 (Dense)             (None, 1024)              1049600   \n",
      "_________________________________________________________________\n",
      "dropout_4 (Dropout)          (None, 1024)              0         \n",
      "_________________________________________________________________\n",
      "dense_69 (Dense)             (None, 512)               524800    \n",
      "_________________________________________________________________\n",
      "dropout_5 (Dropout)          (None, 512)               0         \n",
      "_________________________________________________________________\n",
      "dense_70 (Dense)             (None, 10)                5130      \n",
      "=================================================================\n",
      "Total params: 4,482,570\n",
      "Trainable params: 4,482,570\n",
      "Non-trainable params: 0\n",
      "_________________________________________________________________\n"
     ]
    }
   ],
   "source": [
    "model_def.summary()"
   ]
  },
  {
   "cell_type": "code",
   "execution_count": 61,
   "metadata": {
    "colab": {
     "base_uri": "https://localhost:8080/",
     "height": 627
    },
    "colab_type": "code",
    "executionInfo": {
     "elapsed": 1122,
     "status": "ok",
     "timestamp": 1589395914847,
     "user": {
      "displayName": "Jose Alcaide",
      "photoUrl": "https://lh3.googleusercontent.com/a-/AOh14Gh0oUNuML9-DLG8N62UMYSReO9bvu-Is30bpWCJ=s64",
      "userId": "15022740438935184894"
     },
     "user_tz": -120
    },
    "id": "80dAUfJRZ5cr",
    "outputId": "797dd6d1-829f-4222-e8b8-b6b7b28c0645"
   },
   "outputs": [
    {
     "name": "stderr",
     "output_type": "stream",
     "text": [
      "No handles with labels found to put in legend.\n"
     ]
    },
    {
     "data": {
      "text/plain": [
       "<Figure size 432x288 with 0 Axes>"
      ]
     },
     "execution_count": 61,
     "metadata": {},
     "output_type": "execute_result"
    },
    {
     "data": {
      "image/png": "[encoded data removed]",
      "text/plain": [
       "<Figure size 432x288 with 1 Axes>"
      ]
     },
     "metadata": {
      "needs_background": "light"
     },
     "output_type": "display_data"
    },
    {
     "data": {
      "image/png": "[encoded data removed]",
      "text/plain": [
       "<Figure size 432x288 with 1 Axes>"
      ]
     },
     "metadata": {
      "needs_background": "light"
     },
     "output_type": "display_data"
    },
    {
     "data": {
      "text/plain": [
       "<Figure size 432x288 with 0 Axes>"
      ]
     },
     "metadata": {},
     "output_type": "display_data"
    }
   ],
   "source": [
    "acc_def     = history_model_def.history['accuracy']\n",
    "val_acc_def  = history_model_def.history['val_accuracy']\n",
    "loss_def    = history_model_def.history['loss']\n",
    "val_loss_def = history_model_def.history['val_loss']\n",
    "\n",
    "\n",
    "epochs  = range(1,len(acc_def)+1,1)\n",
    "\n",
    "\n",
    "plt.plot ( epochs,     acc_def, 'r--', label='Training acc'  )\n",
    "plt.plot ( epochs, val_acc_def,  'b', label='Test acc')\n",
    "plt.title ('Training and Validación accuracy modelo definitivo')\n",
    "plt.ylabel('Accuracy del modelo definivo')\n",
    "plt.xlabel('epochs')\n",
    "\n",
    "plt.legend()\n",
    "plt.figure()\n",
    "\n",
    "\n",
    "plt.plot ( epochs,     loss_def, 'r--' )\n",
    "plt.plot ( epochs, val_loss_def,  'b' )\n",
    "plt.title ('Training and validation loss modelo definitivo'   )\n",
    "plt.ylabel('loss_def')\n",
    "plt.xlabel('epochs')\n",
    "\n",
    "\n",
    "plt.legend()\n",
    "plt.figure()"
   ]
  },
  {
   "cell_type": "markdown",
   "metadata": {
    "colab_type": "text",
    "id": "GEEY37nXOPt1"
   },
   "source": [
    "* Pdemos observar en ambas gráficas que se comportan de manera muy similar, por lo tanto, podemos decor que no se aprecia Overfitting."
   ]
  },
  {
   "cell_type": "markdown",
   "metadata": {
    "colab_type": "text",
    "id": "wDk1khUuAY3h"
   },
   "source": [
    "### Evaluación del modelo en datos de test"
   ]
  },
  {
   "cell_type": "markdown",
   "metadata": {
    "colab_type": "text",
    "id": "Ys_KjvuRAd0Y"
   },
   "source": [
    "Una vez elegido el que creemos que es nuestro mejor modelo a partir de la estimación que hemos visto en los datos de validación, es hora de utilizar los datos de test para ver cómo se comporta nuestro modelo ante nuevos datos. Si hemos hecho bien las cosas, este número debería ser parecido al valor de nuestra estimación vista en los datos de validación.\n",
    "\n",
    "**Pregunta 4.2**. Utilizando nuestro mejor modelo, obtener la accuracy resultante en el dataset de test. Comentar este resultado."
   ]
  },
  {
   "cell_type": "code",
   "execution_count": 62,
   "metadata": {
    "colab": {
     "base_uri": "https://localhost:8080/",
     "height": 35
    },
    "colab_type": "code",
    "executionInfo": {
     "elapsed": 1559,
     "status": "ok",
     "timestamp": 1589395921104,
     "user": {
      "displayName": "Jose Alcaide",
      "photoUrl": "https://lh3.googleusercontent.com/a-/AOh14Gh0oUNuML9-DLG8N62UMYSReO9bvu-Is30bpWCJ=s64",
      "userId": "15022740438935184894"
     },
     "user_tz": -120
    },
    "id": "mtfM2K_0Z5gY",
    "outputId": "58d7252a-dd0c-40c9-c327-3169e1927227"
   },
   "outputs": [
    {
     "name": "stdout",
     "output_type": "stream",
     "text": [
      "10000/10000 [==============================] - 1s 74us/step\n"
     ]
    }
   ],
   "source": [
    "acc_test_def = round((model_def.evaluate(x_test, y_test)[1]),4)"
   ]
  },
  {
   "cell_type": "code",
   "execution_count": 63,
   "metadata": {
    "colab": {
     "base_uri": "https://localhost:8080/",
     "height": 35
    },
    "colab_type": "code",
    "executionInfo": {
     "elapsed": 510,
     "status": "ok",
     "timestamp": 1589395922356,
     "user": {
      "displayName": "Jose Alcaide",
      "photoUrl": "https://lh3.googleusercontent.com/a-/AOh14Gh0oUNuML9-DLG8N62UMYSReO9bvu-Is30bpWCJ=s64",
      "userId": "15022740438935184894"
     },
     "user_tz": -120
    },
    "id": "HhgzHw_uJ4co",
    "outputId": "d8e2750d-6031-4d01-ef96-ba0c5176100d"
   },
   "outputs": [
    {
     "name": "stdout",
     "output_type": "stream",
     "text": [
      "La accuracy del modelo definito con los datos de test es:  0.8987\n"
     ]
    }
   ],
   "source": [
    "print(\"La accuracy del modelo definito con los datos de test es: \", acc_test_def)"
   ]
  },
  {
   "cell_type": "markdown",
   "metadata": {
    "colab_type": "text",
    "id": "ZCt3Tgl4MwQ2"
   },
   "source": [
    "* Nuestro mejor modelo tiene una Accuracy del 89.33 % , es decir de 100 imagenes clasifica correctamente a 89."
   ]
  },
  {
   "cell_type": "code",
   "execution_count": 64,
   "metadata": {
    "colab": {},
    "colab_type": "code",
    "id": "tVdqW7O3KiFH"
   },
   "outputs": [],
   "source": [
    "y_pred = model_def.predict_classes(x_test)"
   ]
  },
  {
   "cell_type": "code",
   "execution_count": 65,
   "metadata": {
    "colab": {},
    "colab_type": "code",
    "id": "0AHed2-iIIeA"
   },
   "outputs": [],
   "source": [
    "dic_clases = {0:\"T-shirt/top\",1:\"Trouser\",2:\"Pullover\",3:\"Dress\",4:\"Coat\",5:\"Sandal\",6:\"Shirt\",\n",
    "              7:\"Sneaker\",8:\"Bag\",9:\"Ankle boot\"}"
   ]
  },
  {
   "cell_type": "markdown",
   "metadata": {
    "colab_type": "text",
    "id": "W3E3027oNDR8"
   },
   "source": [
    "* Vamos a implementar otras métricas para ver el comportamiento del modelo, podemos ver que hay clases que mejora la predicción, por ejemplo para los Trousers que llega al 99%. A la vez lo que peor clasifica es la clase Shirt."
   ]
  },
  {
   "cell_type": "code",
   "execution_count": 66,
   "metadata": {
    "colab": {
     "base_uri": "https://localhost:8080/",
     "height": 326
    },
    "colab_type": "code",
    "executionInfo": {
     "elapsed": 559,
     "status": "ok",
     "timestamp": 1589395931581,
     "user": {
      "displayName": "Jose Alcaide",
      "photoUrl": "https://lh3.googleusercontent.com/a-/AOh14Gh0oUNuML9-DLG8N62UMYSReO9bvu-Is30bpWCJ=s64",
      "userId": "15022740438935184894"
     },
     "user_tz": -120
    },
    "id": "9atu1py8Pm6y",
    "outputId": "05274a96-46c2-4912-f327-9c1e68484d85"
   },
   "outputs": [
    {
     "name": "stdout",
     "output_type": "stream",
     "text": [
      "              precision    recall  f1-score   support\n",
      "\n",
      " T-shirt/top       0.85      0.86      0.85      1000\n",
      "     Trouser       0.99      0.98      0.98      1000\n",
      "    Pullover       0.82      0.82      0.82      1000\n",
      "       Dress       0.88      0.93      0.90      1000\n",
      "        Coat       0.83      0.82      0.82      1000\n",
      "      Sandal       0.97      0.98      0.98      1000\n",
      "       Shirt       0.75      0.70      0.72      1000\n",
      "     Sneaker       0.95      0.96      0.96      1000\n",
      "         Bag       0.97      0.97      0.97      1000\n",
      "  Ankle boot       0.98      0.96      0.97      1000\n",
      "\n",
      "    accuracy                           0.90     10000\n",
      "   macro avg       0.90      0.90      0.90     10000\n",
      "weighted avg       0.90      0.90      0.90     10000\n",
      "\n"
     ]
    }
   ],
   "source": [
    "target_names = [dic_clases[x] for x in range(0,10)]\n",
    "print(classification_report(y_test, y_pred, target_names=target_names))"
   ]
  },
  {
   "cell_type": "markdown",
   "metadata": {
    "colab_type": "text",
    "id": "Qk0Eiey7N8Fh"
   },
   "source": [
    "* A continuación vamos a imprimir ejemplos de imagenes que el modelo no es capaz de clasificar bien. Para ello creamos variables que incluyan por separado las que si clasifica bien, comparando con su valor real y predicho, con las que no clasifican correctamente."
   ]
  },
  {
   "cell_type": "code",
   "execution_count": 67,
   "metadata": {
    "colab": {},
    "colab_type": "code",
    "id": "M7-4G4wsLUo0"
   },
   "outputs": [],
   "source": [
    "predicciones_correctas = np.nonzero(y_pred == y_test)[0]\n",
    "predicciones_incorrectas = np.nonzero(y_pred != y_test)[0]"
   ]
  },
  {
   "cell_type": "code",
   "execution_count": 68,
   "metadata": {
    "colab": {
     "base_uri": "https://localhost:8080/",
     "height": 585
    },
    "colab_type": "code",
    "executionInfo": {
     "elapsed": 3185,
     "status": "ok",
     "timestamp": 1589395939001,
     "user": {
      "displayName": "Jose Alcaide",
      "photoUrl": "https://lh3.googleusercontent.com/a-/AOh14Gh0oUNuML9-DLG8N62UMYSReO9bvu-Is30bpWCJ=s64",
      "userId": "15022740438935184894"
     },
     "user_tz": -120
    },
    "id": "dNBKRhxRPnAI",
    "outputId": "916b7cb2-30aa-4e31-d0ce-db009e5e9368"
   },
   "outputs": [
    {
     "data": {
      "image/png": "[encoded data removed]",
      "text/plain": [
       "<Figure size 576x576 with 9 Axes>"
      ]
     },
     "metadata": {
      "needs_background": "light"
     },
     "output_type": "display_data"
    }
   ],
   "source": [
    "plt.figure(figsize=(8,8))\n",
    "for i, incorrect in enumerate(predicciones_incorrectas[:9]):\n",
    "    plt.subplot(3,3,i+1)\n",
    "    plt.imshow(x_test[incorrect].reshape(28,28), cmap='gray', interpolation='none')\n",
    "    plt.title(\"Predicted: {}\\n Actual: {}\".format(dic_clases[y_pred[incorrect]], dic_clases[y_test[incorrect]]))\n",
    "    \n",
    "plt.tight_layout()"
   ]
  },
  {
   "cell_type": "code",
   "execution_count": 69,
   "metadata": {
    "colab": {
     "base_uri": "https://localhost:8080/",
     "height": 585
    },
    "colab_type": "code",
    "executionInfo": {
     "elapsed": 2359,
     "status": "ok",
     "timestamp": 1589395946578,
     "user": {
      "displayName": "Jose Alcaide",
      "photoUrl": "https://lh3.googleusercontent.com/a-/AOh14Gh0oUNuML9-DLG8N62UMYSReO9bvu-Is30bpWCJ=s64",
      "userId": "15022740438935184894"
     },
     "user_tz": -120
    },
    "id": "Fjn0oUMVoy0g",
    "outputId": "f0d3531f-1ae1-482c-bc01-e7064224dc5a"
   },
   "outputs": [
    {
     "data": {
      "image/png": "[encoded data removed]",
      "text/plain": [
       "<Figure size 576x576 with 9 Axes>"
      ]
     },
     "metadata": {
      "needs_background": "light"
     },
     "output_type": "display_data"
    }
   ],
   "source": [
    "plt.figure(figsize=(8,8))\n",
    "\n",
    "for i, correct in enumerate(predicciones_correctas[:9]):\n",
    "    plt.subplot(3,3,i+1)\n",
    "    plt.imshow(x_test[correct].reshape(28,28), cmap='gray', interpolation='none')\n",
    "    plt.title(\"Predicted:{}\\nActual:{}\".format(dic_clases[y_pred[correct]],dic_clases[y_test[correct]]))\n",
    "\n",
    "plt.tight_layout()"
   ]
  },
  {
   "cell_type": "markdown",
   "metadata": {
    "colab_type": "text",
    "id": "AUAYo9GCXkbi"
   },
   "source": [
    "* Vamos a crear una matriz que nos muestre los valores numéricos entre las imagenes que ha predicho bien y las que no lo ha hecho correctamente. Por ejemplo existen cuatro imagenes que en realidad son Coat y el modelo lo ha etiquetado como T-shirt/top. Podemos analizar con mas detalle porque la etiqueta Shirt el modelo no da valores buenos ya que los confunde sobre todo con T-shirt/top.\n",
    "* En la diagonla principal, se encuentran los valores predichos correctamente."
   ]
  },
  {
   "cell_type": "code",
   "execution_count": 70,
   "metadata": {
    "colab": {
     "base_uri": "https://localhost:8080/",
     "height": 378
    },
    "colab_type": "code",
    "executionInfo": {
     "elapsed": 1432699,
     "status": "ok",
     "timestamp": 1589394945547,
     "user": {
      "displayName": "Jose Alcaide",
      "photoUrl": "https://lh3.googleusercontent.com/a-/AOh14Gh0oUNuML9-DLG8N62UMYSReO9bvu-Is30bpWCJ=s64",
      "userId": "15022740438935184894"
     },
     "user_tz": -120
    },
    "id": "HL8okOStL04-",
    "outputId": "c30721e9-515f-4115-bc29-db26db8f02a1"
   },
   "outputs": [
    {
     "data": {
      "text/html": [
       "<div>\n",
       "<style scoped>\n",
       "    .dataframe tbody tr th:only-of-type {\n",
       "        vertical-align: middle;\n",
       "    }\n",
       "\n",
       "    .dataframe tbody tr th {\n",
       "        vertical-align: top;\n",
       "    }\n",
       "\n",
       "    .dataframe thead th {\n",
       "        text-align: right;\n",
       "    }\n",
       "</style>\n",
       "<table border=\"1\" class=\"dataframe\">\n",
       "  <thead>\n",
       "    <tr style=\"text-align: right;\">\n",
       "      <th>Real</th>\n",
       "      <th>T-shirt/top</th>\n",
       "      <th>Trouser</th>\n",
       "      <th>Pullover</th>\n",
       "      <th>Dress</th>\n",
       "      <th>Coat</th>\n",
       "      <th>Sandal</th>\n",
       "      <th>Shirt</th>\n",
       "      <th>Sneaker</th>\n",
       "      <th>Bag</th>\n",
       "      <th>Ankle boot</th>\n",
       "    </tr>\n",
       "    <tr>\n",
       "      <th>Predicted</th>\n",
       "      <th></th>\n",
       "      <th></th>\n",
       "      <th></th>\n",
       "      <th></th>\n",
       "      <th></th>\n",
       "      <th></th>\n",
       "      <th></th>\n",
       "      <th></th>\n",
       "      <th></th>\n",
       "      <th></th>\n",
       "    </tr>\n",
       "  </thead>\n",
       "  <tbody>\n",
       "    <tr>\n",
       "      <th>T-shirt/top</th>\n",
       "      <td>862</td>\n",
       "      <td>0</td>\n",
       "      <td>14</td>\n",
       "      <td>24</td>\n",
       "      <td>3</td>\n",
       "      <td>1</td>\n",
       "      <td>91</td>\n",
       "      <td>0</td>\n",
       "      <td>5</td>\n",
       "      <td>0</td>\n",
       "    </tr>\n",
       "    <tr>\n",
       "      <th>Trouser</th>\n",
       "      <td>1</td>\n",
       "      <td>977</td>\n",
       "      <td>2</td>\n",
       "      <td>16</td>\n",
       "      <td>2</td>\n",
       "      <td>0</td>\n",
       "      <td>1</td>\n",
       "      <td>0</td>\n",
       "      <td>1</td>\n",
       "      <td>0</td>\n",
       "    </tr>\n",
       "    <tr>\n",
       "      <th>Pullover</th>\n",
       "      <td>15</td>\n",
       "      <td>2</td>\n",
       "      <td>822</td>\n",
       "      <td>13</td>\n",
       "      <td>81</td>\n",
       "      <td>0</td>\n",
       "      <td>63</td>\n",
       "      <td>0</td>\n",
       "      <td>4</td>\n",
       "      <td>0</td>\n",
       "    </tr>\n",
       "    <tr>\n",
       "      <th>Dress</th>\n",
       "      <td>14</td>\n",
       "      <td>9</td>\n",
       "      <td>10</td>\n",
       "      <td>925</td>\n",
       "      <td>22</td>\n",
       "      <td>0</td>\n",
       "      <td>16</td>\n",
       "      <td>1</td>\n",
       "      <td>3</td>\n",
       "      <td>0</td>\n",
       "    </tr>\n",
       "    <tr>\n",
       "      <th>Coat</th>\n",
       "      <td>0</td>\n",
       "      <td>1</td>\n",
       "      <td>85</td>\n",
       "      <td>35</td>\n",
       "      <td>819</td>\n",
       "      <td>0</td>\n",
       "      <td>57</td>\n",
       "      <td>0</td>\n",
       "      <td>3</td>\n",
       "      <td>0</td>\n",
       "    </tr>\n",
       "    <tr>\n",
       "      <th>Sandal</th>\n",
       "      <td>0</td>\n",
       "      <td>0</td>\n",
       "      <td>0</td>\n",
       "      <td>0</td>\n",
       "      <td>0</td>\n",
       "      <td>981</td>\n",
       "      <td>0</td>\n",
       "      <td>12</td>\n",
       "      <td>1</td>\n",
       "      <td>6</td>\n",
       "    </tr>\n",
       "    <tr>\n",
       "      <th>Shirt</th>\n",
       "      <td>121</td>\n",
       "      <td>1</td>\n",
       "      <td>72</td>\n",
       "      <td>35</td>\n",
       "      <td>61</td>\n",
       "      <td>1</td>\n",
       "      <td>700</td>\n",
       "      <td>0</td>\n",
       "      <td>9</td>\n",
       "      <td>0</td>\n",
       "    </tr>\n",
       "    <tr>\n",
       "      <th>Sneaker</th>\n",
       "      <td>0</td>\n",
       "      <td>0</td>\n",
       "      <td>0</td>\n",
       "      <td>0</td>\n",
       "      <td>0</td>\n",
       "      <td>18</td>\n",
       "      <td>0</td>\n",
       "      <td>964</td>\n",
       "      <td>0</td>\n",
       "      <td>18</td>\n",
       "    </tr>\n",
       "    <tr>\n",
       "      <th>Bag</th>\n",
       "      <td>4</td>\n",
       "      <td>1</td>\n",
       "      <td>2</td>\n",
       "      <td>6</td>\n",
       "      <td>2</td>\n",
       "      <td>3</td>\n",
       "      <td>4</td>\n",
       "      <td>4</td>\n",
       "      <td>974</td>\n",
       "      <td>0</td>\n",
       "    </tr>\n",
       "    <tr>\n",
       "      <th>Ankle boot</th>\n",
       "      <td>0</td>\n",
       "      <td>0</td>\n",
       "      <td>0</td>\n",
       "      <td>0</td>\n",
       "      <td>0</td>\n",
       "      <td>6</td>\n",
       "      <td>1</td>\n",
       "      <td>30</td>\n",
       "      <td>0</td>\n",
       "      <td>963</td>\n",
       "    </tr>\n",
       "  </tbody>\n",
       "</table>\n",
       "</div>"
      ],
      "text/plain": [
       "Real         T-shirt/top  Trouser  Pullover  Dress  Coat  Sandal  Shirt  \\\n",
       "Predicted                                                                 \n",
       "T-shirt/top          862        0        14     24     3       1     91   \n",
       "Trouser                1      977         2     16     2       0      1   \n",
       "Pullover              15        2       822     13    81       0     63   \n",
       "Dress                 14        9        10    925    22       0     16   \n",
       "Coat                   0        1        85     35   819       0     57   \n",
       "Sandal                 0        0         0      0     0     981      0   \n",
       "Shirt                121        1        72     35    61       1    700   \n",
       "Sneaker                0        0         0      0     0      18      0   \n",
       "Bag                    4        1         2      6     2       3      4   \n",
       "Ankle boot             0        0         0      0     0       6      1   \n",
       "\n",
       "Real         Sneaker  Bag  Ankle boot  \n",
       "Predicted                              \n",
       "T-shirt/top        0    5           0  \n",
       "Trouser            0    1           0  \n",
       "Pullover           0    4           0  \n",
       "Dress              1    3           0  \n",
       "Coat               0    3           0  \n",
       "Sandal            12    1           6  \n",
       "Shirt              0    9           0  \n",
       "Sneaker          964    0          18  \n",
       "Bag                4  974           0  \n",
       "Ankle boot        30    0         963  "
      ]
     },
     "execution_count": 70,
     "metadata": {},
     "output_type": "execute_result"
    }
   ],
   "source": [
    "matrix = pd.DataFrame(confusion_matrix(y_test, y_pred), index=target_names, columns=target_names)\n",
    "matrix.index.name = 'Predicted'\n",
    "matrix.columns.name = 'Real'\n",
    "matrix"
   ]
  },
  {
   "cell_type": "markdown",
   "metadata": {
    "colab": {},
    "colab_type": "code",
    "id": "hPZRt7Xq1igr"
   },
   "source": []
  }
 ],
 "metadata": {
  "accelerator": "GPU",
  "colab": {
   "machine_shape": "hm",
   "name": "DEF_Actividad_1_Parte_2_Alcaide_Carrera_Jose_Manuel.ipynb",
   "provenance": [
    {
     "file_id": "1--S2pKRCnCTdw612pzpRB5MPT5SW0pfy",
     "timestamp": 1589032833880
    }
   ]
  },
  "kernelspec": {
   "display_name": "Python 3",
   "language": "python",
   "name": "python3"
  },
  "language_info": {
   "codemirror_mode": {
    "name": "ipython",
    "version": 3
   },
   "file_extension": ".py",
   "mimetype": "text/x-python",
   "name": "python",
   "nbconvert_exporter": "python",
   "pygments_lexer": "ipython3",
   "version": "3.7.7"
  }
 },
 "nbformat": 4,
 "nbformat_minor": 1
}
