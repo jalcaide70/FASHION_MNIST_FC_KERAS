{
 "cells": [
  {
   "cell_type": "markdown",
   "metadata": {
    "colab_type": "text",
    "id": "iiDzBoKGwmMZ"
   },
   "source": [
    "# Primera parte: Introducción a las redes neuronales con Keras\n",
    "\n",
    "En esta primera parte, vamos a utilizar una red neuronal para clasificar imágenes de prendas de ropa. Para ello, utilizaremos Keras con TensorFlow.\n",
    "\n",
    "El dataset a utilizar es Fashion MNIST, un problema sencillo con imágenes pequeñas de ropa, pero más interesante que el dataset de MNIST. Puedes consultar más información sobre el dataset en [este enlace](https://github.com/zalandoresearch/fashion-mnist).\n",
    "\n",
    "El código utilizado para contestar tiene que quedar claramente reflejado en el Notebook. Puedes crear nuevas cells si así lo deseas para estructurar tu código y sus salidas. A la hora de entregar el notebook, **asegúrate de que los resultados de ejecutar tu código han quedado guardados** (por ejemplo, a la hora de entrenar una red neuronal tiene que verse claramente un log de los resultados de cada epoch)."
   ]
  },
  {
   "cell_type": "code",
   "execution_count": 1,
   "metadata": {
    "colab": {
     "base_uri": "https://localhost:8080/",
     "height": 35
    },
    "colab_type": "code",
    "executionInfo": {
     "elapsed": 2692,
     "status": "ok",
     "timestamp": 1589393113716,
     "user": {
      "displayName": "Jose Alcaide",
      "photoUrl": "https://lh3.googleusercontent.com/a-/AOh14Gh0oUNuML9-DLG8N62UMYSReO9bvu-Is30bpWCJ=s64",
      "userId": "15022740438935184894"
     },
     "user_tz": -120
    },
    "id": "gSHr268SwmMa",
    "outputId": "bccfd158-92b4-44a1-c91f-02e28be7cae2"
   },
   "outputs": [
    {
     "name": "stderr",
     "output_type": "stream",
     "text": [
      "Using TensorFlow backend.\n"
     ]
    }
   ],
   "source": [
    "import keras\n",
    "from keras.datasets import fashion_mnist\n",
    "from keras.models import Sequential\n",
    "from keras.layers import Dense\n",
    "import tensorflow as tf\n",
    "\n",
    "import matplotlib.pyplot as plt\n",
    "\n",
    "import warnings\n",
    "warnings.filterwarnings('ignore')"
   ]
  },
  {
   "cell_type": "markdown",
   "metadata": {
    "colab_type": "text",
    "id": "vqaDAP8Sl67W"
   },
   "source": [
    "* ¿ Por qué usamos Keras?.\n",
    "\n",
    "Es una de las herramientas para implementar redes neuronales más populares pues es una libreria de alto nivel de Python que porporciona de una manera sencilla la creación de muchos modelos de Deep Learning usando como backend otras librerias como TensorFlow. De esta forma permite crear redes de una forma modular considerando el modelo como una secuencia y sin necesidad de defirnir arquitecturas de bajo nivel."
   ]
  },
  {
   "cell_type": "markdown",
   "metadata": {
    "colab_type": "text",
    "id": "UcNgBiV-Gtqr"
   },
   "source": [
    "Importamos otras librerias que nos van a hacer falta"
   ]
  },
  {
   "cell_type": "code",
   "execution_count": 2,
   "metadata": {
    "colab": {},
    "colab_type": "code",
    "id": "Zji8zXxfz2hk"
   },
   "outputs": [],
   "source": [
    "import numpy as np\n",
    "import pandas as pd\n",
    "\n",
    "np.random.seed(0)"
   ]
  },
  {
   "cell_type": "markdown",
   "metadata": {
    "colab_type": "text",
    "id": "PhYq8-CvwmMc"
   },
   "source": [
    "Primero, vamos a obtener los datos. Por suerte para nosotros, estos pueden ser descargados directamente desde Keras, por lo que no tendremos que preocuparnos de tratar con ficheros."
   ]
  },
  {
   "cell_type": "code",
   "execution_count": 3,
   "metadata": {
    "colab": {
     "base_uri": "https://localhost:8080/",
     "height": 163
    },
    "colab_type": "code",
    "executionInfo": {
     "elapsed": 6719,
     "status": "ok",
     "timestamp": 1589393117752,
     "user": {
      "displayName": "Jose Alcaide",
      "photoUrl": "https://lh3.googleusercontent.com/a-/AOh14Gh0oUNuML9-DLG8N62UMYSReO9bvu-Is30bpWCJ=s64",
      "userId": "15022740438935184894"
     },
     "user_tz": -120
    },
    "id": "0mjrFULOwmMd",
    "outputId": "81fdbbb9-2f4b-4a4a-fddc-7de0e111924d"
   },
   "outputs": [],
   "source": [
    "(x_train, y_train), (x_test, y_test) = fashion_mnist.load_data()"
   ]
  },
  {
   "cell_type": "code",
   "execution_count": 4,
   "metadata": {
    "colab": {
     "base_uri": "https://localhost:8080/",
     "height": 35
    },
    "colab_type": "code",
    "executionInfo": {
     "elapsed": 6713,
     "status": "ok",
     "timestamp": 1589393117753,
     "user": {
      "displayName": "Jose Alcaide",
      "photoUrl": "https://lh3.googleusercontent.com/a-/AOh14Gh0oUNuML9-DLG8N62UMYSReO9bvu-Is30bpWCJ=s64",
      "userId": "15022740438935184894"
     },
     "user_tz": -120
    },
    "id": "FZL8-aXxP4eU",
    "outputId": "e8c24e49-bd8c-4f81-9b04-685703d0200e"
   },
   "outputs": [
    {
     "data": {
      "text/plain": [
       "dtype('uint8')"
      ]
     },
     "execution_count": 4,
     "metadata": {},
     "output_type": "execute_result"
    }
   ],
   "source": [
    "x_train.dtype"
   ]
  },
  {
   "cell_type": "markdown",
   "metadata": {
    "colab_type": "text",
    "id": "AOVoeoj0wmMe"
   },
   "source": [
    "Acto seguido, normalizamos esos datos de manera similar a como hemos visto con MNIST, obteniendo valores entre 0 y 1. Este paso es muy importante para el correcto funcionamiento de nuestra red."
   ]
  },
  {
   "cell_type": "code",
   "execution_count": 5,
   "metadata": {
    "colab": {},
    "colab_type": "code",
    "id": "5EgKN2YWwmMf"
   },
   "outputs": [],
   "source": [
    "x_train = x_train / 255.0\n",
    "x_test = x_test / 255.0"
   ]
  },
  {
   "cell_type": "markdown",
   "metadata": {
    "colab_type": "text",
    "id": "BaqXlSMBwmMg"
   },
   "source": [
    "## 1. Información sobre el dataset"
   ]
  },
  {
   "cell_type": "markdown",
   "metadata": {
    "colab_type": "text",
    "id": "e0aer8ZZwmMh"
   },
   "source": [
    "Una vez tenemos los datos cargados en memoria, vamos a obtener información sobre los mismos."
   ]
  },
  {
   "cell_type": "markdown",
   "metadata": {
    "colab_type": "text",
    "id": "E-im9PnEwmMh"
   },
   "source": [
    "**Pregunta 1.1 *(0.25 puntos)*** ¿Cuántas imágenes hay de *training* y de *test*? ¿Qué tamaño tienen las imágenes?"
   ]
  },
  {
   "cell_type": "code",
   "execution_count": 6,
   "metadata": {
    "colab": {
     "base_uri": "https://localhost:8080/",
     "height": 35
    },
    "colab_type": "code",
    "executionInfo": {
     "elapsed": 6685,
     "status": "ok",
     "timestamp": 1589393117754,
     "user": {
      "displayName": "Jose Alcaide",
      "photoUrl": "https://lh3.googleusercontent.com/a-/AOh14Gh0oUNuML9-DLG8N62UMYSReO9bvu-Is30bpWCJ=s64",
      "userId": "15022740438935184894"
     },
     "user_tz": -120
    },
    "id": "j_yKDsgRlVA0",
    "outputId": "7451f87d-68bb-4c2b-da3d-477371324f28"
   },
   "outputs": [
    {
     "data": {
      "text/plain": [
       "(60000, 28, 28)"
      ]
     },
     "execution_count": 6,
     "metadata": {},
     "output_type": "execute_result"
    }
   ],
   "source": [
    "x_train.shape"
   ]
  },
  {
   "cell_type": "code",
   "execution_count": 7,
   "metadata": {
    "colab": {
     "base_uri": "https://localhost:8080/",
     "height": 35
    },
    "colab_type": "code",
    "executionInfo": {
     "elapsed": 6475,
     "status": "ok",
     "timestamp": 1589393117754,
     "user": {
      "displayName": "Jose Alcaide",
      "photoUrl": "https://lh3.googleusercontent.com/a-/AOh14Gh0oUNuML9-DLG8N62UMYSReO9bvu-Is30bpWCJ=s64",
      "userId": "15022740438935184894"
     },
     "user_tz": -120
    },
    "id": "v8tOzhTmH_hx",
    "outputId": "b5dfd56d-92b4-4dee-ef05-81fb08200af6"
   },
   "outputs": [
    {
     "data": {
      "text/plain": [
       "60000"
      ]
     },
     "execution_count": 7,
     "metadata": {},
     "output_type": "execute_result"
    }
   ],
   "source": [
    "len(x_train)"
   ]
  },
  {
   "cell_type": "code",
   "execution_count": 8,
   "metadata": {
    "colab": {
     "base_uri": "https://localhost:8080/",
     "height": 35
    },
    "colab_type": "code",
    "executionInfo": {
     "elapsed": 5731,
     "status": "ok",
     "timestamp": 1589393117755,
     "user": {
      "displayName": "Jose Alcaide",
      "photoUrl": "https://lh3.googleusercontent.com/a-/AOh14Gh0oUNuML9-DLG8N62UMYSReO9bvu-Is30bpWCJ=s64",
      "userId": "15022740438935184894"
     },
     "user_tz": -120
    },
    "id": "XHY-eliGH_lL",
    "outputId": "7d853809-3bc1-4088-ea91-d10064559ea6"
   },
   "outputs": [
    {
     "data": {
      "text/plain": [
       "(10000, 28, 28)"
      ]
     },
     "execution_count": 8,
     "metadata": {},
     "output_type": "execute_result"
    }
   ],
   "source": [
    "x_test.shape"
   ]
  },
  {
   "cell_type": "code",
   "execution_count": 9,
   "metadata": {
    "colab": {
     "base_uri": "https://localhost:8080/",
     "height": 35
    },
    "colab_type": "code",
    "executionInfo": {
     "elapsed": 5509,
     "status": "ok",
     "timestamp": 1589393117755,
     "user": {
      "displayName": "Jose Alcaide",
      "photoUrl": "https://lh3.googleusercontent.com/a-/AOh14Gh0oUNuML9-DLG8N62UMYSReO9bvu-Is30bpWCJ=s64",
      "userId": "15022740438935184894"
     },
     "user_tz": -120
    },
    "id": "Ar-Ey8NYH_ob",
    "outputId": "4314529e-d086-43e0-fde4-2842c464b7f7"
   },
   "outputs": [
    {
     "data": {
      "text/plain": [
       "10000"
      ]
     },
     "execution_count": 9,
     "metadata": {},
     "output_type": "execute_result"
    }
   ],
   "source": [
    "len(x_test)"
   ]
  },
  {
   "cell_type": "markdown",
   "metadata": {
    "colab_type": "text",
    "id": "iEFmtJ4uJOg5"
   },
   "source": [
    "* El temaño que tiene el conjunto de imagenes de train es de 60.000 imágenes.\n",
    "* En el conjunto de test contiene 10.000 imágenes. \n",
    "* El tamaño de todas las imágenes es 28 largo x 28 ancho lo que hace un total de 784 pixeles. "
   ]
  },
  {
   "cell_type": "code",
   "execution_count": 10,
   "metadata": {
    "colab": {
     "base_uri": "https://localhost:8080/",
     "height": 35
    },
    "colab_type": "code",
    "executionInfo": {
     "elapsed": 5015,
     "status": "ok",
     "timestamp": 1589393117755,
     "user": {
      "displayName": "Jose Alcaide",
      "photoUrl": "https://lh3.googleusercontent.com/a-/AOh14Gh0oUNuML9-DLG8N62UMYSReO9bvu-Is30bpWCJ=s64",
      "userId": "15022740438935184894"
     },
     "user_tz": -120
    },
    "id": "MFwX6NxIKQOp",
    "outputId": "62b3cd6e-edd8-4c5e-c8f3-5274852594f8"
   },
   "outputs": [
    {
     "data": {
      "text/plain": [
       "(60000,)"
      ]
     },
     "execution_count": 10,
     "metadata": {},
     "output_type": "execute_result"
    }
   ],
   "source": [
    "y_train.shape"
   ]
  },
  {
   "cell_type": "code",
   "execution_count": 11,
   "metadata": {
    "colab": {
     "base_uri": "https://localhost:8080/",
     "height": 35
    },
    "colab_type": "code",
    "executionInfo": {
     "elapsed": 4812,
     "status": "ok",
     "timestamp": 1589393117756,
     "user": {
      "displayName": "Jose Alcaide",
      "photoUrl": "https://lh3.googleusercontent.com/a-/AOh14Gh0oUNuML9-DLG8N62UMYSReO9bvu-Is30bpWCJ=s64",
      "userId": "15022740438935184894"
     },
     "user_tz": -120
    },
    "id": "jE-3uryUKQRp",
    "outputId": "2574dbab-1404-411e-8e39-f4bb1fe1b100"
   },
   "outputs": [
    {
     "data": {
      "text/plain": [
       "(10000,)"
      ]
     },
     "execution_count": 11,
     "metadata": {},
     "output_type": "execute_result"
    }
   ],
   "source": [
    "y_test.shape"
   ]
  },
  {
   "cell_type": "markdown",
   "metadata": {
    "colab_type": "text",
    "id": "9qHtSp9ZKqqd"
   },
   "source": [
    " Observamos que las variables con la etiquetas en train (y_train) tienen el mismo numero de imagenes (x_train). Es simplemente para verificar que cuadran las dimensiones. Lo mismo ocurre en el caso  del test , x_test con y_test."
   ]
  },
  {
   "cell_type": "markdown",
   "metadata": {
    "colab_type": "text",
    "id": "F2LsvfHOwmMk"
   },
   "source": [
    "**Pregunta 1.2 *(0.25 puntos)*** Realizar una exploración de las variables que contienen los datos. Describir en qué consiste un example del dataset (qué información se guarda en cada imagen) y describir qué contiene la información en y."
   ]
  },
  {
   "cell_type": "code",
   "execution_count": 12,
   "metadata": {
    "colab": {
     "base_uri": "https://localhost:8080/",
     "height": 908
    },
    "colab_type": "code",
    "executionInfo": {
     "elapsed": 4560,
     "status": "ok",
     "timestamp": 1589393117756,
     "user": {
      "displayName": "Jose Alcaide",
      "photoUrl": "https://lh3.googleusercontent.com/a-/AOh14Gh0oUNuML9-DLG8N62UMYSReO9bvu-Is30bpWCJ=s64",
      "userId": "15022740438935184894"
     },
     "user_tz": -120
    },
    "id": "6weO72JWKENF",
    "outputId": "27270183-78f8-4c9e-f073-fb55d227fcc8"
   },
   "outputs": [
    {
     "name": "stdout",
     "output_type": "stream",
     "text": [
      "[[[0. 0. 0. ... 0. 0. 0.]\n",
      "  [0. 0. 0. ... 0. 0. 0.]\n",
      "  [0. 0. 0. ... 0. 0. 0.]\n",
      "  ...\n",
      "  [0. 0. 0. ... 0. 0. 0.]\n",
      "  [0. 0. 0. ... 0. 0. 0.]\n",
      "  [0. 0. 0. ... 0. 0. 0.]]\n",
      "\n",
      " [[0. 0. 0. ... 0. 0. 0.]\n",
      "  [0. 0. 0. ... 0. 0. 0.]\n",
      "  [0. 0. 0. ... 0. 0. 0.]\n",
      "  ...\n",
      "  [0. 0. 0. ... 0. 0. 0.]\n",
      "  [0. 0. 0. ... 0. 0. 0.]\n",
      "  [0. 0. 0. ... 0. 0. 0.]]\n",
      "\n",
      " [[0. 0. 0. ... 0. 0. 0.]\n",
      "  [0. 0. 0. ... 0. 0. 0.]\n",
      "  [0. 0. 0. ... 0. 0. 0.]\n",
      "  ...\n",
      "  [0. 0. 0. ... 0. 0. 0.]\n",
      "  [0. 0. 0. ... 0. 0. 0.]\n",
      "  [0. 0. 0. ... 0. 0. 0.]]\n",
      "\n",
      " ...\n",
      "\n",
      " [[0. 0. 0. ... 0. 0. 0.]\n",
      "  [0. 0. 0. ... 0. 0. 0.]\n",
      "  [0. 0. 0. ... 0. 0. 0.]\n",
      "  ...\n",
      "  [0. 0. 0. ... 0. 0. 0.]\n",
      "  [0. 0. 0. ... 0. 0. 0.]\n",
      "  [0. 0. 0. ... 0. 0. 0.]]\n",
      "\n",
      " [[0. 0. 0. ... 0. 0. 0.]\n",
      "  [0. 0. 0. ... 0. 0. 0.]\n",
      "  [0. 0. 0. ... 0. 0. 0.]\n",
      "  ...\n",
      "  [0. 0. 0. ... 0. 0. 0.]\n",
      "  [0. 0. 0. ... 0. 0. 0.]\n",
      "  [0. 0. 0. ... 0. 0. 0.]]\n",
      "\n",
      " [[0. 0. 0. ... 0. 0. 0.]\n",
      "  [0. 0. 0. ... 0. 0. 0.]\n",
      "  [0. 0. 0. ... 0. 0. 0.]\n",
      "  ...\n",
      "  [0. 0. 0. ... 0. 0. 0.]\n",
      "  [0. 0. 0. ... 0. 0. 0.]\n",
      "  [0. 0. 0. ... 0. 0. 0.]]]\n"
     ]
    }
   ],
   "source": [
    "print(x_train)"
   ]
  },
  {
   "cell_type": "markdown",
   "metadata": {
    "colab_type": "text",
    "id": "DJQBlSCFQI5k"
   },
   "source": [
    "* Vemos los 60.000 imagenes pertenecientes al conjunto x_train con todos sus valores de los 28 pixeles que sus valores están entre 0 y 1."
   ]
  },
  {
   "cell_type": "code",
   "execution_count": 13,
   "metadata": {
    "colab": {
     "base_uri": "https://localhost:8080/",
     "height": 54
    },
    "colab_type": "code",
    "executionInfo": {
     "elapsed": 4280,
     "status": "ok",
     "timestamp": 1589393117757,
     "user": {
      "displayName": "Jose Alcaide",
      "photoUrl": "https://lh3.googleusercontent.com/a-/AOh14Gh0oUNuML9-DLG8N62UMYSReO9bvu-Is30bpWCJ=s64",
      "userId": "15022740438935184894"
     },
     "user_tz": -120
    },
    "id": "qo9dF8jbwwdB",
    "outputId": "c2a8cdbe-bdea-41c8-a771-96cd6a683c20"
   },
   "outputs": [
    {
     "data": {
      "text/plain": [
       "array([0., 0., 0., 0., 0., 0., 0., 0., 0., 0., 0., 0., 0., 0., 0., 0., 0.,\n",
       "       0., 0., 0., 0., 0., 0., 0., 0., 0., 0., 0.])"
      ]
     },
     "execution_count": 13,
     "metadata": {},
     "output_type": "execute_result"
    }
   ],
   "source": [
    "x_train[0][0]"
   ]
  },
  {
   "cell_type": "markdown",
   "metadata": {
    "colab_type": "text",
    "id": "OOoeP_PHQrBk"
   },
   "source": [
    "* Analizamos el primer elemento del conjunto x_test y queremos observar su 28 valores."
   ]
  },
  {
   "cell_type": "code",
   "execution_count": 14,
   "metadata": {
    "colab": {
     "base_uri": "https://localhost:8080/",
     "height": 35
    },
    "colab_type": "code",
    "executionInfo": {
     "elapsed": 3923,
     "status": "ok",
     "timestamp": 1589393117757,
     "user": {
      "displayName": "Jose Alcaide",
      "photoUrl": "https://lh3.googleusercontent.com/a-/AOh14Gh0oUNuML9-DLG8N62UMYSReO9bvu-Is30bpWCJ=s64",
      "userId": "15022740438935184894"
     },
     "user_tz": -120
    },
    "id": "LDawx-XxIzwz",
    "outputId": "72a8e931-a45b-4c26-cd36-00251f942394"
   },
   "outputs": [
    {
     "data": {
      "text/plain": [
       "(28, 28)"
      ]
     },
     "execution_count": 14,
     "metadata": {},
     "output_type": "execute_result"
    }
   ],
   "source": [
    "x_train[0].shape"
   ]
  },
  {
   "cell_type": "markdown",
   "metadata": {
    "colab_type": "text",
    "id": "Zv5rP0n87Qgb"
   },
   "source": [
    "* Las dimensiones de una observación, es decir, las dimensiones de una imagen"
   ]
  },
  {
   "cell_type": "code",
   "execution_count": 15,
   "metadata": {
    "colab": {
     "base_uri": "https://localhost:8080/",
     "height": 1000
    },
    "colab_type": "code",
    "executionInfo": {
     "elapsed": 3799,
     "status": "ok",
     "timestamp": 1589393117758,
     "user": {
      "displayName": "Jose Alcaide",
      "photoUrl": "https://lh3.googleusercontent.com/a-/AOh14Gh0oUNuML9-DLG8N62UMYSReO9bvu-Is30bpWCJ=s64",
      "userId": "15022740438935184894"
     },
     "user_tz": -120
    },
    "id": "WQZsxI-jRnOK",
    "outputId": "e5df7996-fb8b-4537-ec3b-a4b3a3223b1f"
   },
   "outputs": [
    {
     "data": {
      "text/plain": [
       "array([[0.        , 0.        , 0.        , 0.        , 0.        ,\n",
       "        0.        , 0.        , 0.        , 0.        , 0.        ,\n",
       "        0.        , 0.        , 0.        , 0.        , 0.        ,\n",
       "        0.        , 0.        , 0.        , 0.        , 0.        ,\n",
       "        0.        , 0.        , 0.        , 0.        , 0.        ,\n",
       "        0.        , 0.        , 0.        ],\n",
       "       [0.        , 0.        , 0.        , 0.        , 0.        ,\n",
       "        0.        , 0.        , 0.        , 0.        , 0.        ,\n",
       "        0.        , 0.        , 0.        , 0.        , 0.        ,\n",
       "        0.        , 0.        , 0.        , 0.        , 0.        ,\n",
       "        0.        , 0.        , 0.        , 0.        , 0.        ,\n",
       "        0.        , 0.        , 0.        ],\n",
       "       [0.        , 0.        , 0.        , 0.        , 0.        ,\n",
       "        0.        , 0.        , 0.        , 0.        , 0.        ,\n",
       "        0.        , 0.        , 0.        , 0.        , 0.        ,\n",
       "        0.        , 0.        , 0.        , 0.        , 0.        ,\n",
       "        0.        , 0.        , 0.        , 0.        , 0.        ,\n",
       "        0.        , 0.        , 0.        ],\n",
       "       [0.        , 0.        , 0.        , 0.        , 0.        ,\n",
       "        0.        , 0.        , 0.        , 0.        , 0.        ,\n",
       "        0.        , 0.        , 0.00392157, 0.        , 0.        ,\n",
       "        0.05098039, 0.28627451, 0.        , 0.        , 0.00392157,\n",
       "        0.01568627, 0.        , 0.        , 0.        , 0.        ,\n",
       "        0.00392157, 0.00392157, 0.        ],\n",
       "       [0.        , 0.        , 0.        , 0.        , 0.        ,\n",
       "        0.        , 0.        , 0.        , 0.        , 0.        ,\n",
       "        0.        , 0.        , 0.01176471, 0.        , 0.14117647,\n",
       "        0.53333333, 0.49803922, 0.24313725, 0.21176471, 0.        ,\n",
       "        0.        , 0.        , 0.00392157, 0.01176471, 0.01568627,\n",
       "        0.        , 0.        , 0.01176471],\n",
       "       [0.        , 0.        , 0.        , 0.        , 0.        ,\n",
       "        0.        , 0.        , 0.        , 0.        , 0.        ,\n",
       "        0.        , 0.        , 0.02352941, 0.        , 0.4       ,\n",
       "        0.8       , 0.69019608, 0.5254902 , 0.56470588, 0.48235294,\n",
       "        0.09019608, 0.        , 0.        , 0.        , 0.        ,\n",
       "        0.04705882, 0.03921569, 0.        ],\n",
       "       [0.        , 0.        , 0.        , 0.        , 0.        ,\n",
       "        0.        , 0.        , 0.        , 0.        , 0.        ,\n",
       "        0.        , 0.        , 0.        , 0.        , 0.60784314,\n",
       "        0.9254902 , 0.81176471, 0.69803922, 0.41960784, 0.61176471,\n",
       "        0.63137255, 0.42745098, 0.25098039, 0.09019608, 0.30196078,\n",
       "        0.50980392, 0.28235294, 0.05882353],\n",
       "       [0.        , 0.        , 0.        , 0.        , 0.        ,\n",
       "        0.        , 0.        , 0.        , 0.        , 0.        ,\n",
       "        0.        , 0.00392157, 0.        , 0.27058824, 0.81176471,\n",
       "        0.8745098 , 0.85490196, 0.84705882, 0.84705882, 0.63921569,\n",
       "        0.49803922, 0.4745098 , 0.47843137, 0.57254902, 0.55294118,\n",
       "        0.34509804, 0.6745098 , 0.25882353],\n",
       "       [0.        , 0.        , 0.        , 0.        , 0.        ,\n",
       "        0.        , 0.        , 0.        , 0.        , 0.00392157,\n",
       "        0.00392157, 0.00392157, 0.        , 0.78431373, 0.90980392,\n",
       "        0.90980392, 0.91372549, 0.89803922, 0.8745098 , 0.8745098 ,\n",
       "        0.84313725, 0.83529412, 0.64313725, 0.49803922, 0.48235294,\n",
       "        0.76862745, 0.89803922, 0.        ],\n",
       "       [0.        , 0.        , 0.        , 0.        , 0.        ,\n",
       "        0.        , 0.        , 0.        , 0.        , 0.        ,\n",
       "        0.        , 0.        , 0.        , 0.71764706, 0.88235294,\n",
       "        0.84705882, 0.8745098 , 0.89411765, 0.92156863, 0.89019608,\n",
       "        0.87843137, 0.87058824, 0.87843137, 0.86666667, 0.8745098 ,\n",
       "        0.96078431, 0.67843137, 0.        ],\n",
       "       [0.        , 0.        , 0.        , 0.        , 0.        ,\n",
       "        0.        , 0.        , 0.        , 0.        , 0.        ,\n",
       "        0.        , 0.        , 0.        , 0.75686275, 0.89411765,\n",
       "        0.85490196, 0.83529412, 0.77647059, 0.70588235, 0.83137255,\n",
       "        0.82352941, 0.82745098, 0.83529412, 0.8745098 , 0.8627451 ,\n",
       "        0.95294118, 0.79215686, 0.        ],\n",
       "       [0.        , 0.        , 0.        , 0.        , 0.        ,\n",
       "        0.        , 0.        , 0.        , 0.        , 0.00392157,\n",
       "        0.01176471, 0.        , 0.04705882, 0.85882353, 0.8627451 ,\n",
       "        0.83137255, 0.85490196, 0.75294118, 0.6627451 , 0.89019608,\n",
       "        0.81568627, 0.85490196, 0.87843137, 0.83137255, 0.88627451,\n",
       "        0.77254902, 0.81960784, 0.20392157],\n",
       "       [0.        , 0.        , 0.        , 0.        , 0.        ,\n",
       "        0.        , 0.        , 0.        , 0.        , 0.        ,\n",
       "        0.02352941, 0.        , 0.38823529, 0.95686275, 0.87058824,\n",
       "        0.8627451 , 0.85490196, 0.79607843, 0.77647059, 0.86666667,\n",
       "        0.84313725, 0.83529412, 0.87058824, 0.8627451 , 0.96078431,\n",
       "        0.46666667, 0.65490196, 0.21960784],\n",
       "       [0.        , 0.        , 0.        , 0.        , 0.        ,\n",
       "        0.        , 0.        , 0.        , 0.        , 0.01568627,\n",
       "        0.        , 0.        , 0.21568627, 0.9254902 , 0.89411765,\n",
       "        0.90196078, 0.89411765, 0.94117647, 0.90980392, 0.83529412,\n",
       "        0.85490196, 0.8745098 , 0.91764706, 0.85098039, 0.85098039,\n",
       "        0.81960784, 0.36078431, 0.        ],\n",
       "       [0.        , 0.        , 0.00392157, 0.01568627, 0.02352941,\n",
       "        0.02745098, 0.00784314, 0.        , 0.        , 0.        ,\n",
       "        0.        , 0.        , 0.92941176, 0.88627451, 0.85098039,\n",
       "        0.8745098 , 0.87058824, 0.85882353, 0.87058824, 0.86666667,\n",
       "        0.84705882, 0.8745098 , 0.89803922, 0.84313725, 0.85490196,\n",
       "        1.        , 0.30196078, 0.        ],\n",
       "       [0.        , 0.01176471, 0.        , 0.        , 0.        ,\n",
       "        0.        , 0.        , 0.        , 0.        , 0.24313725,\n",
       "        0.56862745, 0.8       , 0.89411765, 0.81176471, 0.83529412,\n",
       "        0.86666667, 0.85490196, 0.81568627, 0.82745098, 0.85490196,\n",
       "        0.87843137, 0.8745098 , 0.85882353, 0.84313725, 0.87843137,\n",
       "        0.95686275, 0.62352941, 0.        ],\n",
       "       [0.        , 0.        , 0.        , 0.        , 0.07058824,\n",
       "        0.17254902, 0.32156863, 0.41960784, 0.74117647, 0.89411765,\n",
       "        0.8627451 , 0.87058824, 0.85098039, 0.88627451, 0.78431373,\n",
       "        0.80392157, 0.82745098, 0.90196078, 0.87843137, 0.91764706,\n",
       "        0.69019608, 0.7372549 , 0.98039216, 0.97254902, 0.91372549,\n",
       "        0.93333333, 0.84313725, 0.        ],\n",
       "       [0.        , 0.22352941, 0.73333333, 0.81568627, 0.87843137,\n",
       "        0.86666667, 0.87843137, 0.81568627, 0.8       , 0.83921569,\n",
       "        0.81568627, 0.81960784, 0.78431373, 0.62352941, 0.96078431,\n",
       "        0.75686275, 0.80784314, 0.8745098 , 1.        , 1.        ,\n",
       "        0.86666667, 0.91764706, 0.86666667, 0.82745098, 0.8627451 ,\n",
       "        0.90980392, 0.96470588, 0.        ],\n",
       "       [0.01176471, 0.79215686, 0.89411765, 0.87843137, 0.86666667,\n",
       "        0.82745098, 0.82745098, 0.83921569, 0.80392157, 0.80392157,\n",
       "        0.80392157, 0.8627451 , 0.94117647, 0.31372549, 0.58823529,\n",
       "        1.        , 0.89803922, 0.86666667, 0.7372549 , 0.60392157,\n",
       "        0.74901961, 0.82352941, 0.8       , 0.81960784, 0.87058824,\n",
       "        0.89411765, 0.88235294, 0.        ],\n",
       "       [0.38431373, 0.91372549, 0.77647059, 0.82352941, 0.87058824,\n",
       "        0.89803922, 0.89803922, 0.91764706, 0.97647059, 0.8627451 ,\n",
       "        0.76078431, 0.84313725, 0.85098039, 0.94509804, 0.25490196,\n",
       "        0.28627451, 0.41568627, 0.45882353, 0.65882353, 0.85882353,\n",
       "        0.86666667, 0.84313725, 0.85098039, 0.8745098 , 0.8745098 ,\n",
       "        0.87843137, 0.89803922, 0.11372549],\n",
       "       [0.29411765, 0.8       , 0.83137255, 0.8       , 0.75686275,\n",
       "        0.80392157, 0.82745098, 0.88235294, 0.84705882, 0.7254902 ,\n",
       "        0.77254902, 0.80784314, 0.77647059, 0.83529412, 0.94117647,\n",
       "        0.76470588, 0.89019608, 0.96078431, 0.9372549 , 0.8745098 ,\n",
       "        0.85490196, 0.83137255, 0.81960784, 0.87058824, 0.8627451 ,\n",
       "        0.86666667, 0.90196078, 0.2627451 ],\n",
       "       [0.18823529, 0.79607843, 0.71764706, 0.76078431, 0.83529412,\n",
       "        0.77254902, 0.7254902 , 0.74509804, 0.76078431, 0.75294118,\n",
       "        0.79215686, 0.83921569, 0.85882353, 0.86666667, 0.8627451 ,\n",
       "        0.9254902 , 0.88235294, 0.84705882, 0.78039216, 0.80784314,\n",
       "        0.72941176, 0.70980392, 0.69411765, 0.6745098 , 0.70980392,\n",
       "        0.80392157, 0.80784314, 0.45098039],\n",
       "       [0.        , 0.47843137, 0.85882353, 0.75686275, 0.70196078,\n",
       "        0.67058824, 0.71764706, 0.76862745, 0.8       , 0.82352941,\n",
       "        0.83529412, 0.81176471, 0.82745098, 0.82352941, 0.78431373,\n",
       "        0.76862745, 0.76078431, 0.74901961, 0.76470588, 0.74901961,\n",
       "        0.77647059, 0.75294118, 0.69019608, 0.61176471, 0.65490196,\n",
       "        0.69411765, 0.82352941, 0.36078431],\n",
       "       [0.        , 0.        , 0.29019608, 0.74117647, 0.83137255,\n",
       "        0.74901961, 0.68627451, 0.6745098 , 0.68627451, 0.70980392,\n",
       "        0.7254902 , 0.7372549 , 0.74117647, 0.7372549 , 0.75686275,\n",
       "        0.77647059, 0.8       , 0.81960784, 0.82352941, 0.82352941,\n",
       "        0.82745098, 0.7372549 , 0.7372549 , 0.76078431, 0.75294118,\n",
       "        0.84705882, 0.66666667, 0.        ],\n",
       "       [0.00784314, 0.        , 0.        , 0.        , 0.25882353,\n",
       "        0.78431373, 0.87058824, 0.92941176, 0.9372549 , 0.94901961,\n",
       "        0.96470588, 0.95294118, 0.95686275, 0.86666667, 0.8627451 ,\n",
       "        0.75686275, 0.74901961, 0.70196078, 0.71372549, 0.71372549,\n",
       "        0.70980392, 0.69019608, 0.65098039, 0.65882353, 0.38823529,\n",
       "        0.22745098, 0.        , 0.        ],\n",
       "       [0.        , 0.        , 0.        , 0.        , 0.        ,\n",
       "        0.        , 0.        , 0.15686275, 0.23921569, 0.17254902,\n",
       "        0.28235294, 0.16078431, 0.1372549 , 0.        , 0.        ,\n",
       "        0.        , 0.        , 0.        , 0.        , 0.        ,\n",
       "        0.        , 0.        , 0.        , 0.        , 0.        ,\n",
       "        0.        , 0.        , 0.        ],\n",
       "       [0.        , 0.        , 0.        , 0.        , 0.        ,\n",
       "        0.        , 0.        , 0.        , 0.        , 0.        ,\n",
       "        0.        , 0.        , 0.        , 0.        , 0.        ,\n",
       "        0.        , 0.        , 0.        , 0.        , 0.        ,\n",
       "        0.        , 0.        , 0.        , 0.        , 0.        ,\n",
       "        0.        , 0.        , 0.        ],\n",
       "       [0.        , 0.        , 0.        , 0.        , 0.        ,\n",
       "        0.        , 0.        , 0.        , 0.        , 0.        ,\n",
       "        0.        , 0.        , 0.        , 0.        , 0.        ,\n",
       "        0.        , 0.        , 0.        , 0.        , 0.        ,\n",
       "        0.        , 0.        , 0.        , 0.        , 0.        ,\n",
       "        0.        , 0.        , 0.        ]])"
      ]
     },
     "execution_count": 15,
     "metadata": {},
     "output_type": "execute_result"
    }
   ],
   "source": [
    "x_train[0]"
   ]
  },
  {
   "cell_type": "markdown",
   "metadata": {
    "colab_type": "text",
    "id": "zJBn1S-nUQqC"
   },
   "source": [
    "Los valores de van de cero a uno, pues hemos hecha esa transformación, ya que es necesaria para trabajar con los modelos que vamos a aplicar mas adelante. Cuanto el valor este mas cerca de cero mas negro será y cuanto mas aproximado a uno sea, mas blanco será el pixel."
   ]
  },
  {
   "cell_type": "code",
   "execution_count": 16,
   "metadata": {
    "colab": {
     "base_uri": "https://localhost:8080/",
     "height": 35
    },
    "colab_type": "code",
    "executionInfo": {
     "elapsed": 3563,
     "status": "ok",
     "timestamp": 1589393117758,
     "user": {
      "displayName": "Jose Alcaide",
      "photoUrl": "https://lh3.googleusercontent.com/a-/AOh14Gh0oUNuML9-DLG8N62UMYSReO9bvu-Is30bpWCJ=s64",
      "userId": "15022740438935184894"
     },
     "user_tz": -120
    },
    "id": "vYzFK4OrIz0k",
    "outputId": "791c18c0-3eb3-4698-efdb-bb2cd116bdd6"
   },
   "outputs": [
    {
     "data": {
      "text/plain": [
       "array([9, 0, 0, ..., 3, 0, 5], dtype=uint8)"
      ]
     },
     "execution_count": 16,
     "metadata": {},
     "output_type": "execute_result"
    }
   ],
   "source": [
    "y_train "
   ]
  },
  {
   "cell_type": "markdown",
   "metadata": {
    "colab_type": "text",
    "id": "q1Xi4BxGS6ix"
   },
   "source": [
    "Los valores que tiene la variable y_train ,en realidad representa a la clase que pertenece la inagen, es decir las etiquetas para clasificar y van del 0 al 9 y corresponden a los siguientes articulos:\n",
    "  * 0 =\tT-shirt/top\n",
    "  * 1 = Trouser\n",
    "  * 2 = Pullover\n",
    "  * 3 = Dress\n",
    "  * 4 = Coat\n",
    "  * 5 = Sandal\n",
    "  * 6 = Shirt\n",
    "  * 7 = Sneaker\n",
    "  * 8 = Bag\n",
    "  * 9 = Ankle Boot\n"
   ]
  },
  {
   "cell_type": "code",
   "execution_count": 17,
   "metadata": {
    "colab": {
     "base_uri": "https://localhost:8080/",
     "height": 35
    },
    "colab_type": "code",
    "executionInfo": {
     "elapsed": 3248,
     "status": "ok",
     "timestamp": 1589393117759,
     "user": {
      "displayName": "Jose Alcaide",
      "photoUrl": "https://lh3.googleusercontent.com/a-/AOh14Gh0oUNuML9-DLG8N62UMYSReO9bvu-Is30bpWCJ=s64",
      "userId": "15022740438935184894"
     },
     "user_tz": -120
    },
    "id": "QTwILTMWUIuX",
    "outputId": "47fce182-f804-4f7d-c307-8ad2b9175aa2"
   },
   "outputs": [
    {
     "data": {
      "text/plain": [
       "array([9, 2, 1, ..., 8, 1, 5], dtype=uint8)"
      ]
     },
     "execution_count": 17,
     "metadata": {},
     "output_type": "execute_result"
    }
   ],
   "source": [
    "y_test"
   ]
  },
  {
   "cell_type": "code",
   "execution_count": 18,
   "metadata": {
    "colab": {
     "base_uri": "https://localhost:8080/",
     "height": 35
    },
    "colab_type": "code",
    "executionInfo": {
     "elapsed": 2984,
     "status": "ok",
     "timestamp": 1589393117759,
     "user": {
      "displayName": "Jose Alcaide",
      "photoUrl": "https://lh3.googleusercontent.com/a-/AOh14Gh0oUNuML9-DLG8N62UMYSReO9bvu-Is30bpWCJ=s64",
      "userId": "15022740438935184894"
     },
     "user_tz": -120
    },
    "id": "UEuARD3yOQAL",
    "outputId": "1724f69d-068e-4dc3-e423-52bd3e6c3511"
   },
   "outputs": [
    {
     "data": {
      "text/plain": [
       "60000"
      ]
     },
     "execution_count": 18,
     "metadata": {},
     "output_type": "execute_result"
    }
   ],
   "source": [
    "len(y_train)"
   ]
  },
  {
   "cell_type": "code",
   "execution_count": 19,
   "metadata": {
    "colab": {
     "base_uri": "https://localhost:8080/",
     "height": 35
    },
    "colab_type": "code",
    "executionInfo": {
     "elapsed": 2761,
     "status": "ok",
     "timestamp": 1589393117760,
     "user": {
      "displayName": "Jose Alcaide",
      "photoUrl": "https://lh3.googleusercontent.com/a-/AOh14Gh0oUNuML9-DLG8N62UMYSReO9bvu-Is30bpWCJ=s64",
      "userId": "15022740438935184894"
     },
     "user_tz": -120
    },
    "id": "hfXIWLMCUu2B",
    "outputId": "e5140aac-8848-4e23-d257-cf5c9e4f8d5b"
   },
   "outputs": [
    {
     "data": {
      "text/plain": [
       "10000"
      ]
     },
     "execution_count": 19,
     "metadata": {},
     "output_type": "execute_result"
    }
   ],
   "source": [
    "len(y_test)"
   ]
  },
  {
   "cell_type": "markdown",
   "metadata": {
    "colab_type": "text",
    "id": "HPNa3nH0wmMn"
   },
   "source": [
    "Vamos a **visualizar** una imagen de ejemplo. Prueba tu mismo a cambiar la imagen en uso para explorar el dataset visualmente ejecutando el siguiente código:"
   ]
  },
  {
   "cell_type": "code",
   "execution_count": 20,
   "metadata": {
    "colab": {},
    "colab_type": "code",
    "id": "WlQx9uk3wmMn"
   },
   "outputs": [],
   "source": [
    "def visualize_example(x):\n",
    "    plt.figure()\n",
    "    plt.imshow(x)\n",
    "    plt.colorbar()\n",
    "    plt.grid(False)\n",
    "    plt.show()"
   ]
  },
  {
   "cell_type": "code",
   "execution_count": 21,
   "metadata": {
    "colab": {
     "base_uri": "https://localhost:8080/",
     "height": 269
    },
    "colab_type": "code",
    "executionInfo": {
     "elapsed": 2310,
     "status": "ok",
     "timestamp": 1589393117760,
     "user": {
      "displayName": "Jose Alcaide",
      "photoUrl": "https://lh3.googleusercontent.com/a-/AOh14Gh0oUNuML9-DLG8N62UMYSReO9bvu-Is30bpWCJ=s64",
      "userId": "15022740438935184894"
     },
     "user_tz": -120
    },
    "id": "YTHt4fd2wmMp",
    "outputId": "a26b0200-b9f8-4da3-bff6-b883dfd6563b"
   },
   "outputs": [
    {
     "data": {
      "image/png": "[encoded data removed]",
      "text/plain": [
       "<Figure size 432x288 with 2 Axes>"
      ]
     },
     "metadata": {
      "needs_background": "light"
     },
     "output_type": "display_data"
    }
   ],
   "source": [
    "visualize_example(x_train[5000])"
   ]
  },
  {
   "cell_type": "code",
   "execution_count": 22,
   "metadata": {
    "colab": {
     "base_uri": "https://localhost:8080/",
     "height": 269
    },
    "colab_type": "code",
    "executionInfo": {
     "elapsed": 2058,
     "status": "ok",
     "timestamp": 1589393117761,
     "user": {
      "displayName": "Jose Alcaide",
      "photoUrl": "https://lh3.googleusercontent.com/a-/AOh14Gh0oUNuML9-DLG8N62UMYSReO9bvu-Is30bpWCJ=s64",
      "userId": "15022740438935184894"
     },
     "user_tz": -120
    },
    "id": "DwB6r3gSVVHk",
    "outputId": "8ff61e7c-d324-41a5-cad3-9053ce397083"
   },
   "outputs": [
    {
     "data": {
      "image/png": "[encoded data removed]",
      "text/plain": [
       "<Figure size 432x288 with 2 Axes>"
      ]
     },
     "metadata": {
      "needs_background": "light"
     },
     "output_type": "display_data"
    }
   ],
   "source": [
    "visualize_example(x_train[300])"
   ]
  },
  {
   "cell_type": "markdown",
   "metadata": {
    "colab_type": "text",
    "id": "BeciH8Cp7wrZ"
   },
   "source": [
    "* Queremos ver con mas detalles algunas imágenes más. Para ver que son."
   ]
  },
  {
   "cell_type": "code",
   "execution_count": 23,
   "metadata": {
    "colab": {},
    "colab_type": "code",
    "id": "ZDQ1oXnpOsot"
   },
   "outputs": [],
   "source": [
    "nombre_objetos = ['T-shirt/top', 'Trouser', 'Pullover', 'Dress', 'Coat',\n",
    "               'Sandal', 'Shirt', 'Sneaker', 'Bag', 'Ankle boot']"
   ]
  },
  {
   "cell_type": "code",
   "execution_count": 24,
   "metadata": {
    "colab": {
     "base_uri": "https://localhost:8080/",
     "height": 589
    },
    "colab_type": "code",
    "executionInfo": {
     "elapsed": 2694,
     "status": "ok",
     "timestamp": 1589393118924,
     "user": {
      "displayName": "Jose Alcaide",
      "photoUrl": "https://lh3.googleusercontent.com/a-/AOh14Gh0oUNuML9-DLG8N62UMYSReO9bvu-Is30bpWCJ=s64",
      "userId": "15022740438935184894"
     },
     "user_tz": -120
    },
    "id": "jfwhWKkULk87",
    "outputId": "69ab56bb-bb04-487f-fe8f-2cd7a9a305b1"
   },
   "outputs": [
    {
     "data": {
      "image/png": "[encoded data removed]",
      "text/plain": [
       "<Figure size 720x720 with 25 Axes>"
      ]
     },
     "metadata": {},
     "output_type": "display_data"
    }
   ],
   "source": [
    "plt.figure(figsize=(10,10))\n",
    "for i in range(25):\n",
    "    plt.subplot(5,5,i+1)\n",
    "    plt.xticks([])\n",
    "    plt.yticks([])\n",
    "    plt.grid(False)\n",
    "    plt.imshow(x_train[i], cmap=plt.cm.binary)\n",
    "    plt.xlabel(nombre_objetos[y_train[i]])\n",
    "plt.show()"
   ]
  },
  {
   "cell_type": "markdown",
   "metadata": {
    "colab_type": "text",
    "id": "peoL2NzWViDq"
   },
   "source": [
    "* Es otra forma de ver mas imagenes del dataset, en este ejemplo accedemos a las 50 primeras y le indicamos a que grupo de imagen perntenece."
   ]
  },
  {
   "cell_type": "markdown",
   "metadata": {
    "colab_type": "text",
    "id": "USVefNOIwmMt"
   },
   "source": [
    "## 2. Entrenamiento de una red neuronal simple"
   ]
  },
  {
   "cell_type": "markdown",
   "metadata": {
    "colab_type": "text",
    "id": "sSWjUeOdwmMt"
   },
   "source": [
    "**Pregunta 2 *(3.5 puntos)***. Utilizando Keras, y preparando los datos de X e y como fuera necesario, define y entrena una red neuronal que sea capaz de clasificar imágenes de Fashion MNIST con las siguientes características:\n",
    "\n",
    "* Dos hidden layers de tamaños 128 y 64, utilizando unidades **sigmoid**\n",
    "* Optimizador **sgd**.\n",
    "* Durante el entrenamiento, la red tiene que mostrar resultados de **loss** y **accuracy** por cada epoch.\n",
    "* La red debe entrenar durante **20 epochs** y batch size de **64**.\n",
    "* La última capa debe de ser una capa **softmax**.\n",
    "\n",
    "Tu red tendría que ser capaz de superar fácilmente 60% de accuracy."
   ]
  },
  {
   "cell_type": "code",
   "execution_count": 27,
   "metadata": {
    "colab": {},
    "colab_type": "code",
    "id": "D0e93NKgniax"
   },
   "outputs": [],
   "source": [
    "model_1 = keras.Sequential([\n",
    "    keras.layers.Flatten(input_shape=(28, 28)),\n",
    "    keras.layers.Dense(128, activation='sigmoid'),\n",
    "    keras.layers.Dense(64, activation='sigmoid'),\n",
    "    keras.layers.Dense(10, activation='softmax')\n",
    "])\n"
   ]
  },
  {
   "cell_type": "markdown",
   "metadata": {
    "colab_type": "text",
    "id": "SY9zWqaKtesq"
   },
   "source": [
    "# Creción del modelo\n"
   ]
  },
  {
   "cell_type": "markdown",
   "metadata": {
    "colab_type": "text",
    "id": "0orSzG5nroBx"
   },
   "source": [
    "* Keras dispone de dos estilos de API: Secuencial y Funcional. Elegimos la primera porque es un estilo mas sencillo y directo.\n",
    "* La primera capa del modelo ' keras.layers.Flatten(input_shape=(28, 28))', lo que esta haciendo es transformar el formato original de las imagenes bidimensional, a un formato unidimensional para que podamos trabajar con ellas.\n",
    "* Las otras capas 'Dense', ocultas, estan totalmente conectadas unas con otras. La primera capa tiene 128 neuronas, la segunda contiene 64 nodos o neuronas, y la tercera y última tiene 10 nodos, por que son los tipos de o clases de objetos a etiquetar.\n",
    "* Cada capa necesita una función de activación para poder realizar el Backpropagation, en las dos priemeras usamos la sigmoid y en la ultima utilizaremos la activacion softmax, que es la mas usada en estos casos de clasificación donde solo una etiqueta es la vlida y son mutuamente excluyentes, es decir, una imagen no puede peretener a dos clases de objetos"
   ]
  },
  {
   "cell_type": "code",
   "execution_count": 28,
   "metadata": {
    "colab": {},
    "colab_type": "code",
    "id": "1tspF9ilnhRS"
   },
   "outputs": [],
   "source": [
    "\n",
    "model_1.compile(optimizer='sgd',\n",
    "              loss='sparse_categorical_crossentropy',\n",
    "              metrics=['accuracy'])\n"
   ]
  },
  {
   "cell_type": "markdown",
   "metadata": {
    "colab_type": "text",
    "id": "qK20HVfInz82"
   },
   "source": [
    "# Compilación del modelo"
   ]
  },
  {
   "cell_type": "markdown",
   "metadata": {
    "colab_type": "text",
    "id": "-3AbArEOtoC2"
   },
   "source": [
    "* \"loss\", mide el resultado del modelo en referencia a su exactitud (accuracy) durante el entrenamiento del mismo. La idea es minimizar esta función de pérdida.Esta función de coste debe ser diferenciable pues vamos a usar el algoritmo de *gradient descent* \n",
    "* \"Optimizer\", es cómo el modelo se actualiza basado en el conjunto de test, en nuestro caso, en la segunda parte de la actividad, se basa en el conjunto de validación de los datos con la función de pérdida descrita arriba.\n",
    "* \"Metrics\", se usan para cuantificar la bondad del modelo. Vamos a usar Accuracy. Es el cociente entre el número de predicciones correctas y número de predicciones totales. Es el más usado para problemas de clasificación. También se le conoce con el nombre de Exactitud."
   ]
  },
  {
   "cell_type": "code",
   "execution_count": 29,
   "metadata": {
    "colab": {
     "base_uri": "https://localhost:8080/",
     "height": 763
    },
    "colab_type": "code",
    "executionInfo": {
     "elapsed": 53516,
     "status": "ok",
     "timestamp": 1589393170454,
     "user": {
      "displayName": "Jose Alcaide",
      "photoUrl": "https://lh3.googleusercontent.com/a-/AOh14Gh0oUNuML9-DLG8N62UMYSReO9bvu-Is30bpWCJ=s64",
      "userId": "15022740438935184894"
     },
     "user_tz": -120
    },
    "id": "xq_gzT8znnkP",
    "outputId": "1824323c-b7a0-4528-9f7a-88c95bd80688"
   },
   "outputs": [
    {
     "name": "stdout",
     "output_type": "stream",
     "text": [
      "Epoch 1/20\n",
      "60000/60000 [==============================] - 3s 53us/step - loss: 2.2162 - accuracy: 0.3680\n",
      "Epoch 2/20\n",
      "60000/60000 [==============================] - 2s 41us/step - loss: 1.8718 - accuracy: 0.5610\n",
      "Epoch 3/20\n",
      "60000/60000 [==============================] - 6s 93us/step - loss: 1.4678 - accuracy: 0.5900\n",
      "Epoch 4/20\n",
      "60000/60000 [==============================] - 3s 44us/step - loss: 1.2125 - accuracy: 0.6320\n",
      "Epoch 5/20\n",
      "60000/60000 [==============================] - 5s 85us/step - loss: 1.0585 - accuracy: 0.6666 \n",
      "Epoch 6/20\n",
      "60000/60000 [==============================] - 3s 43us/step - loss: 0.9553 - accuracy: 0.6921\n",
      "Epoch 7/20\n",
      "60000/60000 [==============================] - 2s 42us/step - loss: 0.8799 - accuracy: 0.7096\n",
      "Epoch 8/20\n",
      "60000/60000 [==============================] - 4s 67us/step - loss: 0.8218 - accuracy: 0.7235\n",
      "Epoch 9/20\n",
      "60000/60000 [==============================] - 3s 45us/step - loss: 0.7757 - accuracy: 0.7337\n",
      "Epoch 10/20\n",
      "60000/60000 [==============================] - 5s 78us/step - loss: 0.7388 - accuracy: 0.7411\n",
      "Epoch 11/20\n",
      "60000/60000 [==============================] - 2s 40us/step - loss: 0.7087 - accuracy: 0.7498\n",
      "Epoch 12/20\n",
      "60000/60000 [==============================] - 2s 39us/step - loss: 0.6840 - accuracy: 0.7551\n",
      "Epoch 13/20\n",
      "60000/60000 [==============================] - 5s 90us/step - loss: 0.6631 - accuracy: 0.7606\n",
      "Epoch 14/20\n",
      "60000/60000 [==============================] - 3s 42us/step - loss: 0.6457 - accuracy: 0.7661\n",
      "Epoch 15/20\n",
      "60000/60000 [==============================] - 3s 50us/step - loss: 0.6304 - accuracy: 0.7718\n",
      "Epoch 16/20\n",
      "60000/60000 [==============================] - 4s 69us/step - loss: 0.6168 - accuracy: 0.7761\n",
      "Epoch 17/20\n",
      "60000/60000 [==============================] - 2s 41us/step - loss: 0.6043 - accuracy: 0.7818\n",
      "Epoch 18/20\n",
      "60000/60000 [==============================] - 6s 96us/step - loss: 0.5930 - accuracy: 0.7866\n",
      "Epoch 19/20\n",
      "60000/60000 [==============================] - 3s 45us/step - loss: 0.5823 - accuracy: 0.7915\n",
      "Epoch 20/20\n",
      "60000/60000 [==============================] - 3s 54us/step - loss: 0.5724 - accuracy: 0.7951\n"
     ]
    },
    {
     "data": {
      "text/plain": [
       "<keras.callbacks.callbacks.History at 0x281aa5ef888>"
      ]
     },
     "execution_count": 29,
     "metadata": {},
     "output_type": "execute_result"
    }
   ],
   "source": [
    "model_1.fit(x_train, y_train, epochs=20, batch_size= 64)"
   ]
  },
  {
   "cell_type": "markdown",
   "metadata": {
    "colab_type": "text",
    "id": "FgQM7Nlxn3SA"
   },
   "source": [
    "# Entrenamiento del modelo"
   ]
  },
  {
   "cell_type": "markdown",
   "metadata": {
    "colab_type": "text",
    "id": "P7g75qrCu5bE"
   },
   "source": [
    "* Con los datos de entrenamiento, y sus etiquetas asocidas, es decir con x_train e y_train entrenamos el modelo. \n",
    "* El modelo aprende a asociar imagenes con etiquetas.\n",
    "* Le indicamos que no coja todo el dataset de entrenamiento, sino que coja lotes de 64 imagenes (batch_size), para reducir la capacidad de memoria, pero que no se repita ninguna imagen en bachs distintos y la elección es de las mismas es al azar.\n",
    "* Otro parametro es el número de vueltas completas que le daremos al conjunto de datos, epochs, que en nuestro caso es 20. Cada vuelta los bach son distintos."
   ]
  },
  {
   "cell_type": "code",
   "execution_count": 30,
   "metadata": {
    "colab": {
     "base_uri": "https://localhost:8080/",
     "height": 308
    },
    "colab_type": "code",
    "executionInfo": {
     "elapsed": 53288,
     "status": "ok",
     "timestamp": 1589393170455,
     "user": {
      "displayName": "Jose Alcaide",
      "photoUrl": "https://lh3.googleusercontent.com/a-/AOh14Gh0oUNuML9-DLG8N62UMYSReO9bvu-Is30bpWCJ=s64",
      "userId": "15022740438935184894"
     },
     "user_tz": -120
    },
    "id": "HWMH24KOaBY_",
    "outputId": "6c7f5bfd-100d-4b81-e22d-239e2d2f277c"
   },
   "outputs": [
    {
     "name": "stdout",
     "output_type": "stream",
     "text": [
      "Model: \"sequential_2\"\n",
      "_________________________________________________________________\n",
      "Layer (type)                 Output Shape              Param #   \n",
      "=================================================================\n",
      "flatten_2 (Flatten)          (None, 784)               0         \n",
      "_________________________________________________________________\n",
      "dense_4 (Dense)              (None, 128)               100480    \n",
      "_________________________________________________________________\n",
      "dense_5 (Dense)              (None, 64)                8256      \n",
      "_________________________________________________________________\n",
      "dense_6 (Dense)              (None, 10)                650       \n",
      "=================================================================\n",
      "Total params: 109,386\n",
      "Trainable params: 109,386\n",
      "Non-trainable params: 0\n",
      "_________________________________________________________________\n"
     ]
    }
   ],
   "source": [
    "model_1.summary()"
   ]
  },
  {
   "cell_type": "markdown",
   "metadata": {
    "colab_type": "text",
    "id": "ik6CWkXSn8Dl"
   },
   "source": [
    "* Resumen del primer modelo, es del tipo secuencial,en el cual nos indica el numero de parametros totales buscar (109.386), el número de neuronas por capa 784, 128, 64, 10 respectivamente y el número de parametros a calcular por capas 1004.480, 8256 y 650 respectivamente. Teniendo en cuenta que en la primera capa de entrada no hay que calcular parametros."
   ]
  },
  {
   "cell_type": "code",
   "execution_count": 31,
   "metadata": {
    "colab": {
     "base_uri": "https://localhost:8080/",
     "height": 763
    },
    "colab_type": "code",
    "executionInfo": {
     "elapsed": 93568,
     "status": "ok",
     "timestamp": 1589393211008,
     "user": {
      "displayName": "Jose Alcaide",
      "photoUrl": "https://lh3.googleusercontent.com/a-/AOh14Gh0oUNuML9-DLG8N62UMYSReO9bvu-Is30bpWCJ=s64",
      "userId": "15022740438935184894"
     },
     "user_tz": -120
    },
    "id": "kCczeiHwlytz",
    "outputId": "29f21f14-710a-4063-cdd5-e4542985150a"
   },
   "outputs": [
    {
     "name": "stdout",
     "output_type": "stream",
     "text": [
      "Epoch 1/20\n",
      "60000/60000 [==============================] - 2s 37us/step - loss: 0.8943 - accuracy: 0.7089\n",
      "Epoch 2/20\n",
      "60000/60000 [==============================] - 3s 47us/step - loss: 0.5584 - accuracy: 0.8088\n",
      "Epoch 3/20\n",
      "60000/60000 [==============================] - 5s 87us/step - loss: 0.4995 - accuracy: 0.8279\n",
      "Epoch 4/20\n",
      "60000/60000 [==============================] - 2s 40us/step - loss: 0.4689 - accuracy: 0.8371\n",
      "Epoch 5/20\n",
      "60000/60000 [==============================] - 5s 80us/step - loss: 0.4486 - accuracy: 0.8428\n",
      "Epoch 6/20\n",
      "60000/60000 [==============================] - 3s 46us/step - loss: 0.4310 - accuracy: 0.8497\n",
      "Epoch 7/20\n",
      "60000/60000 [==============================] - 3s 45us/step - loss: 0.4184 - accuracy: 0.8541\n",
      "Epoch 8/20\n",
      "60000/60000 [==============================] - 5s 92us/step - loss: 0.4073 - accuracy: 0.8570\n",
      "Epoch 9/20\n",
      "60000/60000 [==============================] - 2s 40us/step - loss: 0.3988 - accuracy: 0.8609\n",
      "Epoch 10/20\n",
      "60000/60000 [==============================] - 5s 82us/step - loss: 0.3889 - accuracy: 0.8632\n",
      "Epoch 11/20\n",
      "60000/60000 [==============================] - 3s 44us/step - loss: 0.3810 - accuracy: 0.8658\n",
      "Epoch 12/20\n",
      "60000/60000 [==============================] - 2s 41us/step - loss: 0.3751 - accuracy: 0.8676\n",
      "Epoch 13/20\n",
      "60000/60000 [==============================] - 5s 91us/step - loss: 0.3688 - accuracy: 0.8708\n",
      "Epoch 14/20\n",
      "60000/60000 [==============================] - 2s 40us/step - loss: 0.3631 - accuracy: 0.8717\n",
      "Epoch 15/20\n",
      "60000/60000 [==============================] - 5s 80us/step - loss: 0.3568 - accuracy: 0.8744\n",
      "Epoch 16/20\n",
      "60000/60000 [==============================] - 2s 40us/step - loss: 0.3515 - accuracy: 0.8760\n",
      "Epoch 17/20\n",
      "60000/60000 [==============================] - 3s 44us/step - loss: 0.3475 - accuracy: 0.8772\n",
      "Epoch 18/20\n",
      "60000/60000 [==============================] - 6s 93us/step - loss: 0.3436 - accuracy: 0.8787\n",
      "Epoch 19/20\n",
      "60000/60000 [==============================] - 3s 42us/step - loss: 0.3388 - accuracy: 0.8802\n",
      "Epoch 20/20\n",
      "60000/60000 [==============================] - 5s 77us/step - loss: 0.3341 - accuracy: 0.8816\n"
     ]
    },
    {
     "data": {
      "text/plain": [
       "<keras.callbacks.callbacks.History at 0x281ab6c3108>"
      ]
     },
     "execution_count": 31,
     "metadata": {},
     "output_type": "execute_result"
    }
   ],
   "source": [
    "model_2 = keras.Sequential([\n",
    "    keras.layers.Flatten(input_shape=(28, 28)),\n",
    "    keras.layers.Dense(128, activation='relu'),\n",
    "    keras.layers.Dense(64, activation='relu'),\n",
    "    keras.layers.Dense(10, activation='softmax')\n",
    "])\n",
    "\n",
    "\n",
    "model_2.compile(optimizer='sgd',\n",
    "              loss='sparse_categorical_crossentropy',\n",
    "              metrics=['accuracy'])\n",
    "\n",
    "model_2.fit(x_train, y_train, epochs=20, batch_size= 64, shuffle=True)"
   ]
  },
  {
   "cell_type": "code",
   "execution_count": 32,
   "metadata": {
    "colab": {
     "base_uri": "https://localhost:8080/",
     "height": 308
    },
    "colab_type": "code",
    "executionInfo": {
     "elapsed": 93348,
     "status": "ok",
     "timestamp": 1589393211009,
     "user": {
      "displayName": "Jose Alcaide",
      "photoUrl": "https://lh3.googleusercontent.com/a-/AOh14Gh0oUNuML9-DLG8N62UMYSReO9bvu-Is30bpWCJ=s64",
      "userId": "15022740438935184894"
     },
     "user_tz": -120
    },
    "id": "_yYRj8U-mEeF",
    "outputId": "9947feff-4b0d-43d9-e1b7-d1a1e6bb43e8"
   },
   "outputs": [
    {
     "name": "stdout",
     "output_type": "stream",
     "text": [
      "Model: \"sequential_3\"\n",
      "_________________________________________________________________\n",
      "Layer (type)                 Output Shape              Param #   \n",
      "=================================================================\n",
      "flatten_3 (Flatten)          (None, 784)               0         \n",
      "_________________________________________________________________\n",
      "dense_7 (Dense)              (None, 128)               100480    \n",
      "_________________________________________________________________\n",
      "dense_8 (Dense)              (None, 64)                8256      \n",
      "_________________________________________________________________\n",
      "dense_9 (Dense)              (None, 10)                650       \n",
      "=================================================================\n",
      "Total params: 109,386\n",
      "Trainable params: 109,386\n",
      "Non-trainable params: 0\n",
      "_________________________________________________________________\n"
     ]
    }
   ],
   "source": [
    "model_2.summary()"
   ]
  },
  {
   "cell_type": "markdown",
   "metadata": {
    "colab_type": "text",
    "id": "pR2xL1qwkXMk"
   },
   "source": [
    "He realizado dos modelos de red neuronal, usando las exigencias para el ejercicio, pero tan solo cambiando dos parametros, la función de activacion de las dos primeras capas. En el primer caso usando la funcion sigmoid y en el segundo caso usando la función de activación relu. Ademas he considera introducir a la hora entrenar la opción de barajar (shuflle) los datos de entrenamiento, para que la compenente de azar de mayor. Con esto simples cambios veremos a continuacón la mejora a la hora de calcular una medida de exactitud como el accuracy. "
   ]
  },
  {
   "cell_type": "markdown",
   "metadata": {
    "colab_type": "text",
    "id": "CZux6TmvwmMv"
   },
   "source": [
    "## 3. Evaluación del modelo en datos de test"
   ]
  },
  {
   "cell_type": "markdown",
   "metadata": {
    "colab_type": "text",
    "id": "0SzHBkzrwmMw"
   },
   "source": [
    "Una vez hemos entrenado nuestro modelo, vamos a evaluarlo en los datos de test de Fashion MNIST.\n",
    "\n",
    "**Pregunta 3.1 *(0.5 puntos)***. Utilizando el modelo recién entrenado, obtener la accuracy resultante en el dataset de test."
   ]
  },
  {
   "cell_type": "code",
   "execution_count": 33,
   "metadata": {
    "colab": {
     "base_uri": "https://localhost:8080/",
     "height": 72
    },
    "colab_type": "code",
    "executionInfo": {
     "elapsed": 94120,
     "status": "ok",
     "timestamp": 1589393212052,
     "user": {
      "displayName": "Jose Alcaide",
      "photoUrl": "https://lh3.googleusercontent.com/a-/AOh14Gh0oUNuML9-DLG8N62UMYSReO9bvu-Is30bpWCJ=s64",
      "userId": "15022740438935184894"
     },
     "user_tz": -120
    },
    "id": "9CSLZkW1wmMw",
    "outputId": "da98d734-b9dc-447c-abeb-5ceb12676135"
   },
   "outputs": [
    {
     "name": "stdout",
     "output_type": "stream",
     "text": [
      "10000/10000 [==============================] - 1s 63us/step\n",
      "\n",
      "Test accuracy: 0.7879999876022339\n"
     ]
    }
   ],
   "source": [
    "test_loss, test_acc = model_1.evaluate(x_test,  y_test, verbose=1)\n",
    "\n",
    "print('\\nTest accuracy:', test_acc)"
   ]
  },
  {
   "cell_type": "code",
   "execution_count": 34,
   "metadata": {
    "colab": {
     "base_uri": "https://localhost:8080/",
     "height": 72
    },
    "colab_type": "code",
    "executionInfo": {
     "elapsed": 94325,
     "status": "ok",
     "timestamp": 1589393212456,
     "user": {
      "displayName": "Jose Alcaide",
      "photoUrl": "https://lh3.googleusercontent.com/a-/AOh14Gh0oUNuML9-DLG8N62UMYSReO9bvu-Is30bpWCJ=s64",
      "userId": "15022740438935184894"
     },
     "user_tz": -120
    },
    "id": "r4C430Siml1w",
    "outputId": "fd1b69ad-85d2-43f1-c80e-c0667b440f89"
   },
   "outputs": [
    {
     "name": "stdout",
     "output_type": "stream",
     "text": [
      "10000/10000 [==============================] - 1s 57us/step\n",
      "\n",
      "Test accuracy: 0.8615000247955322\n"
     ]
    }
   ],
   "source": [
    "test_loss, test_acc = model_2.evaluate(x_test,  y_test, verbose=1)\n",
    "\n",
    "print('\\nTest accuracy:', test_acc)"
   ]
  },
  {
   "cell_type": "markdown",
   "metadata": {
    "colab_type": "text",
    "id": "-OIOzDn3pHzq"
   },
   "source": [
    "Existe una mejora a la hora de clasificar las imagenes utilazando el segundo modelo, pues pasamos de un accuracy del 0.78 a 0.86. "
   ]
  },
  {
   "cell_type": "markdown",
   "metadata": {
    "colab_type": "text",
    "id": "ud0JCcZpwmMx"
   },
   "source": [
    "**Pregunta 3.2 *(0.5 puntos)***. Utilizando el método **predict** de Keras, realizar predicciones para los datos de test. Por cada predicción resultante, ¿qué significan los números que obtenemos al hacer predict? ¿Cómo podemos obtener el valor de la clase resultante? (recordar que estamos utilizando una capa softmax para clasificar)."
   ]
  },
  {
   "cell_type": "code",
   "execution_count": 35,
   "metadata": {
    "colab": {},
    "colab_type": "code",
    "id": "0wrXVJJ9wmMy"
   },
   "outputs": [],
   "source": [
    "predictions_1 = model_1.predict(x_test)"
   ]
  },
  {
   "cell_type": "code",
   "execution_count": 36,
   "metadata": {
    "colab": {
     "base_uri": "https://localhost:8080/",
     "height": 72
    },
    "colab_type": "code",
    "executionInfo": {
     "elapsed": 94481,
     "status": "ok",
     "timestamp": 1589393213066,
     "user": {
      "displayName": "Jose Alcaide",
      "photoUrl": "https://lh3.googleusercontent.com/a-/AOh14Gh0oUNuML9-DLG8N62UMYSReO9bvu-Is30bpWCJ=s64",
      "userId": "15022740438935184894"
     },
     "user_tz": -120
    },
    "id": "edgUc9UsGpKi",
    "outputId": "263b016c-7198-4aa6-e66f-09505f28b2cf"
   },
   "outputs": [
    {
     "data": {
      "text/plain": [
       "array([4.0618017e-02, 1.4110273e-01, 2.0571619e-03, 7.9621267e-01,\n",
       "       5.2399305e-03, 2.5710824e-03, 9.6986210e-03, 2.0843281e-03,\n",
       "       2.4455428e-04, 1.7084350e-04], dtype=float32)"
      ]
     },
     "execution_count": 36,
     "metadata": {},
     "output_type": "execute_result"
    }
   ],
   "source": [
    "predictions_1[100]"
   ]
  },
  {
   "cell_type": "markdown",
   "metadata": {
    "colab_type": "text",
    "id": "KpFlbP4Bpwmd"
   },
   "source": [
    "* He pedido, por ejemplo, que me diga la prediccion del modelo para la imagen numero 100, que nos devuelve un array de numeros enteros. Cada numero quiere decir la probabilidad que asigna el modelo a pertenecer a cada clase. El primer valor del array a la derecha corresponde al valor 0 de la etiqueta, el segundo valor corresponde al valor 1 de la etiqueta, y asi sucesivamente. Por ejemplo, el modelo le da una probabilidad de 3.9497469e-02 para pertenecer a la clase 0, que es la calse 'T-shirt/top'. "
   ]
  },
  {
   "cell_type": "code",
   "execution_count": 37,
   "metadata": {
    "colab": {
     "base_uri": "https://localhost:8080/",
     "height": 35
    },
    "colab_type": "code",
    "executionInfo": {
     "elapsed": 94241,
     "status": "ok",
     "timestamp": 1589393213066,
     "user": {
      "displayName": "Jose Alcaide",
      "photoUrl": "https://lh3.googleusercontent.com/a-/AOh14Gh0oUNuML9-DLG8N62UMYSReO9bvu-Is30bpWCJ=s64",
      "userId": "15022740438935184894"
     },
     "user_tz": -120
    },
    "id": "K-wn2gsAGpN-",
    "outputId": "7d894240-b215-427f-8b1e-e9ed87bb211a"
   },
   "outputs": [
    {
     "data": {
      "text/plain": [
       "3"
      ]
     },
     "execution_count": 37,
     "metadata": {},
     "output_type": "execute_result"
    }
   ],
   "source": [
    "np.argmax(predictions_1[100])"
   ]
  },
  {
   "cell_type": "markdown",
   "metadata": {
    "colab_type": "text",
    "id": "GfLNiyL5qu_D"
   },
   "source": [
    "* Para saber que etiqueta le corresponde de todas ellas, cogemos la que tiene mayor probabilidad, en este caso es la que corresponde a la numero 3."
   ]
  },
  {
   "cell_type": "code",
   "execution_count": 38,
   "metadata": {
    "colab": {
     "base_uri": "https://localhost:8080/",
     "height": 35
    },
    "colab_type": "code",
    "executionInfo": {
     "elapsed": 94042,
     "status": "ok",
     "timestamp": 1589393213067,
     "user": {
      "displayName": "Jose Alcaide",
      "photoUrl": "https://lh3.googleusercontent.com/a-/AOh14Gh0oUNuML9-DLG8N62UMYSReO9bvu-Is30bpWCJ=s64",
      "userId": "15022740438935184894"
     },
     "user_tz": -120
    },
    "id": "cQYFUVcvGpRK",
    "outputId": "a6bd6a56-bcce-44de-d355-73652a559055"
   },
   "outputs": [
    {
     "data": {
      "text/plain": [
       "3"
      ]
     },
     "execution_count": 38,
     "metadata": {},
     "output_type": "execute_result"
    }
   ],
   "source": [
    "y_test[100]"
   ]
  },
  {
   "cell_type": "markdown",
   "metadata": {
    "colab_type": "text",
    "id": "BCqUr-s8rBHG"
   },
   "source": [
    "* Verificamos que clasifica bien, pues si observamos el valor real de esa etiqueta nos devuelve el mismo número."
   ]
  },
  {
   "cell_type": "code",
   "execution_count": 39,
   "metadata": {
    "colab": {},
    "colab_type": "code",
    "id": "2J5UDKuHGpVK"
   },
   "outputs": [],
   "source": [
    "predictions_2 = model_2.predict(x_test)"
   ]
  },
  {
   "cell_type": "code",
   "execution_count": 40,
   "metadata": {
    "colab": {
     "base_uri": "https://localhost:8080/",
     "height": 72
    },
    "colab_type": "code",
    "executionInfo": {
     "elapsed": 94364,
     "status": "ok",
     "timestamp": 1589393213991,
     "user": {
      "displayName": "Jose Alcaide",
      "photoUrl": "https://lh3.googleusercontent.com/a-/AOh14Gh0oUNuML9-DLG8N62UMYSReO9bvu-Is30bpWCJ=s64",
      "userId": "15022740438935184894"
     },
     "user_tz": -120
    },
    "id": "4DrN2pzaHFBJ",
    "outputId": "977a24a3-d781-4061-c4a0-94407de4187d"
   },
   "outputs": [
    {
     "data": {
      "text/plain": [
       "array([1.27338397e-04, 9.99291420e-01, 2.54960105e-05, 4.72145039e-04,\n",
       "       8.00012640e-05, 5.84428790e-07, 2.63363791e-06, 3.12302468e-08,\n",
       "       3.32913970e-07, 1.11935154e-08], dtype=float32)"
      ]
     },
     "execution_count": 40,
     "metadata": {},
     "output_type": "execute_result"
    }
   ],
   "source": [
    "predictions_2[200]"
   ]
  },
  {
   "cell_type": "code",
   "execution_count": 41,
   "metadata": {
    "colab": {
     "base_uri": "https://localhost:8080/",
     "height": 35
    },
    "colab_type": "code",
    "executionInfo": {
     "elapsed": 94133,
     "status": "ok",
     "timestamp": 1589393213992,
     "user": {
      "displayName": "Jose Alcaide",
      "photoUrl": "https://lh3.googleusercontent.com/a-/AOh14Gh0oUNuML9-DLG8N62UMYSReO9bvu-Is30bpWCJ=s64",
      "userId": "15022740438935184894"
     },
     "user_tz": -120
    },
    "id": "vlqUar_lHFEt",
    "outputId": "f1eb84ad-2da3-4bf1-cf1a-b76f28db0e3e"
   },
   "outputs": [
    {
     "data": {
      "text/plain": [
       "1"
      ]
     },
     "execution_count": 41,
     "metadata": {},
     "output_type": "execute_result"
    }
   ],
   "source": [
    "np.argmax(predictions_2[200])"
   ]
  },
  {
   "cell_type": "code",
   "execution_count": 42,
   "metadata": {
    "colab": {
     "base_uri": "https://localhost:8080/",
     "height": 35
    },
    "colab_type": "code",
    "executionInfo": {
     "elapsed": 93910,
     "status": "ok",
     "timestamp": 1589393213992,
     "user": {
      "displayName": "Jose Alcaide",
      "photoUrl": "https://lh3.googleusercontent.com/a-/AOh14Gh0oUNuML9-DLG8N62UMYSReO9bvu-Is30bpWCJ=s64",
      "userId": "15022740438935184894"
     },
     "user_tz": -120
    },
    "id": "eGt8RaUzHFIJ",
    "outputId": "1a4912b4-edce-4960-cacf-f4675b8d0cde"
   },
   "outputs": [
    {
     "data": {
      "text/plain": [
       "1"
      ]
     },
     "execution_count": 42,
     "metadata": {},
     "output_type": "execute_result"
    }
   ],
   "source": [
    "y_test[200]"
   ]
  },
  {
   "cell_type": "markdown",
   "metadata": {
    "colab_type": "text",
    "id": "qvirtFSLrLoh"
   },
   "source": [
    "* Realizamos los mismos pasos para el segundo modelo, observamos que tambien clasifica correctamente el ejemplo elegido al azar."
   ]
  },
  {
   "cell_type": "code",
   "execution_count": 0,
   "metadata": {
    "colab": {},
    "colab_type": "code",
    "id": "R-tQTACc_9NH"
   },
   "outputs": [],
   "source": []
  }
 ],
 "metadata": {
  "accelerator": "GPU",
  "colab": {
   "name": "DEF_Actividad_1_Parte_1_Alcaide_Carrera_Jose_Manuel.ipynb",
   "provenance": []
  },
  "kernelspec": {
   "display_name": "Python 3",
   "language": "python",
   "name": "python3"
  },
  "language_info": {
   "codemirror_mode": {
    "name": "ipython",
    "version": 3
   },
   "file_extension": ".py",
   "mimetype": "text/x-python",
   "name": "python",
   "nbconvert_exporter": "python",
   "pygments_lexer": "ipython3",
   "version": "3.7.7"
  }
 },
 "nbformat": 4,
 "nbformat_minor": 1
}
